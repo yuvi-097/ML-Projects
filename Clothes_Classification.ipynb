{
  "nbformat": 4,
  "nbformat_minor": 0,
  "metadata": {
    "colab": {
      "provenance": [],
      "gpuType": "T4"
    },
    "kernelspec": {
      "name": "python3",
      "display_name": "Python 3"
    },
    "language_info": {
      "name": "python"
    },
    "widgets": {
      "application/vnd.jupyter.widget-state+json": {
        "b407f3ceda0347f5b536a1c5c49acbcf": {
          "model_module": "@jupyter-widgets/controls",
          "model_name": "HBoxModel",
          "model_module_version": "1.5.0",
          "state": {
            "_dom_classes": [],
            "_model_module": "@jupyter-widgets/controls",
            "_model_module_version": "1.5.0",
            "_model_name": "HBoxModel",
            "_view_count": null,
            "_view_module": "@jupyter-widgets/controls",
            "_view_module_version": "1.5.0",
            "_view_name": "HBoxView",
            "box_style": "",
            "children": [
              "IPY_MODEL_fc65e6a3e4bf44dca23a2489900c1b1a",
              "IPY_MODEL_2bf78234267448829821da263f75195e",
              "IPY_MODEL_1339512567424d9db83b467c3631eaf8"
            ],
            "layout": "IPY_MODEL_dd601a2741ae436f829ed2ff1546ce43"
          }
        },
        "fc65e6a3e4bf44dca23a2489900c1b1a": {
          "model_module": "@jupyter-widgets/controls",
          "model_name": "HTMLModel",
          "model_module_version": "1.5.0",
          "state": {
            "_dom_classes": [],
            "_model_module": "@jupyter-widgets/controls",
            "_model_module_version": "1.5.0",
            "_model_name": "HTMLModel",
            "_view_count": null,
            "_view_module": "@jupyter-widgets/controls",
            "_view_module_version": "1.5.0",
            "_view_name": "HTMLView",
            "description": "",
            "description_tooltip": null,
            "layout": "IPY_MODEL_f22bb23ed4ef4566bc9e659217471fe7",
            "placeholder": "​",
            "style": "IPY_MODEL_218ac170b1df4e248169e70d3a039c60",
            "value": "100%"
          }
        },
        "2bf78234267448829821da263f75195e": {
          "model_module": "@jupyter-widgets/controls",
          "model_name": "FloatProgressModel",
          "model_module_version": "1.5.0",
          "state": {
            "_dom_classes": [],
            "_model_module": "@jupyter-widgets/controls",
            "_model_module_version": "1.5.0",
            "_model_name": "FloatProgressModel",
            "_view_count": null,
            "_view_module": "@jupyter-widgets/controls",
            "_view_module_version": "1.5.0",
            "_view_name": "ProgressView",
            "bar_style": "success",
            "description": "",
            "description_tooltip": null,
            "layout": "IPY_MODEL_e9c0ac16c9104181bdaf6ba7b96f154e",
            "max": 3,
            "min": 0,
            "orientation": "horizontal",
            "style": "IPY_MODEL_0f6e656cf1bd4cd381a558b651ccfff4",
            "value": 3
          }
        },
        "1339512567424d9db83b467c3631eaf8": {
          "model_module": "@jupyter-widgets/controls",
          "model_name": "HTMLModel",
          "model_module_version": "1.5.0",
          "state": {
            "_dom_classes": [],
            "_model_module": "@jupyter-widgets/controls",
            "_model_module_version": "1.5.0",
            "_model_name": "HTMLModel",
            "_view_count": null,
            "_view_module": "@jupyter-widgets/controls",
            "_view_module_version": "1.5.0",
            "_view_name": "HTMLView",
            "description": "",
            "description_tooltip": null,
            "layout": "IPY_MODEL_4203437e68824d3795f1e304df09b632",
            "placeholder": "​",
            "style": "IPY_MODEL_38e6a0cc4143470c81e86b6f857dfef3",
            "value": " 3/3 [00:36&lt;00:00, 11.13s/it]"
          }
        },
        "dd601a2741ae436f829ed2ff1546ce43": {
          "model_module": "@jupyter-widgets/base",
          "model_name": "LayoutModel",
          "model_module_version": "1.2.0",
          "state": {
            "_model_module": "@jupyter-widgets/base",
            "_model_module_version": "1.2.0",
            "_model_name": "LayoutModel",
            "_view_count": null,
            "_view_module": "@jupyter-widgets/base",
            "_view_module_version": "1.2.0",
            "_view_name": "LayoutView",
            "align_content": null,
            "align_items": null,
            "align_self": null,
            "border": null,
            "bottom": null,
            "display": null,
            "flex": null,
            "flex_flow": null,
            "grid_area": null,
            "grid_auto_columns": null,
            "grid_auto_flow": null,
            "grid_auto_rows": null,
            "grid_column": null,
            "grid_gap": null,
            "grid_row": null,
            "grid_template_areas": null,
            "grid_template_columns": null,
            "grid_template_rows": null,
            "height": null,
            "justify_content": null,
            "justify_items": null,
            "left": null,
            "margin": null,
            "max_height": null,
            "max_width": null,
            "min_height": null,
            "min_width": null,
            "object_fit": null,
            "object_position": null,
            "order": null,
            "overflow": null,
            "overflow_x": null,
            "overflow_y": null,
            "padding": null,
            "right": null,
            "top": null,
            "visibility": null,
            "width": null
          }
        },
        "f22bb23ed4ef4566bc9e659217471fe7": {
          "model_module": "@jupyter-widgets/base",
          "model_name": "LayoutModel",
          "model_module_version": "1.2.0",
          "state": {
            "_model_module": "@jupyter-widgets/base",
            "_model_module_version": "1.2.0",
            "_model_name": "LayoutModel",
            "_view_count": null,
            "_view_module": "@jupyter-widgets/base",
            "_view_module_version": "1.2.0",
            "_view_name": "LayoutView",
            "align_content": null,
            "align_items": null,
            "align_self": null,
            "border": null,
            "bottom": null,
            "display": null,
            "flex": null,
            "flex_flow": null,
            "grid_area": null,
            "grid_auto_columns": null,
            "grid_auto_flow": null,
            "grid_auto_rows": null,
            "grid_column": null,
            "grid_gap": null,
            "grid_row": null,
            "grid_template_areas": null,
            "grid_template_columns": null,
            "grid_template_rows": null,
            "height": null,
            "justify_content": null,
            "justify_items": null,
            "left": null,
            "margin": null,
            "max_height": null,
            "max_width": null,
            "min_height": null,
            "min_width": null,
            "object_fit": null,
            "object_position": null,
            "order": null,
            "overflow": null,
            "overflow_x": null,
            "overflow_y": null,
            "padding": null,
            "right": null,
            "top": null,
            "visibility": null,
            "width": null
          }
        },
        "218ac170b1df4e248169e70d3a039c60": {
          "model_module": "@jupyter-widgets/controls",
          "model_name": "DescriptionStyleModel",
          "model_module_version": "1.5.0",
          "state": {
            "_model_module": "@jupyter-widgets/controls",
            "_model_module_version": "1.5.0",
            "_model_name": "DescriptionStyleModel",
            "_view_count": null,
            "_view_module": "@jupyter-widgets/base",
            "_view_module_version": "1.2.0",
            "_view_name": "StyleView",
            "description_width": ""
          }
        },
        "e9c0ac16c9104181bdaf6ba7b96f154e": {
          "model_module": "@jupyter-widgets/base",
          "model_name": "LayoutModel",
          "model_module_version": "1.2.0",
          "state": {
            "_model_module": "@jupyter-widgets/base",
            "_model_module_version": "1.2.0",
            "_model_name": "LayoutModel",
            "_view_count": null,
            "_view_module": "@jupyter-widgets/base",
            "_view_module_version": "1.2.0",
            "_view_name": "LayoutView",
            "align_content": null,
            "align_items": null,
            "align_self": null,
            "border": null,
            "bottom": null,
            "display": null,
            "flex": null,
            "flex_flow": null,
            "grid_area": null,
            "grid_auto_columns": null,
            "grid_auto_flow": null,
            "grid_auto_rows": null,
            "grid_column": null,
            "grid_gap": null,
            "grid_row": null,
            "grid_template_areas": null,
            "grid_template_columns": null,
            "grid_template_rows": null,
            "height": null,
            "justify_content": null,
            "justify_items": null,
            "left": null,
            "margin": null,
            "max_height": null,
            "max_width": null,
            "min_height": null,
            "min_width": null,
            "object_fit": null,
            "object_position": null,
            "order": null,
            "overflow": null,
            "overflow_x": null,
            "overflow_y": null,
            "padding": null,
            "right": null,
            "top": null,
            "visibility": null,
            "width": null
          }
        },
        "0f6e656cf1bd4cd381a558b651ccfff4": {
          "model_module": "@jupyter-widgets/controls",
          "model_name": "ProgressStyleModel",
          "model_module_version": "1.5.0",
          "state": {
            "_model_module": "@jupyter-widgets/controls",
            "_model_module_version": "1.5.0",
            "_model_name": "ProgressStyleModel",
            "_view_count": null,
            "_view_module": "@jupyter-widgets/base",
            "_view_module_version": "1.2.0",
            "_view_name": "StyleView",
            "bar_color": null,
            "description_width": ""
          }
        },
        "4203437e68824d3795f1e304df09b632": {
          "model_module": "@jupyter-widgets/base",
          "model_name": "LayoutModel",
          "model_module_version": "1.2.0",
          "state": {
            "_model_module": "@jupyter-widgets/base",
            "_model_module_version": "1.2.0",
            "_model_name": "LayoutModel",
            "_view_count": null,
            "_view_module": "@jupyter-widgets/base",
            "_view_module_version": "1.2.0",
            "_view_name": "LayoutView",
            "align_content": null,
            "align_items": null,
            "align_self": null,
            "border": null,
            "bottom": null,
            "display": null,
            "flex": null,
            "flex_flow": null,
            "grid_area": null,
            "grid_auto_columns": null,
            "grid_auto_flow": null,
            "grid_auto_rows": null,
            "grid_column": null,
            "grid_gap": null,
            "grid_row": null,
            "grid_template_areas": null,
            "grid_template_columns": null,
            "grid_template_rows": null,
            "height": null,
            "justify_content": null,
            "justify_items": null,
            "left": null,
            "margin": null,
            "max_height": null,
            "max_width": null,
            "min_height": null,
            "min_width": null,
            "object_fit": null,
            "object_position": null,
            "order": null,
            "overflow": null,
            "overflow_x": null,
            "overflow_y": null,
            "padding": null,
            "right": null,
            "top": null,
            "visibility": null,
            "width": null
          }
        },
        "38e6a0cc4143470c81e86b6f857dfef3": {
          "model_module": "@jupyter-widgets/controls",
          "model_name": "DescriptionStyleModel",
          "model_module_version": "1.5.0",
          "state": {
            "_model_module": "@jupyter-widgets/controls",
            "_model_module_version": "1.5.0",
            "_model_name": "DescriptionStyleModel",
            "_view_count": null,
            "_view_module": "@jupyter-widgets/base",
            "_view_module_version": "1.2.0",
            "_view_name": "StyleView",
            "description_width": ""
          }
        },
        "020c88e85e014226a0d2fd355f32e7bf": {
          "model_module": "@jupyter-widgets/controls",
          "model_name": "HBoxModel",
          "model_module_version": "1.5.0",
          "state": {
            "_dom_classes": [],
            "_model_module": "@jupyter-widgets/controls",
            "_model_module_version": "1.5.0",
            "_model_name": "HBoxModel",
            "_view_count": null,
            "_view_module": "@jupyter-widgets/controls",
            "_view_module_version": "1.5.0",
            "_view_name": "HBoxView",
            "box_style": "",
            "children": [
              "IPY_MODEL_05f033bda4f84d23aa038fb98d80ff0c",
              "IPY_MODEL_356b82e4742e41248375536492f510f7",
              "IPY_MODEL_868d48d0f12445a49d6007256f082677"
            ],
            "layout": "IPY_MODEL_fb9166bfbb6140e6b30b772881957bed"
          }
        },
        "05f033bda4f84d23aa038fb98d80ff0c": {
          "model_module": "@jupyter-widgets/controls",
          "model_name": "HTMLModel",
          "model_module_version": "1.5.0",
          "state": {
            "_dom_classes": [],
            "_model_module": "@jupyter-widgets/controls",
            "_model_module_version": "1.5.0",
            "_model_name": "HTMLModel",
            "_view_count": null,
            "_view_module": "@jupyter-widgets/controls",
            "_view_module_version": "1.5.0",
            "_view_name": "HTMLView",
            "description": "",
            "description_tooltip": null,
            "layout": "IPY_MODEL_ed2b5514304f4dd3a67e5f672b75d200",
            "placeholder": "​",
            "style": "IPY_MODEL_3e56bdf0009b489fafb42e5e81a46be6",
            "value": "100%"
          }
        },
        "356b82e4742e41248375536492f510f7": {
          "model_module": "@jupyter-widgets/controls",
          "model_name": "FloatProgressModel",
          "model_module_version": "1.5.0",
          "state": {
            "_dom_classes": [],
            "_model_module": "@jupyter-widgets/controls",
            "_model_module_version": "1.5.0",
            "_model_name": "FloatProgressModel",
            "_view_count": null,
            "_view_module": "@jupyter-widgets/controls",
            "_view_module_version": "1.5.0",
            "_view_name": "ProgressView",
            "bar_style": "success",
            "description": "",
            "description_tooltip": null,
            "layout": "IPY_MODEL_5acbcfec033f4016abe9b3394ab30cc8",
            "max": 313,
            "min": 0,
            "orientation": "horizontal",
            "style": "IPY_MODEL_54fac6c40df14ff89752f1db090397ff",
            "value": 313
          }
        },
        "868d48d0f12445a49d6007256f082677": {
          "model_module": "@jupyter-widgets/controls",
          "model_name": "HTMLModel",
          "model_module_version": "1.5.0",
          "state": {
            "_dom_classes": [],
            "_model_module": "@jupyter-widgets/controls",
            "_model_module_version": "1.5.0",
            "_model_name": "HTMLModel",
            "_view_count": null,
            "_view_module": "@jupyter-widgets/controls",
            "_view_module_version": "1.5.0",
            "_view_name": "HTMLView",
            "description": "",
            "description_tooltip": null,
            "layout": "IPY_MODEL_32de2a58778243a78819c2d8b3acff36",
            "placeholder": "​",
            "style": "IPY_MODEL_a4a0f5b0439842c69ca1e08c059941b4",
            "value": " 313/313 [00:01&lt;00:00, 271.93it/s]"
          }
        },
        "fb9166bfbb6140e6b30b772881957bed": {
          "model_module": "@jupyter-widgets/base",
          "model_name": "LayoutModel",
          "model_module_version": "1.2.0",
          "state": {
            "_model_module": "@jupyter-widgets/base",
            "_model_module_version": "1.2.0",
            "_model_name": "LayoutModel",
            "_view_count": null,
            "_view_module": "@jupyter-widgets/base",
            "_view_module_version": "1.2.0",
            "_view_name": "LayoutView",
            "align_content": null,
            "align_items": null,
            "align_self": null,
            "border": null,
            "bottom": null,
            "display": null,
            "flex": null,
            "flex_flow": null,
            "grid_area": null,
            "grid_auto_columns": null,
            "grid_auto_flow": null,
            "grid_auto_rows": null,
            "grid_column": null,
            "grid_gap": null,
            "grid_row": null,
            "grid_template_areas": null,
            "grid_template_columns": null,
            "grid_template_rows": null,
            "height": null,
            "justify_content": null,
            "justify_items": null,
            "left": null,
            "margin": null,
            "max_height": null,
            "max_width": null,
            "min_height": null,
            "min_width": null,
            "object_fit": null,
            "object_position": null,
            "order": null,
            "overflow": null,
            "overflow_x": null,
            "overflow_y": null,
            "padding": null,
            "right": null,
            "top": null,
            "visibility": null,
            "width": null
          }
        },
        "ed2b5514304f4dd3a67e5f672b75d200": {
          "model_module": "@jupyter-widgets/base",
          "model_name": "LayoutModel",
          "model_module_version": "1.2.0",
          "state": {
            "_model_module": "@jupyter-widgets/base",
            "_model_module_version": "1.2.0",
            "_model_name": "LayoutModel",
            "_view_count": null,
            "_view_module": "@jupyter-widgets/base",
            "_view_module_version": "1.2.0",
            "_view_name": "LayoutView",
            "align_content": null,
            "align_items": null,
            "align_self": null,
            "border": null,
            "bottom": null,
            "display": null,
            "flex": null,
            "flex_flow": null,
            "grid_area": null,
            "grid_auto_columns": null,
            "grid_auto_flow": null,
            "grid_auto_rows": null,
            "grid_column": null,
            "grid_gap": null,
            "grid_row": null,
            "grid_template_areas": null,
            "grid_template_columns": null,
            "grid_template_rows": null,
            "height": null,
            "justify_content": null,
            "justify_items": null,
            "left": null,
            "margin": null,
            "max_height": null,
            "max_width": null,
            "min_height": null,
            "min_width": null,
            "object_fit": null,
            "object_position": null,
            "order": null,
            "overflow": null,
            "overflow_x": null,
            "overflow_y": null,
            "padding": null,
            "right": null,
            "top": null,
            "visibility": null,
            "width": null
          }
        },
        "3e56bdf0009b489fafb42e5e81a46be6": {
          "model_module": "@jupyter-widgets/controls",
          "model_name": "DescriptionStyleModel",
          "model_module_version": "1.5.0",
          "state": {
            "_model_module": "@jupyter-widgets/controls",
            "_model_module_version": "1.5.0",
            "_model_name": "DescriptionStyleModel",
            "_view_count": null,
            "_view_module": "@jupyter-widgets/base",
            "_view_module_version": "1.2.0",
            "_view_name": "StyleView",
            "description_width": ""
          }
        },
        "5acbcfec033f4016abe9b3394ab30cc8": {
          "model_module": "@jupyter-widgets/base",
          "model_name": "LayoutModel",
          "model_module_version": "1.2.0",
          "state": {
            "_model_module": "@jupyter-widgets/base",
            "_model_module_version": "1.2.0",
            "_model_name": "LayoutModel",
            "_view_count": null,
            "_view_module": "@jupyter-widgets/base",
            "_view_module_version": "1.2.0",
            "_view_name": "LayoutView",
            "align_content": null,
            "align_items": null,
            "align_self": null,
            "border": null,
            "bottom": null,
            "display": null,
            "flex": null,
            "flex_flow": null,
            "grid_area": null,
            "grid_auto_columns": null,
            "grid_auto_flow": null,
            "grid_auto_rows": null,
            "grid_column": null,
            "grid_gap": null,
            "grid_row": null,
            "grid_template_areas": null,
            "grid_template_columns": null,
            "grid_template_rows": null,
            "height": null,
            "justify_content": null,
            "justify_items": null,
            "left": null,
            "margin": null,
            "max_height": null,
            "max_width": null,
            "min_height": null,
            "min_width": null,
            "object_fit": null,
            "object_position": null,
            "order": null,
            "overflow": null,
            "overflow_x": null,
            "overflow_y": null,
            "padding": null,
            "right": null,
            "top": null,
            "visibility": null,
            "width": null
          }
        },
        "54fac6c40df14ff89752f1db090397ff": {
          "model_module": "@jupyter-widgets/controls",
          "model_name": "ProgressStyleModel",
          "model_module_version": "1.5.0",
          "state": {
            "_model_module": "@jupyter-widgets/controls",
            "_model_module_version": "1.5.0",
            "_model_name": "ProgressStyleModel",
            "_view_count": null,
            "_view_module": "@jupyter-widgets/base",
            "_view_module_version": "1.2.0",
            "_view_name": "StyleView",
            "bar_color": null,
            "description_width": ""
          }
        },
        "32de2a58778243a78819c2d8b3acff36": {
          "model_module": "@jupyter-widgets/base",
          "model_name": "LayoutModel",
          "model_module_version": "1.2.0",
          "state": {
            "_model_module": "@jupyter-widgets/base",
            "_model_module_version": "1.2.0",
            "_model_name": "LayoutModel",
            "_view_count": null,
            "_view_module": "@jupyter-widgets/base",
            "_view_module_version": "1.2.0",
            "_view_name": "LayoutView",
            "align_content": null,
            "align_items": null,
            "align_self": null,
            "border": null,
            "bottom": null,
            "display": null,
            "flex": null,
            "flex_flow": null,
            "grid_area": null,
            "grid_auto_columns": null,
            "grid_auto_flow": null,
            "grid_auto_rows": null,
            "grid_column": null,
            "grid_gap": null,
            "grid_row": null,
            "grid_template_areas": null,
            "grid_template_columns": null,
            "grid_template_rows": null,
            "height": null,
            "justify_content": null,
            "justify_items": null,
            "left": null,
            "margin": null,
            "max_height": null,
            "max_width": null,
            "min_height": null,
            "min_width": null,
            "object_fit": null,
            "object_position": null,
            "order": null,
            "overflow": null,
            "overflow_x": null,
            "overflow_y": null,
            "padding": null,
            "right": null,
            "top": null,
            "visibility": null,
            "width": null
          }
        },
        "a4a0f5b0439842c69ca1e08c059941b4": {
          "model_module": "@jupyter-widgets/controls",
          "model_name": "DescriptionStyleModel",
          "model_module_version": "1.5.0",
          "state": {
            "_model_module": "@jupyter-widgets/controls",
            "_model_module_version": "1.5.0",
            "_model_name": "DescriptionStyleModel",
            "_view_count": null,
            "_view_module": "@jupyter-widgets/base",
            "_view_module_version": "1.2.0",
            "_view_name": "StyleView",
            "description_width": ""
          }
        },
        "1a517c818a814805b99e8d317e265235": {
          "model_module": "@jupyter-widgets/controls",
          "model_name": "HBoxModel",
          "model_module_version": "1.5.0",
          "state": {
            "_dom_classes": [],
            "_model_module": "@jupyter-widgets/controls",
            "_model_module_version": "1.5.0",
            "_model_name": "HBoxModel",
            "_view_count": null,
            "_view_module": "@jupyter-widgets/controls",
            "_view_module_version": "1.5.0",
            "_view_name": "HBoxView",
            "box_style": "",
            "children": [
              "IPY_MODEL_ce4d60b20b774cba94069cec16dbc70e",
              "IPY_MODEL_24913b7866274b1086788e0d0310ab91",
              "IPY_MODEL_0d773aabdb774220874bf93e6b2d3644"
            ],
            "layout": "IPY_MODEL_cba96bcd9e0643a88ec4589c7bea505e"
          }
        },
        "ce4d60b20b774cba94069cec16dbc70e": {
          "model_module": "@jupyter-widgets/controls",
          "model_name": "HTMLModel",
          "model_module_version": "1.5.0",
          "state": {
            "_dom_classes": [],
            "_model_module": "@jupyter-widgets/controls",
            "_model_module_version": "1.5.0",
            "_model_name": "HTMLModel",
            "_view_count": null,
            "_view_module": "@jupyter-widgets/controls",
            "_view_module_version": "1.5.0",
            "_view_name": "HTMLView",
            "description": "",
            "description_tooltip": null,
            "layout": "IPY_MODEL_f0578152aff848c59be7387a5b4885df",
            "placeholder": "​",
            "style": "IPY_MODEL_9ccd0177e5f649f3b8e1281fdca23370",
            "value": "100%"
          }
        },
        "24913b7866274b1086788e0d0310ab91": {
          "model_module": "@jupyter-widgets/controls",
          "model_name": "FloatProgressModel",
          "model_module_version": "1.5.0",
          "state": {
            "_dom_classes": [],
            "_model_module": "@jupyter-widgets/controls",
            "_model_module_version": "1.5.0",
            "_model_name": "FloatProgressModel",
            "_view_count": null,
            "_view_module": "@jupyter-widgets/controls",
            "_view_module_version": "1.5.0",
            "_view_name": "ProgressView",
            "bar_style": "success",
            "description": "",
            "description_tooltip": null,
            "layout": "IPY_MODEL_c386c1ac95a04857a740e11daca6eade",
            "max": 3,
            "min": 0,
            "orientation": "horizontal",
            "style": "IPY_MODEL_df887483015d4e918f5442b545b22900",
            "value": 3
          }
        },
        "0d773aabdb774220874bf93e6b2d3644": {
          "model_module": "@jupyter-widgets/controls",
          "model_name": "HTMLModel",
          "model_module_version": "1.5.0",
          "state": {
            "_dom_classes": [],
            "_model_module": "@jupyter-widgets/controls",
            "_model_module_version": "1.5.0",
            "_model_name": "HTMLModel",
            "_view_count": null,
            "_view_module": "@jupyter-widgets/controls",
            "_view_module_version": "1.5.0",
            "_view_name": "HTMLView",
            "description": "",
            "description_tooltip": null,
            "layout": "IPY_MODEL_fc67098e71fa45529dc9dec29b7eb893",
            "placeholder": "​",
            "style": "IPY_MODEL_5c11420e77d74d15af1ed73d78b4f007",
            "value": " 3/3 [01:39&lt;00:00, 33.10s/it]"
          }
        },
        "cba96bcd9e0643a88ec4589c7bea505e": {
          "model_module": "@jupyter-widgets/base",
          "model_name": "LayoutModel",
          "model_module_version": "1.2.0",
          "state": {
            "_model_module": "@jupyter-widgets/base",
            "_model_module_version": "1.2.0",
            "_model_name": "LayoutModel",
            "_view_count": null,
            "_view_module": "@jupyter-widgets/base",
            "_view_module_version": "1.2.0",
            "_view_name": "LayoutView",
            "align_content": null,
            "align_items": null,
            "align_self": null,
            "border": null,
            "bottom": null,
            "display": null,
            "flex": null,
            "flex_flow": null,
            "grid_area": null,
            "grid_auto_columns": null,
            "grid_auto_flow": null,
            "grid_auto_rows": null,
            "grid_column": null,
            "grid_gap": null,
            "grid_row": null,
            "grid_template_areas": null,
            "grid_template_columns": null,
            "grid_template_rows": null,
            "height": null,
            "justify_content": null,
            "justify_items": null,
            "left": null,
            "margin": null,
            "max_height": null,
            "max_width": null,
            "min_height": null,
            "min_width": null,
            "object_fit": null,
            "object_position": null,
            "order": null,
            "overflow": null,
            "overflow_x": null,
            "overflow_y": null,
            "padding": null,
            "right": null,
            "top": null,
            "visibility": null,
            "width": null
          }
        },
        "f0578152aff848c59be7387a5b4885df": {
          "model_module": "@jupyter-widgets/base",
          "model_name": "LayoutModel",
          "model_module_version": "1.2.0",
          "state": {
            "_model_module": "@jupyter-widgets/base",
            "_model_module_version": "1.2.0",
            "_model_name": "LayoutModel",
            "_view_count": null,
            "_view_module": "@jupyter-widgets/base",
            "_view_module_version": "1.2.0",
            "_view_name": "LayoutView",
            "align_content": null,
            "align_items": null,
            "align_self": null,
            "border": null,
            "bottom": null,
            "display": null,
            "flex": null,
            "flex_flow": null,
            "grid_area": null,
            "grid_auto_columns": null,
            "grid_auto_flow": null,
            "grid_auto_rows": null,
            "grid_column": null,
            "grid_gap": null,
            "grid_row": null,
            "grid_template_areas": null,
            "grid_template_columns": null,
            "grid_template_rows": null,
            "height": null,
            "justify_content": null,
            "justify_items": null,
            "left": null,
            "margin": null,
            "max_height": null,
            "max_width": null,
            "min_height": null,
            "min_width": null,
            "object_fit": null,
            "object_position": null,
            "order": null,
            "overflow": null,
            "overflow_x": null,
            "overflow_y": null,
            "padding": null,
            "right": null,
            "top": null,
            "visibility": null,
            "width": null
          }
        },
        "9ccd0177e5f649f3b8e1281fdca23370": {
          "model_module": "@jupyter-widgets/controls",
          "model_name": "DescriptionStyleModel",
          "model_module_version": "1.5.0",
          "state": {
            "_model_module": "@jupyter-widgets/controls",
            "_model_module_version": "1.5.0",
            "_model_name": "DescriptionStyleModel",
            "_view_count": null,
            "_view_module": "@jupyter-widgets/base",
            "_view_module_version": "1.2.0",
            "_view_name": "StyleView",
            "description_width": ""
          }
        },
        "c386c1ac95a04857a740e11daca6eade": {
          "model_module": "@jupyter-widgets/base",
          "model_name": "LayoutModel",
          "model_module_version": "1.2.0",
          "state": {
            "_model_module": "@jupyter-widgets/base",
            "_model_module_version": "1.2.0",
            "_model_name": "LayoutModel",
            "_view_count": null,
            "_view_module": "@jupyter-widgets/base",
            "_view_module_version": "1.2.0",
            "_view_name": "LayoutView",
            "align_content": null,
            "align_items": null,
            "align_self": null,
            "border": null,
            "bottom": null,
            "display": null,
            "flex": null,
            "flex_flow": null,
            "grid_area": null,
            "grid_auto_columns": null,
            "grid_auto_flow": null,
            "grid_auto_rows": null,
            "grid_column": null,
            "grid_gap": null,
            "grid_row": null,
            "grid_template_areas": null,
            "grid_template_columns": null,
            "grid_template_rows": null,
            "height": null,
            "justify_content": null,
            "justify_items": null,
            "left": null,
            "margin": null,
            "max_height": null,
            "max_width": null,
            "min_height": null,
            "min_width": null,
            "object_fit": null,
            "object_position": null,
            "order": null,
            "overflow": null,
            "overflow_x": null,
            "overflow_y": null,
            "padding": null,
            "right": null,
            "top": null,
            "visibility": null,
            "width": null
          }
        },
        "df887483015d4e918f5442b545b22900": {
          "model_module": "@jupyter-widgets/controls",
          "model_name": "ProgressStyleModel",
          "model_module_version": "1.5.0",
          "state": {
            "_model_module": "@jupyter-widgets/controls",
            "_model_module_version": "1.5.0",
            "_model_name": "ProgressStyleModel",
            "_view_count": null,
            "_view_module": "@jupyter-widgets/base",
            "_view_module_version": "1.2.0",
            "_view_name": "StyleView",
            "bar_color": null,
            "description_width": ""
          }
        },
        "fc67098e71fa45529dc9dec29b7eb893": {
          "model_module": "@jupyter-widgets/base",
          "model_name": "LayoutModel",
          "model_module_version": "1.2.0",
          "state": {
            "_model_module": "@jupyter-widgets/base",
            "_model_module_version": "1.2.0",
            "_model_name": "LayoutModel",
            "_view_count": null,
            "_view_module": "@jupyter-widgets/base",
            "_view_module_version": "1.2.0",
            "_view_name": "LayoutView",
            "align_content": null,
            "align_items": null,
            "align_self": null,
            "border": null,
            "bottom": null,
            "display": null,
            "flex": null,
            "flex_flow": null,
            "grid_area": null,
            "grid_auto_columns": null,
            "grid_auto_flow": null,
            "grid_auto_rows": null,
            "grid_column": null,
            "grid_gap": null,
            "grid_row": null,
            "grid_template_areas": null,
            "grid_template_columns": null,
            "grid_template_rows": null,
            "height": null,
            "justify_content": null,
            "justify_items": null,
            "left": null,
            "margin": null,
            "max_height": null,
            "max_width": null,
            "min_height": null,
            "min_width": null,
            "object_fit": null,
            "object_position": null,
            "order": null,
            "overflow": null,
            "overflow_x": null,
            "overflow_y": null,
            "padding": null,
            "right": null,
            "top": null,
            "visibility": null,
            "width": null
          }
        },
        "5c11420e77d74d15af1ed73d78b4f007": {
          "model_module": "@jupyter-widgets/controls",
          "model_name": "DescriptionStyleModel",
          "model_module_version": "1.5.0",
          "state": {
            "_model_module": "@jupyter-widgets/controls",
            "_model_module_version": "1.5.0",
            "_model_name": "DescriptionStyleModel",
            "_view_count": null,
            "_view_module": "@jupyter-widgets/base",
            "_view_module_version": "1.2.0",
            "_view_name": "StyleView",
            "description_width": ""
          }
        },
        "bb0dd0b4f78049dbad526175e0f15863": {
          "model_module": "@jupyter-widgets/controls",
          "model_name": "HBoxModel",
          "model_module_version": "1.5.0",
          "state": {
            "_dom_classes": [],
            "_model_module": "@jupyter-widgets/controls",
            "_model_module_version": "1.5.0",
            "_model_name": "HBoxModel",
            "_view_count": null,
            "_view_module": "@jupyter-widgets/controls",
            "_view_module_version": "1.5.0",
            "_view_name": "HBoxView",
            "box_style": "",
            "children": [
              "IPY_MODEL_f131dd0ef48e4534bfc3801686c81015",
              "IPY_MODEL_659fb5789d014b2ea78b815f4cf02978",
              "IPY_MODEL_55397dfee5314bf4888a1841433cce3f"
            ],
            "layout": "IPY_MODEL_21bf4673d00949ab9b9b71103e908c99"
          }
        },
        "f131dd0ef48e4534bfc3801686c81015": {
          "model_module": "@jupyter-widgets/controls",
          "model_name": "HTMLModel",
          "model_module_version": "1.5.0",
          "state": {
            "_dom_classes": [],
            "_model_module": "@jupyter-widgets/controls",
            "_model_module_version": "1.5.0",
            "_model_name": "HTMLModel",
            "_view_count": null,
            "_view_module": "@jupyter-widgets/controls",
            "_view_module_version": "1.5.0",
            "_view_name": "HTMLView",
            "description": "",
            "description_tooltip": null,
            "layout": "IPY_MODEL_9b154496c2314062abe72a4086051967",
            "placeholder": "​",
            "style": "IPY_MODEL_dd67ec98e7264004bc57198d688745c2",
            "value": "100%"
          }
        },
        "659fb5789d014b2ea78b815f4cf02978": {
          "model_module": "@jupyter-widgets/controls",
          "model_name": "FloatProgressModel",
          "model_module_version": "1.5.0",
          "state": {
            "_dom_classes": [],
            "_model_module": "@jupyter-widgets/controls",
            "_model_module_version": "1.5.0",
            "_model_name": "FloatProgressModel",
            "_view_count": null,
            "_view_module": "@jupyter-widgets/controls",
            "_view_module_version": "1.5.0",
            "_view_name": "ProgressView",
            "bar_style": "success",
            "description": "",
            "description_tooltip": null,
            "layout": "IPY_MODEL_140122f6be8e4660ba3fdeb30907de07",
            "max": 313,
            "min": 0,
            "orientation": "horizontal",
            "style": "IPY_MODEL_b4258d364a0445ee9b8297c94d4d0354",
            "value": 313
          }
        },
        "55397dfee5314bf4888a1841433cce3f": {
          "model_module": "@jupyter-widgets/controls",
          "model_name": "HTMLModel",
          "model_module_version": "1.5.0",
          "state": {
            "_dom_classes": [],
            "_model_module": "@jupyter-widgets/controls",
            "_model_module_version": "1.5.0",
            "_model_name": "HTMLModel",
            "_view_count": null,
            "_view_module": "@jupyter-widgets/controls",
            "_view_module_version": "1.5.0",
            "_view_name": "HTMLView",
            "description": "",
            "description_tooltip": null,
            "layout": "IPY_MODEL_8419f00854794560afd5776f5a392d29",
            "placeholder": "​",
            "style": "IPY_MODEL_8239ea35eb914a329feba41a078cd456",
            "value": " 313/313 [00:02&lt;00:00, 91.97it/s]"
          }
        },
        "21bf4673d00949ab9b9b71103e908c99": {
          "model_module": "@jupyter-widgets/base",
          "model_name": "LayoutModel",
          "model_module_version": "1.2.0",
          "state": {
            "_model_module": "@jupyter-widgets/base",
            "_model_module_version": "1.2.0",
            "_model_name": "LayoutModel",
            "_view_count": null,
            "_view_module": "@jupyter-widgets/base",
            "_view_module_version": "1.2.0",
            "_view_name": "LayoutView",
            "align_content": null,
            "align_items": null,
            "align_self": null,
            "border": null,
            "bottom": null,
            "display": null,
            "flex": null,
            "flex_flow": null,
            "grid_area": null,
            "grid_auto_columns": null,
            "grid_auto_flow": null,
            "grid_auto_rows": null,
            "grid_column": null,
            "grid_gap": null,
            "grid_row": null,
            "grid_template_areas": null,
            "grid_template_columns": null,
            "grid_template_rows": null,
            "height": null,
            "justify_content": null,
            "justify_items": null,
            "left": null,
            "margin": null,
            "max_height": null,
            "max_width": null,
            "min_height": null,
            "min_width": null,
            "object_fit": null,
            "object_position": null,
            "order": null,
            "overflow": null,
            "overflow_x": null,
            "overflow_y": null,
            "padding": null,
            "right": null,
            "top": null,
            "visibility": null,
            "width": null
          }
        },
        "9b154496c2314062abe72a4086051967": {
          "model_module": "@jupyter-widgets/base",
          "model_name": "LayoutModel",
          "model_module_version": "1.2.0",
          "state": {
            "_model_module": "@jupyter-widgets/base",
            "_model_module_version": "1.2.0",
            "_model_name": "LayoutModel",
            "_view_count": null,
            "_view_module": "@jupyter-widgets/base",
            "_view_module_version": "1.2.0",
            "_view_name": "LayoutView",
            "align_content": null,
            "align_items": null,
            "align_self": null,
            "border": null,
            "bottom": null,
            "display": null,
            "flex": null,
            "flex_flow": null,
            "grid_area": null,
            "grid_auto_columns": null,
            "grid_auto_flow": null,
            "grid_auto_rows": null,
            "grid_column": null,
            "grid_gap": null,
            "grid_row": null,
            "grid_template_areas": null,
            "grid_template_columns": null,
            "grid_template_rows": null,
            "height": null,
            "justify_content": null,
            "justify_items": null,
            "left": null,
            "margin": null,
            "max_height": null,
            "max_width": null,
            "min_height": null,
            "min_width": null,
            "object_fit": null,
            "object_position": null,
            "order": null,
            "overflow": null,
            "overflow_x": null,
            "overflow_y": null,
            "padding": null,
            "right": null,
            "top": null,
            "visibility": null,
            "width": null
          }
        },
        "dd67ec98e7264004bc57198d688745c2": {
          "model_module": "@jupyter-widgets/controls",
          "model_name": "DescriptionStyleModel",
          "model_module_version": "1.5.0",
          "state": {
            "_model_module": "@jupyter-widgets/controls",
            "_model_module_version": "1.5.0",
            "_model_name": "DescriptionStyleModel",
            "_view_count": null,
            "_view_module": "@jupyter-widgets/base",
            "_view_module_version": "1.2.0",
            "_view_name": "StyleView",
            "description_width": ""
          }
        },
        "140122f6be8e4660ba3fdeb30907de07": {
          "model_module": "@jupyter-widgets/base",
          "model_name": "LayoutModel",
          "model_module_version": "1.2.0",
          "state": {
            "_model_module": "@jupyter-widgets/base",
            "_model_module_version": "1.2.0",
            "_model_name": "LayoutModel",
            "_view_count": null,
            "_view_module": "@jupyter-widgets/base",
            "_view_module_version": "1.2.0",
            "_view_name": "LayoutView",
            "align_content": null,
            "align_items": null,
            "align_self": null,
            "border": null,
            "bottom": null,
            "display": null,
            "flex": null,
            "flex_flow": null,
            "grid_area": null,
            "grid_auto_columns": null,
            "grid_auto_flow": null,
            "grid_auto_rows": null,
            "grid_column": null,
            "grid_gap": null,
            "grid_row": null,
            "grid_template_areas": null,
            "grid_template_columns": null,
            "grid_template_rows": null,
            "height": null,
            "justify_content": null,
            "justify_items": null,
            "left": null,
            "margin": null,
            "max_height": null,
            "max_width": null,
            "min_height": null,
            "min_width": null,
            "object_fit": null,
            "object_position": null,
            "order": null,
            "overflow": null,
            "overflow_x": null,
            "overflow_y": null,
            "padding": null,
            "right": null,
            "top": null,
            "visibility": null,
            "width": null
          }
        },
        "b4258d364a0445ee9b8297c94d4d0354": {
          "model_module": "@jupyter-widgets/controls",
          "model_name": "ProgressStyleModel",
          "model_module_version": "1.5.0",
          "state": {
            "_model_module": "@jupyter-widgets/controls",
            "_model_module_version": "1.5.0",
            "_model_name": "ProgressStyleModel",
            "_view_count": null,
            "_view_module": "@jupyter-widgets/base",
            "_view_module_version": "1.2.0",
            "_view_name": "StyleView",
            "bar_color": null,
            "description_width": ""
          }
        },
        "8419f00854794560afd5776f5a392d29": {
          "model_module": "@jupyter-widgets/base",
          "model_name": "LayoutModel",
          "model_module_version": "1.2.0",
          "state": {
            "_model_module": "@jupyter-widgets/base",
            "_model_module_version": "1.2.0",
            "_model_name": "LayoutModel",
            "_view_count": null,
            "_view_module": "@jupyter-widgets/base",
            "_view_module_version": "1.2.0",
            "_view_name": "LayoutView",
            "align_content": null,
            "align_items": null,
            "align_self": null,
            "border": null,
            "bottom": null,
            "display": null,
            "flex": null,
            "flex_flow": null,
            "grid_area": null,
            "grid_auto_columns": null,
            "grid_auto_flow": null,
            "grid_auto_rows": null,
            "grid_column": null,
            "grid_gap": null,
            "grid_row": null,
            "grid_template_areas": null,
            "grid_template_columns": null,
            "grid_template_rows": null,
            "height": null,
            "justify_content": null,
            "justify_items": null,
            "left": null,
            "margin": null,
            "max_height": null,
            "max_width": null,
            "min_height": null,
            "min_width": null,
            "object_fit": null,
            "object_position": null,
            "order": null,
            "overflow": null,
            "overflow_x": null,
            "overflow_y": null,
            "padding": null,
            "right": null,
            "top": null,
            "visibility": null,
            "width": null
          }
        },
        "8239ea35eb914a329feba41a078cd456": {
          "model_module": "@jupyter-widgets/controls",
          "model_name": "DescriptionStyleModel",
          "model_module_version": "1.5.0",
          "state": {
            "_model_module": "@jupyter-widgets/controls",
            "_model_module_version": "1.5.0",
            "_model_name": "DescriptionStyleModel",
            "_view_count": null,
            "_view_module": "@jupyter-widgets/base",
            "_view_module_version": "1.2.0",
            "_view_name": "StyleView",
            "description_width": ""
          }
        },
        "b3988e02edda40c2a963c1b0aa63111c": {
          "model_module": "@jupyter-widgets/controls",
          "model_name": "HBoxModel",
          "model_module_version": "1.5.0",
          "state": {
            "_dom_classes": [],
            "_model_module": "@jupyter-widgets/controls",
            "_model_module_version": "1.5.0",
            "_model_name": "HBoxModel",
            "_view_count": null,
            "_view_module": "@jupyter-widgets/controls",
            "_view_module_version": "1.5.0",
            "_view_name": "HBoxView",
            "box_style": "",
            "children": [
              "IPY_MODEL_41ab4abc218f446d875616230b214323",
              "IPY_MODEL_7323fb8aab764c729b3ce6a88c5b731d",
              "IPY_MODEL_d1e2296d5cc24d3fbdd2d3a2741b3402"
            ],
            "layout": "IPY_MODEL_bf2ec9c046c04a1981d58917bcc4b00c"
          }
        },
        "41ab4abc218f446d875616230b214323": {
          "model_module": "@jupyter-widgets/controls",
          "model_name": "HTMLModel",
          "model_module_version": "1.5.0",
          "state": {
            "_dom_classes": [],
            "_model_module": "@jupyter-widgets/controls",
            "_model_module_version": "1.5.0",
            "_model_name": "HTMLModel",
            "_view_count": null,
            "_view_module": "@jupyter-widgets/controls",
            "_view_module_version": "1.5.0",
            "_view_name": "HTMLView",
            "description": "",
            "description_tooltip": null,
            "layout": "IPY_MODEL_d78f7a59339f49cea417ff7c6a946d17",
            "placeholder": "​",
            "style": "IPY_MODEL_a8a466d725784be9b794c9d86efd8b37",
            "value": "100%"
          }
        },
        "7323fb8aab764c729b3ce6a88c5b731d": {
          "model_module": "@jupyter-widgets/controls",
          "model_name": "FloatProgressModel",
          "model_module_version": "1.5.0",
          "state": {
            "_dom_classes": [],
            "_model_module": "@jupyter-widgets/controls",
            "_model_module_version": "1.5.0",
            "_model_name": "FloatProgressModel",
            "_view_count": null,
            "_view_module": "@jupyter-widgets/controls",
            "_view_module_version": "1.5.0",
            "_view_name": "ProgressView",
            "bar_style": "success",
            "description": "",
            "description_tooltip": null,
            "layout": "IPY_MODEL_ba1988d9c1644113a0a54e4a1f53085e",
            "max": 313,
            "min": 0,
            "orientation": "horizontal",
            "style": "IPY_MODEL_0915039e54cc4a89b6e6842a44b9c2b6",
            "value": 313
          }
        },
        "d1e2296d5cc24d3fbdd2d3a2741b3402": {
          "model_module": "@jupyter-widgets/controls",
          "model_name": "HTMLModel",
          "model_module_version": "1.5.0",
          "state": {
            "_dom_classes": [],
            "_model_module": "@jupyter-widgets/controls",
            "_model_module_version": "1.5.0",
            "_model_name": "HTMLModel",
            "_view_count": null,
            "_view_module": "@jupyter-widgets/controls",
            "_view_module_version": "1.5.0",
            "_view_name": "HTMLView",
            "description": "",
            "description_tooltip": null,
            "layout": "IPY_MODEL_aea9966021fd4b7c8329c0a0e36c3e97",
            "placeholder": "​",
            "style": "IPY_MODEL_e6909bc800ed413dbe450f28e531562d",
            "value": " 313/313 [00:01&lt;00:00, 241.08it/s]"
          }
        },
        "bf2ec9c046c04a1981d58917bcc4b00c": {
          "model_module": "@jupyter-widgets/base",
          "model_name": "LayoutModel",
          "model_module_version": "1.2.0",
          "state": {
            "_model_module": "@jupyter-widgets/base",
            "_model_module_version": "1.2.0",
            "_model_name": "LayoutModel",
            "_view_count": null,
            "_view_module": "@jupyter-widgets/base",
            "_view_module_version": "1.2.0",
            "_view_name": "LayoutView",
            "align_content": null,
            "align_items": null,
            "align_self": null,
            "border": null,
            "bottom": null,
            "display": null,
            "flex": null,
            "flex_flow": null,
            "grid_area": null,
            "grid_auto_columns": null,
            "grid_auto_flow": null,
            "grid_auto_rows": null,
            "grid_column": null,
            "grid_gap": null,
            "grid_row": null,
            "grid_template_areas": null,
            "grid_template_columns": null,
            "grid_template_rows": null,
            "height": null,
            "justify_content": null,
            "justify_items": null,
            "left": null,
            "margin": null,
            "max_height": null,
            "max_width": null,
            "min_height": null,
            "min_width": null,
            "object_fit": null,
            "object_position": null,
            "order": null,
            "overflow": null,
            "overflow_x": null,
            "overflow_y": null,
            "padding": null,
            "right": null,
            "top": null,
            "visibility": null,
            "width": null
          }
        },
        "d78f7a59339f49cea417ff7c6a946d17": {
          "model_module": "@jupyter-widgets/base",
          "model_name": "LayoutModel",
          "model_module_version": "1.2.0",
          "state": {
            "_model_module": "@jupyter-widgets/base",
            "_model_module_version": "1.2.0",
            "_model_name": "LayoutModel",
            "_view_count": null,
            "_view_module": "@jupyter-widgets/base",
            "_view_module_version": "1.2.0",
            "_view_name": "LayoutView",
            "align_content": null,
            "align_items": null,
            "align_self": null,
            "border": null,
            "bottom": null,
            "display": null,
            "flex": null,
            "flex_flow": null,
            "grid_area": null,
            "grid_auto_columns": null,
            "grid_auto_flow": null,
            "grid_auto_rows": null,
            "grid_column": null,
            "grid_gap": null,
            "grid_row": null,
            "grid_template_areas": null,
            "grid_template_columns": null,
            "grid_template_rows": null,
            "height": null,
            "justify_content": null,
            "justify_items": null,
            "left": null,
            "margin": null,
            "max_height": null,
            "max_width": null,
            "min_height": null,
            "min_width": null,
            "object_fit": null,
            "object_position": null,
            "order": null,
            "overflow": null,
            "overflow_x": null,
            "overflow_y": null,
            "padding": null,
            "right": null,
            "top": null,
            "visibility": null,
            "width": null
          }
        },
        "a8a466d725784be9b794c9d86efd8b37": {
          "model_module": "@jupyter-widgets/controls",
          "model_name": "DescriptionStyleModel",
          "model_module_version": "1.5.0",
          "state": {
            "_model_module": "@jupyter-widgets/controls",
            "_model_module_version": "1.5.0",
            "_model_name": "DescriptionStyleModel",
            "_view_count": null,
            "_view_module": "@jupyter-widgets/base",
            "_view_module_version": "1.2.0",
            "_view_name": "StyleView",
            "description_width": ""
          }
        },
        "ba1988d9c1644113a0a54e4a1f53085e": {
          "model_module": "@jupyter-widgets/base",
          "model_name": "LayoutModel",
          "model_module_version": "1.2.0",
          "state": {
            "_model_module": "@jupyter-widgets/base",
            "_model_module_version": "1.2.0",
            "_model_name": "LayoutModel",
            "_view_count": null,
            "_view_module": "@jupyter-widgets/base",
            "_view_module_version": "1.2.0",
            "_view_name": "LayoutView",
            "align_content": null,
            "align_items": null,
            "align_self": null,
            "border": null,
            "bottom": null,
            "display": null,
            "flex": null,
            "flex_flow": null,
            "grid_area": null,
            "grid_auto_columns": null,
            "grid_auto_flow": null,
            "grid_auto_rows": null,
            "grid_column": null,
            "grid_gap": null,
            "grid_row": null,
            "grid_template_areas": null,
            "grid_template_columns": null,
            "grid_template_rows": null,
            "height": null,
            "justify_content": null,
            "justify_items": null,
            "left": null,
            "margin": null,
            "max_height": null,
            "max_width": null,
            "min_height": null,
            "min_width": null,
            "object_fit": null,
            "object_position": null,
            "order": null,
            "overflow": null,
            "overflow_x": null,
            "overflow_y": null,
            "padding": null,
            "right": null,
            "top": null,
            "visibility": null,
            "width": null
          }
        },
        "0915039e54cc4a89b6e6842a44b9c2b6": {
          "model_module": "@jupyter-widgets/controls",
          "model_name": "ProgressStyleModel",
          "model_module_version": "1.5.0",
          "state": {
            "_model_module": "@jupyter-widgets/controls",
            "_model_module_version": "1.5.0",
            "_model_name": "ProgressStyleModel",
            "_view_count": null,
            "_view_module": "@jupyter-widgets/base",
            "_view_module_version": "1.2.0",
            "_view_name": "StyleView",
            "bar_color": null,
            "description_width": ""
          }
        },
        "aea9966021fd4b7c8329c0a0e36c3e97": {
          "model_module": "@jupyter-widgets/base",
          "model_name": "LayoutModel",
          "model_module_version": "1.2.0",
          "state": {
            "_model_module": "@jupyter-widgets/base",
            "_model_module_version": "1.2.0",
            "_model_name": "LayoutModel",
            "_view_count": null,
            "_view_module": "@jupyter-widgets/base",
            "_view_module_version": "1.2.0",
            "_view_name": "LayoutView",
            "align_content": null,
            "align_items": null,
            "align_self": null,
            "border": null,
            "bottom": null,
            "display": null,
            "flex": null,
            "flex_flow": null,
            "grid_area": null,
            "grid_auto_columns": null,
            "grid_auto_flow": null,
            "grid_auto_rows": null,
            "grid_column": null,
            "grid_gap": null,
            "grid_row": null,
            "grid_template_areas": null,
            "grid_template_columns": null,
            "grid_template_rows": null,
            "height": null,
            "justify_content": null,
            "justify_items": null,
            "left": null,
            "margin": null,
            "max_height": null,
            "max_width": null,
            "min_height": null,
            "min_width": null,
            "object_fit": null,
            "object_position": null,
            "order": null,
            "overflow": null,
            "overflow_x": null,
            "overflow_y": null,
            "padding": null,
            "right": null,
            "top": null,
            "visibility": null,
            "width": null
          }
        },
        "e6909bc800ed413dbe450f28e531562d": {
          "model_module": "@jupyter-widgets/controls",
          "model_name": "DescriptionStyleModel",
          "model_module_version": "1.5.0",
          "state": {
            "_model_module": "@jupyter-widgets/controls",
            "_model_module_version": "1.5.0",
            "_model_name": "DescriptionStyleModel",
            "_view_count": null,
            "_view_module": "@jupyter-widgets/base",
            "_view_module_version": "1.2.0",
            "_view_name": "StyleView",
            "description_width": ""
          }
        },
        "d1120087ce904856b789673bb5101258": {
          "model_module": "@jupyter-widgets/controls",
          "model_name": "HBoxModel",
          "model_module_version": "1.5.0",
          "state": {
            "_dom_classes": [],
            "_model_module": "@jupyter-widgets/controls",
            "_model_module_version": "1.5.0",
            "_model_name": "HBoxModel",
            "_view_count": null,
            "_view_module": "@jupyter-widgets/controls",
            "_view_module_version": "1.5.0",
            "_view_name": "HBoxView",
            "box_style": "",
            "children": [
              "IPY_MODEL_96e7bedea80941d48e7fd6a0530ed649",
              "IPY_MODEL_9e6f6e1491d34dbcaafff21e7d0d8ee6",
              "IPY_MODEL_6957e44461c44d39a412170a894bf794"
            ],
            "layout": "IPY_MODEL_02e23fa2f52a43879995e17bc960c8aa"
          }
        },
        "96e7bedea80941d48e7fd6a0530ed649": {
          "model_module": "@jupyter-widgets/controls",
          "model_name": "HTMLModel",
          "model_module_version": "1.5.0",
          "state": {
            "_dom_classes": [],
            "_model_module": "@jupyter-widgets/controls",
            "_model_module_version": "1.5.0",
            "_model_name": "HTMLModel",
            "_view_count": null,
            "_view_module": "@jupyter-widgets/controls",
            "_view_module_version": "1.5.0",
            "_view_name": "HTMLView",
            "description": "",
            "description_tooltip": null,
            "layout": "IPY_MODEL_ae2234fe94f941659b103d4e25775aab",
            "placeholder": "​",
            "style": "IPY_MODEL_a62c2609e5b64323b38e6ad0a1abaf97",
            "value": "100%"
          }
        },
        "9e6f6e1491d34dbcaafff21e7d0d8ee6": {
          "model_module": "@jupyter-widgets/controls",
          "model_name": "FloatProgressModel",
          "model_module_version": "1.5.0",
          "state": {
            "_dom_classes": [],
            "_model_module": "@jupyter-widgets/controls",
            "_model_module_version": "1.5.0",
            "_model_name": "FloatProgressModel",
            "_view_count": null,
            "_view_module": "@jupyter-widgets/controls",
            "_view_module_version": "1.5.0",
            "_view_name": "ProgressView",
            "bar_style": "success",
            "description": "",
            "description_tooltip": null,
            "layout": "IPY_MODEL_d8f540da30a84f93ab98f8f25f551130",
            "max": 313,
            "min": 0,
            "orientation": "horizontal",
            "style": "IPY_MODEL_078a63a5d49d4ad9baecb67ad4c3995d",
            "value": 313
          }
        },
        "6957e44461c44d39a412170a894bf794": {
          "model_module": "@jupyter-widgets/controls",
          "model_name": "HTMLModel",
          "model_module_version": "1.5.0",
          "state": {
            "_dom_classes": [],
            "_model_module": "@jupyter-widgets/controls",
            "_model_module_version": "1.5.0",
            "_model_name": "HTMLModel",
            "_view_count": null,
            "_view_module": "@jupyter-widgets/controls",
            "_view_module_version": "1.5.0",
            "_view_name": "HTMLView",
            "description": "",
            "description_tooltip": null,
            "layout": "IPY_MODEL_f4fbec87751b46d6b36f047402bd9e54",
            "placeholder": "​",
            "style": "IPY_MODEL_1465f174668a4ea092213a3f6f8dce6f",
            "value": " 313/313 [00:02&lt;00:00, 121.49it/s]"
          }
        },
        "02e23fa2f52a43879995e17bc960c8aa": {
          "model_module": "@jupyter-widgets/base",
          "model_name": "LayoutModel",
          "model_module_version": "1.2.0",
          "state": {
            "_model_module": "@jupyter-widgets/base",
            "_model_module_version": "1.2.0",
            "_model_name": "LayoutModel",
            "_view_count": null,
            "_view_module": "@jupyter-widgets/base",
            "_view_module_version": "1.2.0",
            "_view_name": "LayoutView",
            "align_content": null,
            "align_items": null,
            "align_self": null,
            "border": null,
            "bottom": null,
            "display": null,
            "flex": null,
            "flex_flow": null,
            "grid_area": null,
            "grid_auto_columns": null,
            "grid_auto_flow": null,
            "grid_auto_rows": null,
            "grid_column": null,
            "grid_gap": null,
            "grid_row": null,
            "grid_template_areas": null,
            "grid_template_columns": null,
            "grid_template_rows": null,
            "height": null,
            "justify_content": null,
            "justify_items": null,
            "left": null,
            "margin": null,
            "max_height": null,
            "max_width": null,
            "min_height": null,
            "min_width": null,
            "object_fit": null,
            "object_position": null,
            "order": null,
            "overflow": null,
            "overflow_x": null,
            "overflow_y": null,
            "padding": null,
            "right": null,
            "top": null,
            "visibility": null,
            "width": null
          }
        },
        "ae2234fe94f941659b103d4e25775aab": {
          "model_module": "@jupyter-widgets/base",
          "model_name": "LayoutModel",
          "model_module_version": "1.2.0",
          "state": {
            "_model_module": "@jupyter-widgets/base",
            "_model_module_version": "1.2.0",
            "_model_name": "LayoutModel",
            "_view_count": null,
            "_view_module": "@jupyter-widgets/base",
            "_view_module_version": "1.2.0",
            "_view_name": "LayoutView",
            "align_content": null,
            "align_items": null,
            "align_self": null,
            "border": null,
            "bottom": null,
            "display": null,
            "flex": null,
            "flex_flow": null,
            "grid_area": null,
            "grid_auto_columns": null,
            "grid_auto_flow": null,
            "grid_auto_rows": null,
            "grid_column": null,
            "grid_gap": null,
            "grid_row": null,
            "grid_template_areas": null,
            "grid_template_columns": null,
            "grid_template_rows": null,
            "height": null,
            "justify_content": null,
            "justify_items": null,
            "left": null,
            "margin": null,
            "max_height": null,
            "max_width": null,
            "min_height": null,
            "min_width": null,
            "object_fit": null,
            "object_position": null,
            "order": null,
            "overflow": null,
            "overflow_x": null,
            "overflow_y": null,
            "padding": null,
            "right": null,
            "top": null,
            "visibility": null,
            "width": null
          }
        },
        "a62c2609e5b64323b38e6ad0a1abaf97": {
          "model_module": "@jupyter-widgets/controls",
          "model_name": "DescriptionStyleModel",
          "model_module_version": "1.5.0",
          "state": {
            "_model_module": "@jupyter-widgets/controls",
            "_model_module_version": "1.5.0",
            "_model_name": "DescriptionStyleModel",
            "_view_count": null,
            "_view_module": "@jupyter-widgets/base",
            "_view_module_version": "1.2.0",
            "_view_name": "StyleView",
            "description_width": ""
          }
        },
        "d8f540da30a84f93ab98f8f25f551130": {
          "model_module": "@jupyter-widgets/base",
          "model_name": "LayoutModel",
          "model_module_version": "1.2.0",
          "state": {
            "_model_module": "@jupyter-widgets/base",
            "_model_module_version": "1.2.0",
            "_model_name": "LayoutModel",
            "_view_count": null,
            "_view_module": "@jupyter-widgets/base",
            "_view_module_version": "1.2.0",
            "_view_name": "LayoutView",
            "align_content": null,
            "align_items": null,
            "align_self": null,
            "border": null,
            "bottom": null,
            "display": null,
            "flex": null,
            "flex_flow": null,
            "grid_area": null,
            "grid_auto_columns": null,
            "grid_auto_flow": null,
            "grid_auto_rows": null,
            "grid_column": null,
            "grid_gap": null,
            "grid_row": null,
            "grid_template_areas": null,
            "grid_template_columns": null,
            "grid_template_rows": null,
            "height": null,
            "justify_content": null,
            "justify_items": null,
            "left": null,
            "margin": null,
            "max_height": null,
            "max_width": null,
            "min_height": null,
            "min_width": null,
            "object_fit": null,
            "object_position": null,
            "order": null,
            "overflow": null,
            "overflow_x": null,
            "overflow_y": null,
            "padding": null,
            "right": null,
            "top": null,
            "visibility": null,
            "width": null
          }
        },
        "078a63a5d49d4ad9baecb67ad4c3995d": {
          "model_module": "@jupyter-widgets/controls",
          "model_name": "ProgressStyleModel",
          "model_module_version": "1.5.0",
          "state": {
            "_model_module": "@jupyter-widgets/controls",
            "_model_module_version": "1.5.0",
            "_model_name": "ProgressStyleModel",
            "_view_count": null,
            "_view_module": "@jupyter-widgets/base",
            "_view_module_version": "1.2.0",
            "_view_name": "StyleView",
            "bar_color": null,
            "description_width": ""
          }
        },
        "f4fbec87751b46d6b36f047402bd9e54": {
          "model_module": "@jupyter-widgets/base",
          "model_name": "LayoutModel",
          "model_module_version": "1.2.0",
          "state": {
            "_model_module": "@jupyter-widgets/base",
            "_model_module_version": "1.2.0",
            "_model_name": "LayoutModel",
            "_view_count": null,
            "_view_module": "@jupyter-widgets/base",
            "_view_module_version": "1.2.0",
            "_view_name": "LayoutView",
            "align_content": null,
            "align_items": null,
            "align_self": null,
            "border": null,
            "bottom": null,
            "display": null,
            "flex": null,
            "flex_flow": null,
            "grid_area": null,
            "grid_auto_columns": null,
            "grid_auto_flow": null,
            "grid_auto_rows": null,
            "grid_column": null,
            "grid_gap": null,
            "grid_row": null,
            "grid_template_areas": null,
            "grid_template_columns": null,
            "grid_template_rows": null,
            "height": null,
            "justify_content": null,
            "justify_items": null,
            "left": null,
            "margin": null,
            "max_height": null,
            "max_width": null,
            "min_height": null,
            "min_width": null,
            "object_fit": null,
            "object_position": null,
            "order": null,
            "overflow": null,
            "overflow_x": null,
            "overflow_y": null,
            "padding": null,
            "right": null,
            "top": null,
            "visibility": null,
            "width": null
          }
        },
        "1465f174668a4ea092213a3f6f8dce6f": {
          "model_module": "@jupyter-widgets/controls",
          "model_name": "DescriptionStyleModel",
          "model_module_version": "1.5.0",
          "state": {
            "_model_module": "@jupyter-widgets/controls",
            "_model_module_version": "1.5.0",
            "_model_name": "DescriptionStyleModel",
            "_view_count": null,
            "_view_module": "@jupyter-widgets/base",
            "_view_module_version": "1.2.0",
            "_view_name": "StyleView",
            "description_width": ""
          }
        },
        "449ae100d2844ddc98028c38f6057e67": {
          "model_module": "@jupyter-widgets/controls",
          "model_name": "HBoxModel",
          "model_module_version": "1.5.0",
          "state": {
            "_dom_classes": [],
            "_model_module": "@jupyter-widgets/controls",
            "_model_module_version": "1.5.0",
            "_model_name": "HBoxModel",
            "_view_count": null,
            "_view_module": "@jupyter-widgets/controls",
            "_view_module_version": "1.5.0",
            "_view_name": "HBoxView",
            "box_style": "",
            "children": [
              "IPY_MODEL_140571976b5d4ac18726afd2c4eca0d1",
              "IPY_MODEL_9fd5a1d663004102864c503e3c95eadb",
              "IPY_MODEL_0bd67a67b1a2478689bf54642d937eae"
            ],
            "layout": "IPY_MODEL_f5ae5b870aa8433ea5c18887014530b3"
          }
        },
        "140571976b5d4ac18726afd2c4eca0d1": {
          "model_module": "@jupyter-widgets/controls",
          "model_name": "HTMLModel",
          "model_module_version": "1.5.0",
          "state": {
            "_dom_classes": [],
            "_model_module": "@jupyter-widgets/controls",
            "_model_module_version": "1.5.0",
            "_model_name": "HTMLModel",
            "_view_count": null,
            "_view_module": "@jupyter-widgets/controls",
            "_view_module_version": "1.5.0",
            "_view_name": "HTMLView",
            "description": "",
            "description_tooltip": null,
            "layout": "IPY_MODEL_da99a996980447338e4244919c6b7800",
            "placeholder": "​",
            "style": "IPY_MODEL_e67f57e9bcff43b9bb29c0b2d4dd124f",
            "value": "100%"
          }
        },
        "9fd5a1d663004102864c503e3c95eadb": {
          "model_module": "@jupyter-widgets/controls",
          "model_name": "FloatProgressModel",
          "model_module_version": "1.5.0",
          "state": {
            "_dom_classes": [],
            "_model_module": "@jupyter-widgets/controls",
            "_model_module_version": "1.5.0",
            "_model_name": "FloatProgressModel",
            "_view_count": null,
            "_view_module": "@jupyter-widgets/controls",
            "_view_module_version": "1.5.0",
            "_view_name": "ProgressView",
            "bar_style": "success",
            "description": "",
            "description_tooltip": null,
            "layout": "IPY_MODEL_437cd5ff33a44a37a72f24d6d9a47f7d",
            "max": 313,
            "min": 0,
            "orientation": "horizontal",
            "style": "IPY_MODEL_0a38c36fcd084c5faf313e5c994b1ede",
            "value": 313
          }
        },
        "0bd67a67b1a2478689bf54642d937eae": {
          "model_module": "@jupyter-widgets/controls",
          "model_name": "HTMLModel",
          "model_module_version": "1.5.0",
          "state": {
            "_dom_classes": [],
            "_model_module": "@jupyter-widgets/controls",
            "_model_module_version": "1.5.0",
            "_model_name": "HTMLModel",
            "_view_count": null,
            "_view_module": "@jupyter-widgets/controls",
            "_view_module_version": "1.5.0",
            "_view_name": "HTMLView",
            "description": "",
            "description_tooltip": null,
            "layout": "IPY_MODEL_3d749d556189469d85295a82285367b8",
            "placeholder": "​",
            "style": "IPY_MODEL_218b6a13503e4320a1485f0269e46318",
            "value": " 313/313 [00:02&lt;00:00, 118.24it/s]"
          }
        },
        "f5ae5b870aa8433ea5c18887014530b3": {
          "model_module": "@jupyter-widgets/base",
          "model_name": "LayoutModel",
          "model_module_version": "1.2.0",
          "state": {
            "_model_module": "@jupyter-widgets/base",
            "_model_module_version": "1.2.0",
            "_model_name": "LayoutModel",
            "_view_count": null,
            "_view_module": "@jupyter-widgets/base",
            "_view_module_version": "1.2.0",
            "_view_name": "LayoutView",
            "align_content": null,
            "align_items": null,
            "align_self": null,
            "border": null,
            "bottom": null,
            "display": null,
            "flex": null,
            "flex_flow": null,
            "grid_area": null,
            "grid_auto_columns": null,
            "grid_auto_flow": null,
            "grid_auto_rows": null,
            "grid_column": null,
            "grid_gap": null,
            "grid_row": null,
            "grid_template_areas": null,
            "grid_template_columns": null,
            "grid_template_rows": null,
            "height": null,
            "justify_content": null,
            "justify_items": null,
            "left": null,
            "margin": null,
            "max_height": null,
            "max_width": null,
            "min_height": null,
            "min_width": null,
            "object_fit": null,
            "object_position": null,
            "order": null,
            "overflow": null,
            "overflow_x": null,
            "overflow_y": null,
            "padding": null,
            "right": null,
            "top": null,
            "visibility": null,
            "width": null
          }
        },
        "da99a996980447338e4244919c6b7800": {
          "model_module": "@jupyter-widgets/base",
          "model_name": "LayoutModel",
          "model_module_version": "1.2.0",
          "state": {
            "_model_module": "@jupyter-widgets/base",
            "_model_module_version": "1.2.0",
            "_model_name": "LayoutModel",
            "_view_count": null,
            "_view_module": "@jupyter-widgets/base",
            "_view_module_version": "1.2.0",
            "_view_name": "LayoutView",
            "align_content": null,
            "align_items": null,
            "align_self": null,
            "border": null,
            "bottom": null,
            "display": null,
            "flex": null,
            "flex_flow": null,
            "grid_area": null,
            "grid_auto_columns": null,
            "grid_auto_flow": null,
            "grid_auto_rows": null,
            "grid_column": null,
            "grid_gap": null,
            "grid_row": null,
            "grid_template_areas": null,
            "grid_template_columns": null,
            "grid_template_rows": null,
            "height": null,
            "justify_content": null,
            "justify_items": null,
            "left": null,
            "margin": null,
            "max_height": null,
            "max_width": null,
            "min_height": null,
            "min_width": null,
            "object_fit": null,
            "object_position": null,
            "order": null,
            "overflow": null,
            "overflow_x": null,
            "overflow_y": null,
            "padding": null,
            "right": null,
            "top": null,
            "visibility": null,
            "width": null
          }
        },
        "e67f57e9bcff43b9bb29c0b2d4dd124f": {
          "model_module": "@jupyter-widgets/controls",
          "model_name": "DescriptionStyleModel",
          "model_module_version": "1.5.0",
          "state": {
            "_model_module": "@jupyter-widgets/controls",
            "_model_module_version": "1.5.0",
            "_model_name": "DescriptionStyleModel",
            "_view_count": null,
            "_view_module": "@jupyter-widgets/base",
            "_view_module_version": "1.2.0",
            "_view_name": "StyleView",
            "description_width": ""
          }
        },
        "437cd5ff33a44a37a72f24d6d9a47f7d": {
          "model_module": "@jupyter-widgets/base",
          "model_name": "LayoutModel",
          "model_module_version": "1.2.0",
          "state": {
            "_model_module": "@jupyter-widgets/base",
            "_model_module_version": "1.2.0",
            "_model_name": "LayoutModel",
            "_view_count": null,
            "_view_module": "@jupyter-widgets/base",
            "_view_module_version": "1.2.0",
            "_view_name": "LayoutView",
            "align_content": null,
            "align_items": null,
            "align_self": null,
            "border": null,
            "bottom": null,
            "display": null,
            "flex": null,
            "flex_flow": null,
            "grid_area": null,
            "grid_auto_columns": null,
            "grid_auto_flow": null,
            "grid_auto_rows": null,
            "grid_column": null,
            "grid_gap": null,
            "grid_row": null,
            "grid_template_areas": null,
            "grid_template_columns": null,
            "grid_template_rows": null,
            "height": null,
            "justify_content": null,
            "justify_items": null,
            "left": null,
            "margin": null,
            "max_height": null,
            "max_width": null,
            "min_height": null,
            "min_width": null,
            "object_fit": null,
            "object_position": null,
            "order": null,
            "overflow": null,
            "overflow_x": null,
            "overflow_y": null,
            "padding": null,
            "right": null,
            "top": null,
            "visibility": null,
            "width": null
          }
        },
        "0a38c36fcd084c5faf313e5c994b1ede": {
          "model_module": "@jupyter-widgets/controls",
          "model_name": "ProgressStyleModel",
          "model_module_version": "1.5.0",
          "state": {
            "_model_module": "@jupyter-widgets/controls",
            "_model_module_version": "1.5.0",
            "_model_name": "ProgressStyleModel",
            "_view_count": null,
            "_view_module": "@jupyter-widgets/base",
            "_view_module_version": "1.2.0",
            "_view_name": "StyleView",
            "bar_color": null,
            "description_width": ""
          }
        },
        "3d749d556189469d85295a82285367b8": {
          "model_module": "@jupyter-widgets/base",
          "model_name": "LayoutModel",
          "model_module_version": "1.2.0",
          "state": {
            "_model_module": "@jupyter-widgets/base",
            "_model_module_version": "1.2.0",
            "_model_name": "LayoutModel",
            "_view_count": null,
            "_view_module": "@jupyter-widgets/base",
            "_view_module_version": "1.2.0",
            "_view_name": "LayoutView",
            "align_content": null,
            "align_items": null,
            "align_self": null,
            "border": null,
            "bottom": null,
            "display": null,
            "flex": null,
            "flex_flow": null,
            "grid_area": null,
            "grid_auto_columns": null,
            "grid_auto_flow": null,
            "grid_auto_rows": null,
            "grid_column": null,
            "grid_gap": null,
            "grid_row": null,
            "grid_template_areas": null,
            "grid_template_columns": null,
            "grid_template_rows": null,
            "height": null,
            "justify_content": null,
            "justify_items": null,
            "left": null,
            "margin": null,
            "max_height": null,
            "max_width": null,
            "min_height": null,
            "min_width": null,
            "object_fit": null,
            "object_position": null,
            "order": null,
            "overflow": null,
            "overflow_x": null,
            "overflow_y": null,
            "padding": null,
            "right": null,
            "top": null,
            "visibility": null,
            "width": null
          }
        },
        "218b6a13503e4320a1485f0269e46318": {
          "model_module": "@jupyter-widgets/controls",
          "model_name": "DescriptionStyleModel",
          "model_module_version": "1.5.0",
          "state": {
            "_model_module": "@jupyter-widgets/controls",
            "_model_module_version": "1.5.0",
            "_model_name": "DescriptionStyleModel",
            "_view_count": null,
            "_view_module": "@jupyter-widgets/base",
            "_view_module_version": "1.2.0",
            "_view_name": "StyleView",
            "description_width": ""
          }
        }
      }
    },
    "accelerator": "GPU"
  },
  "cells": [
    {
      "cell_type": "code",
      "execution_count": null,
      "metadata": {
        "id": "qr1win0YPpr4"
      },
      "outputs": [],
      "source": [
        "import torch\n",
        "from torch import nn\n",
        "import torchvision\n",
        "from torchvision import datasets\n",
        "from torchvision import transforms\n",
        "from torchvision.transforms import ToTensor\n",
        "import matplotlib.pyplot as plt"
      ]
    },
    {
      "cell_type": "code",
      "source": [
        "from torchvision import datasets\n",
        "train_data=datasets.FashionMNIST(\n",
        "    root=\"data\",\n",
        "    train=True,\n",
        "    download=True,\n",
        "    transform=torchvision.transforms.ToTensor(),\n",
        "    target_transform=None\n",
        ")\n",
        "test_data=datasets.FashionMNIST(\n",
        "    root=\"data\",\n",
        "    train=False,\n",
        "    download=True,\n",
        "    transform=torchvision.transforms.ToTensor(),\n",
        "    target_transform=None\n",
        ")"
      ],
      "metadata": {
        "id": "dBI4OitPTMzv",
        "colab": {
          "base_uri": "https://localhost:8080/"
        },
        "outputId": "b311d6e6-6624-4fc1-d34c-4ef9ff0bf6a3"
      },
      "execution_count": null,
      "outputs": [
        {
          "output_type": "stream",
          "name": "stdout",
          "text": [
            "Downloading http://fashion-mnist.s3-website.eu-central-1.amazonaws.com/train-images-idx3-ubyte.gz\n",
            "Downloading http://fashion-mnist.s3-website.eu-central-1.amazonaws.com/train-images-idx3-ubyte.gz to data/FashionMNIST/raw/train-images-idx3-ubyte.gz\n"
          ]
        },
        {
          "output_type": "stream",
          "name": "stderr",
          "text": [
            "100%|██████████| 26421880/26421880 [00:05<00:00, 4589768.31it/s]\n"
          ]
        },
        {
          "output_type": "stream",
          "name": "stdout",
          "text": [
            "Extracting data/FashionMNIST/raw/train-images-idx3-ubyte.gz to data/FashionMNIST/raw\n",
            "\n",
            "Downloading http://fashion-mnist.s3-website.eu-central-1.amazonaws.com/train-labels-idx1-ubyte.gz\n",
            "Downloading http://fashion-mnist.s3-website.eu-central-1.amazonaws.com/train-labels-idx1-ubyte.gz to data/FashionMNIST/raw/train-labels-idx1-ubyte.gz\n"
          ]
        },
        {
          "output_type": "stream",
          "name": "stderr",
          "text": [
            "100%|██████████| 29515/29515 [00:00<00:00, 197296.20it/s]\n"
          ]
        },
        {
          "output_type": "stream",
          "name": "stdout",
          "text": [
            "Extracting data/FashionMNIST/raw/train-labels-idx1-ubyte.gz to data/FashionMNIST/raw\n",
            "\n",
            "Downloading http://fashion-mnist.s3-website.eu-central-1.amazonaws.com/t10k-images-idx3-ubyte.gz\n",
            "Downloading http://fashion-mnist.s3-website.eu-central-1.amazonaws.com/t10k-images-idx3-ubyte.gz to data/FashionMNIST/raw/t10k-images-idx3-ubyte.gz\n"
          ]
        },
        {
          "output_type": "stream",
          "name": "stderr",
          "text": [
            "100%|██████████| 4422102/4422102 [00:02<00:00, 1788767.09it/s]\n"
          ]
        },
        {
          "output_type": "stream",
          "name": "stdout",
          "text": [
            "Extracting data/FashionMNIST/raw/t10k-images-idx3-ubyte.gz to data/FashionMNIST/raw\n",
            "\n",
            "Downloading http://fashion-mnist.s3-website.eu-central-1.amazonaws.com/t10k-labels-idx1-ubyte.gz\n",
            "Downloading http://fashion-mnist.s3-website.eu-central-1.amazonaws.com/t10k-labels-idx1-ubyte.gz to data/FashionMNIST/raw/t10k-labels-idx1-ubyte.gz\n"
          ]
        },
        {
          "output_type": "stream",
          "name": "stderr",
          "text": [
            "100%|██████████| 5148/5148 [00:00<00:00, 22704812.82it/s]\n"
          ]
        },
        {
          "output_type": "stream",
          "name": "stdout",
          "text": [
            "Extracting data/FashionMNIST/raw/t10k-labels-idx1-ubyte.gz to data/FashionMNIST/raw\n",
            "\n"
          ]
        }
      ]
    },
    {
      "cell_type": "code",
      "source": [
        "len(train_data),len(test_data)"
      ],
      "metadata": {
        "colab": {
          "base_uri": "https://localhost:8080/"
        },
        "id": "UCgrbkn8T0z7",
        "outputId": "cc971bd5-8535-4ac1-f2d4-0f9a0962e3d7"
      },
      "execution_count": null,
      "outputs": [
        {
          "output_type": "execute_result",
          "data": {
            "text/plain": [
              "(60000, 10000)"
            ]
          },
          "metadata": {},
          "execution_count": 3
        }
      ]
    },
    {
      "cell_type": "code",
      "source": [
        "image,label=train_data[0]\n",
        "image,label"
      ],
      "metadata": {
        "colab": {
          "base_uri": "https://localhost:8080/"
        },
        "id": "XaxsIIchT02E",
        "outputId": "ff24e5ea-40f8-4ded-f21d-7a5ec72cf4be"
      },
      "execution_count": null,
      "outputs": [
        {
          "output_type": "execute_result",
          "data": {
            "text/plain": [
              "(tensor([[[0.0000, 0.0000, 0.0000, 0.0000, 0.0000, 0.0000, 0.0000, 0.0000,\n",
              "           0.0000, 0.0000, 0.0000, 0.0000, 0.0000, 0.0000, 0.0000, 0.0000,\n",
              "           0.0000, 0.0000, 0.0000, 0.0000, 0.0000, 0.0000, 0.0000, 0.0000,\n",
              "           0.0000, 0.0000, 0.0000, 0.0000],\n",
              "          [0.0000, 0.0000, 0.0000, 0.0000, 0.0000, 0.0000, 0.0000, 0.0000,\n",
              "           0.0000, 0.0000, 0.0000, 0.0000, 0.0000, 0.0000, 0.0000, 0.0000,\n",
              "           0.0000, 0.0000, 0.0000, 0.0000, 0.0000, 0.0000, 0.0000, 0.0000,\n",
              "           0.0000, 0.0000, 0.0000, 0.0000],\n",
              "          [0.0000, 0.0000, 0.0000, 0.0000, 0.0000, 0.0000, 0.0000, 0.0000,\n",
              "           0.0000, 0.0000, 0.0000, 0.0000, 0.0000, 0.0000, 0.0000, 0.0000,\n",
              "           0.0000, 0.0000, 0.0000, 0.0000, 0.0000, 0.0000, 0.0000, 0.0000,\n",
              "           0.0000, 0.0000, 0.0000, 0.0000],\n",
              "          [0.0000, 0.0000, 0.0000, 0.0000, 0.0000, 0.0000, 0.0000, 0.0000,\n",
              "           0.0000, 0.0000, 0.0000, 0.0000, 0.0039, 0.0000, 0.0000, 0.0510,\n",
              "           0.2863, 0.0000, 0.0000, 0.0039, 0.0157, 0.0000, 0.0000, 0.0000,\n",
              "           0.0000, 0.0039, 0.0039, 0.0000],\n",
              "          [0.0000, 0.0000, 0.0000, 0.0000, 0.0000, 0.0000, 0.0000, 0.0000,\n",
              "           0.0000, 0.0000, 0.0000, 0.0000, 0.0118, 0.0000, 0.1412, 0.5333,\n",
              "           0.4980, 0.2431, 0.2118, 0.0000, 0.0000, 0.0000, 0.0039, 0.0118,\n",
              "           0.0157, 0.0000, 0.0000, 0.0118],\n",
              "          [0.0000, 0.0000, 0.0000, 0.0000, 0.0000, 0.0000, 0.0000, 0.0000,\n",
              "           0.0000, 0.0000, 0.0000, 0.0000, 0.0235, 0.0000, 0.4000, 0.8000,\n",
              "           0.6902, 0.5255, 0.5647, 0.4824, 0.0902, 0.0000, 0.0000, 0.0000,\n",
              "           0.0000, 0.0471, 0.0392, 0.0000],\n",
              "          [0.0000, 0.0000, 0.0000, 0.0000, 0.0000, 0.0000, 0.0000, 0.0000,\n",
              "           0.0000, 0.0000, 0.0000, 0.0000, 0.0000, 0.0000, 0.6078, 0.9255,\n",
              "           0.8118, 0.6980, 0.4196, 0.6118, 0.6314, 0.4275, 0.2510, 0.0902,\n",
              "           0.3020, 0.5098, 0.2824, 0.0588],\n",
              "          [0.0000, 0.0000, 0.0000, 0.0000, 0.0000, 0.0000, 0.0000, 0.0000,\n",
              "           0.0000, 0.0000, 0.0000, 0.0039, 0.0000, 0.2706, 0.8118, 0.8745,\n",
              "           0.8549, 0.8471, 0.8471, 0.6392, 0.4980, 0.4745, 0.4784, 0.5725,\n",
              "           0.5529, 0.3451, 0.6745, 0.2588],\n",
              "          [0.0000, 0.0000, 0.0000, 0.0000, 0.0000, 0.0000, 0.0000, 0.0000,\n",
              "           0.0000, 0.0039, 0.0039, 0.0039, 0.0000, 0.7843, 0.9098, 0.9098,\n",
              "           0.9137, 0.8980, 0.8745, 0.8745, 0.8431, 0.8353, 0.6431, 0.4980,\n",
              "           0.4824, 0.7686, 0.8980, 0.0000],\n",
              "          [0.0000, 0.0000, 0.0000, 0.0000, 0.0000, 0.0000, 0.0000, 0.0000,\n",
              "           0.0000, 0.0000, 0.0000, 0.0000, 0.0000, 0.7176, 0.8824, 0.8471,\n",
              "           0.8745, 0.8941, 0.9216, 0.8902, 0.8784, 0.8706, 0.8784, 0.8667,\n",
              "           0.8745, 0.9608, 0.6784, 0.0000],\n",
              "          [0.0000, 0.0000, 0.0000, 0.0000, 0.0000, 0.0000, 0.0000, 0.0000,\n",
              "           0.0000, 0.0000, 0.0000, 0.0000, 0.0000, 0.7569, 0.8941, 0.8549,\n",
              "           0.8353, 0.7765, 0.7059, 0.8314, 0.8235, 0.8275, 0.8353, 0.8745,\n",
              "           0.8627, 0.9529, 0.7922, 0.0000],\n",
              "          [0.0000, 0.0000, 0.0000, 0.0000, 0.0000, 0.0000, 0.0000, 0.0000,\n",
              "           0.0000, 0.0039, 0.0118, 0.0000, 0.0471, 0.8588, 0.8627, 0.8314,\n",
              "           0.8549, 0.7529, 0.6627, 0.8902, 0.8157, 0.8549, 0.8784, 0.8314,\n",
              "           0.8863, 0.7725, 0.8196, 0.2039],\n",
              "          [0.0000, 0.0000, 0.0000, 0.0000, 0.0000, 0.0000, 0.0000, 0.0000,\n",
              "           0.0000, 0.0000, 0.0235, 0.0000, 0.3882, 0.9569, 0.8706, 0.8627,\n",
              "           0.8549, 0.7961, 0.7765, 0.8667, 0.8431, 0.8353, 0.8706, 0.8627,\n",
              "           0.9608, 0.4667, 0.6549, 0.2196],\n",
              "          [0.0000, 0.0000, 0.0000, 0.0000, 0.0000, 0.0000, 0.0000, 0.0000,\n",
              "           0.0000, 0.0157, 0.0000, 0.0000, 0.2157, 0.9255, 0.8941, 0.9020,\n",
              "           0.8941, 0.9412, 0.9098, 0.8353, 0.8549, 0.8745, 0.9176, 0.8510,\n",
              "           0.8510, 0.8196, 0.3608, 0.0000],\n",
              "          [0.0000, 0.0000, 0.0039, 0.0157, 0.0235, 0.0275, 0.0078, 0.0000,\n",
              "           0.0000, 0.0000, 0.0000, 0.0000, 0.9294, 0.8863, 0.8510, 0.8745,\n",
              "           0.8706, 0.8588, 0.8706, 0.8667, 0.8471, 0.8745, 0.8980, 0.8431,\n",
              "           0.8549, 1.0000, 0.3020, 0.0000],\n",
              "          [0.0000, 0.0118, 0.0000, 0.0000, 0.0000, 0.0000, 0.0000, 0.0000,\n",
              "           0.0000, 0.2431, 0.5686, 0.8000, 0.8941, 0.8118, 0.8353, 0.8667,\n",
              "           0.8549, 0.8157, 0.8275, 0.8549, 0.8784, 0.8745, 0.8588, 0.8431,\n",
              "           0.8784, 0.9569, 0.6235, 0.0000],\n",
              "          [0.0000, 0.0000, 0.0000, 0.0000, 0.0706, 0.1725, 0.3216, 0.4196,\n",
              "           0.7412, 0.8941, 0.8627, 0.8706, 0.8510, 0.8863, 0.7843, 0.8039,\n",
              "           0.8275, 0.9020, 0.8784, 0.9176, 0.6902, 0.7373, 0.9804, 0.9725,\n",
              "           0.9137, 0.9333, 0.8431, 0.0000],\n",
              "          [0.0000, 0.2235, 0.7333, 0.8157, 0.8784, 0.8667, 0.8784, 0.8157,\n",
              "           0.8000, 0.8392, 0.8157, 0.8196, 0.7843, 0.6235, 0.9608, 0.7569,\n",
              "           0.8078, 0.8745, 1.0000, 1.0000, 0.8667, 0.9176, 0.8667, 0.8275,\n",
              "           0.8627, 0.9098, 0.9647, 0.0000],\n",
              "          [0.0118, 0.7922, 0.8941, 0.8784, 0.8667, 0.8275, 0.8275, 0.8392,\n",
              "           0.8039, 0.8039, 0.8039, 0.8627, 0.9412, 0.3137, 0.5882, 1.0000,\n",
              "           0.8980, 0.8667, 0.7373, 0.6039, 0.7490, 0.8235, 0.8000, 0.8196,\n",
              "           0.8706, 0.8941, 0.8824, 0.0000],\n",
              "          [0.3843, 0.9137, 0.7765, 0.8235, 0.8706, 0.8980, 0.8980, 0.9176,\n",
              "           0.9765, 0.8627, 0.7608, 0.8431, 0.8510, 0.9451, 0.2549, 0.2863,\n",
              "           0.4157, 0.4588, 0.6588, 0.8588, 0.8667, 0.8431, 0.8510, 0.8745,\n",
              "           0.8745, 0.8784, 0.8980, 0.1137],\n",
              "          [0.2941, 0.8000, 0.8314, 0.8000, 0.7569, 0.8039, 0.8275, 0.8824,\n",
              "           0.8471, 0.7255, 0.7725, 0.8078, 0.7765, 0.8353, 0.9412, 0.7647,\n",
              "           0.8902, 0.9608, 0.9373, 0.8745, 0.8549, 0.8314, 0.8196, 0.8706,\n",
              "           0.8627, 0.8667, 0.9020, 0.2627],\n",
              "          [0.1882, 0.7961, 0.7176, 0.7608, 0.8353, 0.7725, 0.7255, 0.7451,\n",
              "           0.7608, 0.7529, 0.7922, 0.8392, 0.8588, 0.8667, 0.8627, 0.9255,\n",
              "           0.8824, 0.8471, 0.7804, 0.8078, 0.7294, 0.7098, 0.6941, 0.6745,\n",
              "           0.7098, 0.8039, 0.8078, 0.4510],\n",
              "          [0.0000, 0.4784, 0.8588, 0.7569, 0.7020, 0.6706, 0.7176, 0.7686,\n",
              "           0.8000, 0.8235, 0.8353, 0.8118, 0.8275, 0.8235, 0.7843, 0.7686,\n",
              "           0.7608, 0.7490, 0.7647, 0.7490, 0.7765, 0.7529, 0.6902, 0.6118,\n",
              "           0.6549, 0.6941, 0.8235, 0.3608],\n",
              "          [0.0000, 0.0000, 0.2902, 0.7412, 0.8314, 0.7490, 0.6863, 0.6745,\n",
              "           0.6863, 0.7098, 0.7255, 0.7373, 0.7412, 0.7373, 0.7569, 0.7765,\n",
              "           0.8000, 0.8196, 0.8235, 0.8235, 0.8275, 0.7373, 0.7373, 0.7608,\n",
              "           0.7529, 0.8471, 0.6667, 0.0000],\n",
              "          [0.0078, 0.0000, 0.0000, 0.0000, 0.2588, 0.7843, 0.8706, 0.9294,\n",
              "           0.9373, 0.9490, 0.9647, 0.9529, 0.9569, 0.8667, 0.8627, 0.7569,\n",
              "           0.7490, 0.7020, 0.7137, 0.7137, 0.7098, 0.6902, 0.6510, 0.6588,\n",
              "           0.3882, 0.2275, 0.0000, 0.0000],\n",
              "          [0.0000, 0.0000, 0.0000, 0.0000, 0.0000, 0.0000, 0.0000, 0.1569,\n",
              "           0.2392, 0.1725, 0.2824, 0.1608, 0.1373, 0.0000, 0.0000, 0.0000,\n",
              "           0.0000, 0.0000, 0.0000, 0.0000, 0.0000, 0.0000, 0.0000, 0.0000,\n",
              "           0.0000, 0.0000, 0.0000, 0.0000],\n",
              "          [0.0000, 0.0000, 0.0000, 0.0000, 0.0000, 0.0000, 0.0000, 0.0000,\n",
              "           0.0000, 0.0000, 0.0000, 0.0000, 0.0000, 0.0000, 0.0000, 0.0000,\n",
              "           0.0000, 0.0000, 0.0000, 0.0000, 0.0000, 0.0000, 0.0000, 0.0000,\n",
              "           0.0000, 0.0000, 0.0000, 0.0000],\n",
              "          [0.0000, 0.0000, 0.0000, 0.0000, 0.0000, 0.0000, 0.0000, 0.0000,\n",
              "           0.0000, 0.0000, 0.0000, 0.0000, 0.0000, 0.0000, 0.0000, 0.0000,\n",
              "           0.0000, 0.0000, 0.0000, 0.0000, 0.0000, 0.0000, 0.0000, 0.0000,\n",
              "           0.0000, 0.0000, 0.0000, 0.0000]]]),\n",
              " 9)"
            ]
          },
          "metadata": {},
          "execution_count": 4
        }
      ]
    },
    {
      "cell_type": "code",
      "source": [
        "class_name=train_data.classes\n",
        "class_name"
      ],
      "metadata": {
        "colab": {
          "base_uri": "https://localhost:8080/"
        },
        "id": "yMzti9nYT04N",
        "outputId": "dfd1bbd6-ad3d-4c1a-cfd0-4a725862e84c"
      },
      "execution_count": null,
      "outputs": [
        {
          "output_type": "execute_result",
          "data": {
            "text/plain": [
              "['T-shirt/top',\n",
              " 'Trouser',\n",
              " 'Pullover',\n",
              " 'Dress',\n",
              " 'Coat',\n",
              " 'Sandal',\n",
              " 'Shirt',\n",
              " 'Sneaker',\n",
              " 'Bag',\n",
              " 'Ankle boot']"
            ]
          },
          "metadata": {},
          "execution_count": 5
        }
      ]
    },
    {
      "cell_type": "code",
      "source": [
        "class_to_idx=train_data.class_to_idx\n",
        "class_to_idx"
      ],
      "metadata": {
        "colab": {
          "base_uri": "https://localhost:8080/"
        },
        "id": "A9efrAFwT06R",
        "outputId": "f665ffb4-2990-420a-ed89-65abf9c1ad88"
      },
      "execution_count": null,
      "outputs": [
        {
          "output_type": "execute_result",
          "data": {
            "text/plain": [
              "{'T-shirt/top': 0,\n",
              " 'Trouser': 1,\n",
              " 'Pullover': 2,\n",
              " 'Dress': 3,\n",
              " 'Coat': 4,\n",
              " 'Sandal': 5,\n",
              " 'Shirt': 6,\n",
              " 'Sneaker': 7,\n",
              " 'Bag': 8,\n",
              " 'Ankle boot': 9}"
            ]
          },
          "metadata": {},
          "execution_count": 6
        }
      ]
    },
    {
      "cell_type": "code",
      "source": [
        "image.shape,label"
      ],
      "metadata": {
        "colab": {
          "base_uri": "https://localhost:8080/"
        },
        "id": "44btRyMlT08b",
        "outputId": "10bc16b3-4823-4e2a-e62e-81154620cb00"
      },
      "execution_count": null,
      "outputs": [
        {
          "output_type": "execute_result",
          "data": {
            "text/plain": [
              "(torch.Size([1, 28, 28]), 9)"
            ]
          },
          "metadata": {},
          "execution_count": 7
        }
      ]
    },
    {
      "cell_type": "code",
      "source": [
        "import matplotlib.pyplot as plt\n",
        "image,label=train_data[0]\n",
        "plt.imshow(image.squeeze(),cmap=\"gray\")\n",
        "plt.title(class_name[label])\n",
        "plt.axis(False)"
      ],
      "metadata": {
        "id": "C8mBCe7ZXBFj",
        "colab": {
          "base_uri": "https://localhost:8080/",
          "height": 445
        },
        "outputId": "6647711d-df4a-4da5-9ece-2bf8f5e16395"
      },
      "execution_count": null,
      "outputs": [
        {
          "output_type": "execute_result",
          "data": {
            "text/plain": [
              "(-0.5, 27.5, 27.5, -0.5)"
            ]
          },
          "metadata": {},
          "execution_count": 8
        },
        {
          "output_type": "display_data",
          "data": {
            "text/plain": [
              "<Figure size 640x480 with 1 Axes>"
            ],
            "image/png": "[encoded data removed]"
          },
          "metadata": {}
        }
      ]
    },
    {
      "cell_type": "code",
      "source": [
        "torch.manual_seed(42)\n",
        "fig=plt.figure(figsize=(9,9))\n",
        "rows,cols=4,4\n",
        "for i in range(1,rows*cols+1):\n",
        "    random_idx=torch.randint(0,len(train_data),(1,)).item()\n",
        "    img,label=train_data[random_idx]\n",
        "    fig.add_subplot(rows,cols,i)\n",
        "    plt.imshow(img.squeeze(),cmap=\"gray\")\n",
        "    plt.title(class_name[label])\n",
        "    plt.axis(False)"
      ],
      "metadata": {
        "id": "gIKDcA5zXBIH",
        "colab": {
          "base_uri": "https://localhost:8080/",
          "height": 752
        },
        "outputId": "4b637b5f-0dbc-4b2c-b6fd-a70f03758095"
      },
      "execution_count": null,
      "outputs": [
        {
          "output_type": "display_data",
          "data": {
            "text/plain": [
              "<Figure size 900x900 with 16 Axes>"
            ],
            "image/png": "[encoded data removed]"
          },
          "metadata": {}
        }
      ]
    },
    {
      "cell_type": "code",
      "source": [
        "from torch.utils.data import DataLoader\n",
        "train_dataloader=DataLoader(train_data,batch_size=32,shuffle=True)\n",
        "test_dataloader=DataLoader(test_data,batch_size=32,shuffle=True)\n",
        "train_dataloader,test_dataloader"
      ],
      "metadata": {
        "id": "JK43N3B1XBLv",
        "colab": {
          "base_uri": "https://localhost:8080/"
        },
        "outputId": "d992266c-5ebc-475a-c108-fcd0bda01c96"
      },
      "execution_count": null,
      "outputs": [
        {
          "output_type": "execute_result",
          "data": {
            "text/plain": [
              "(<torch.utils.data.dataloader.DataLoader at 0x7cc44b96b760>,\n",
              " <torch.utils.data.dataloader.DataLoader at 0x7cc44b969150>)"
            ]
          },
          "metadata": {},
          "execution_count": 10
        }
      ]
    },
    {
      "cell_type": "code",
      "source": [
        "print(f\"Dtaloader:{train_dataloader}\\nLength:{len(train_dataloader)}\\nType:{type(train_dataloader)}\")\n",
        "print(f\"Dataloader:{test_dataloader}\\nLength:{len(test_dataloader)}\\nType:{type(test_dataloader)}\")"
      ],
      "metadata": {
        "id": "S_cIsQvvT0-k",
        "colab": {
          "base_uri": "https://localhost:8080/"
        },
        "outputId": "b20dcef2-7818-4299-b5f0-6777ff58d0d7"
      },
      "execution_count": null,
      "outputs": [
        {
          "output_type": "stream",
          "name": "stdout",
          "text": [
            "Dtaloader:<torch.utils.data.dataloader.DataLoader object at 0x7cc44b96b760>\n",
            "Length:1875\n",
            "Type:<class 'torch.utils.data.dataloader.DataLoader'>\n",
            "Dataloader:<torch.utils.data.dataloader.DataLoader object at 0x7cc44b969150>\n",
            "Length:313\n",
            "Type:<class 'torch.utils.data.dataloader.DataLoader'>\n"
          ]
        }
      ]
    },
    {
      "cell_type": "code",
      "source": [
        "train_features_batch,train_labels_batch=next(iter(train_dataloader))\n",
        "train_features_batch.shape,train_labels_batch.shape"
      ],
      "metadata": {
        "id": "vRJxu64dT1Av",
        "colab": {
          "base_uri": "https://localhost:8080/"
        },
        "outputId": "901207ef-56ad-41bf-e812-f276c9741628"
      },
      "execution_count": null,
      "outputs": [
        {
          "output_type": "execute_result",
          "data": {
            "text/plain": [
              "(torch.Size([32, 1, 28, 28]), torch.Size([32]))"
            ]
          },
          "metadata": {},
          "execution_count": 12
        }
      ]
    },
    {
      "cell_type": "code",
      "source": [
        "torch.manual_seed(42)\n",
        "random_idx=torch.randint(0,len(train_features_batch),(1,)).item()\n",
        "img,label=train_features_batch[random_idx],train_labels_batch[random_idx]\n",
        "plt.imshow(img.squeeze(),cmap=\"gray\")\n",
        "plt.title(class_name[label])\n",
        "plt.axis(False)"
      ],
      "metadata": {
        "id": "4KHUPSz1T1DA",
        "colab": {
          "base_uri": "https://localhost:8080/",
          "height": 445
        },
        "outputId": "69bc638b-c7e8-426d-f1a6-85d4a940f25d"
      },
      "execution_count": null,
      "outputs": [
        {
          "output_type": "execute_result",
          "data": {
            "text/plain": [
              "(-0.5, 27.5, 27.5, -0.5)"
            ]
          },
          "metadata": {},
          "execution_count": 13
        },
        {
          "output_type": "display_data",
          "data": {
            "text/plain": [
              "<Figure size 640x480 with 1 Axes>"
            ],
            "image/png": "[encoded data removed]"
          },
          "metadata": {}
        }
      ]
    },
    {
      "cell_type": "code",
      "source": [
        "flatten_model=nn.Flatten()\n",
        "x=train_features_batch[0]\n",
        "output=flatten_model(x)\n",
        "print(f\"shape before flattening:{x.shape}\\nshape after flatten:{output.shape}\")"
      ],
      "metadata": {
        "id": "r-5QD3rPT1FD",
        "colab": {
          "base_uri": "https://localhost:8080/"
        },
        "outputId": "3bfcf7d0-7882-4c24-cac0-94ac14f2ff97"
      },
      "execution_count": null,
      "outputs": [
        {
          "output_type": "stream",
          "name": "stdout",
          "text": [
            "shape before flattening:torch.Size([1, 28, 28])\n",
            "shape after flatten:torch.Size([1, 784])\n"
          ]
        }
      ]
    },
    {
      "cell_type": "code",
      "source": [
        "from torch import nn\n",
        "class FashionMNISTModelV0(nn.Module):\n",
        "  def __init__(self,input_shape:int,hidden_units:int,output_shape:int):\n",
        "    super().__init__()\n",
        "    self.layer_stack=nn.Sequential(\n",
        "        nn.Flatten(),\n",
        "        nn.Linear(in_features=input_shape,out_features=hidden_units),\n",
        "        nn.Linear(in_features=hidden_units,out_features=output_shape)\n",
        "    )\n",
        "  def forward(self,x):\n",
        "    return self.layer_stack(x)\n",
        "\n"
      ],
      "metadata": {
        "id": "EV0sNQI-T1HM"
      },
      "execution_count": null,
      "outputs": []
    },
    {
      "cell_type": "code",
      "source": [
        "torch.manual_seed(42)\n",
        "model_0=FashionMNISTModelV0(input_shape=784,hidden_units=10,output_shape=len(class_name))\n",
        "model_0"
      ],
      "metadata": {
        "colab": {
          "base_uri": "https://localhost:8080/"
        },
        "id": "cJWoTwY-Yu6x",
        "outputId": "a3fe8e5b-0026-4a43-d352-5529db14882b"
      },
      "execution_count": null,
      "outputs": [
        {
          "output_type": "execute_result",
          "data": {
            "text/plain": [
              "FashionMNISTModelV0(\n",
              "  (layer_stack): Sequential(\n",
              "    (0): Flatten(start_dim=1, end_dim=-1)\n",
              "    (1): Linear(in_features=784, out_features=10, bias=True)\n",
              "    (2): Linear(in_features=10, out_features=10, bias=True)\n",
              "  )\n",
              ")"
            ]
          },
          "metadata": {},
          "execution_count": 16
        }
      ]
    },
    {
      "cell_type": "code",
      "source": [
        "dummy_x=torch.rand([1,1,28,28])\n",
        "model_0(dummy_x)"
      ],
      "metadata": {
        "colab": {
          "base_uri": "https://localhost:8080/"
        },
        "id": "ji9Nm6GdZMid",
        "outputId": "ddf2a3c7-83cf-494e-abf5-827d27063aa9"
      },
      "execution_count": null,
      "outputs": [
        {
          "output_type": "execute_result",
          "data": {
            "text/plain": [
              "tensor([[-0.0315,  0.3171,  0.0531, -0.2525,  0.5959,  0.2112,  0.3233,  0.2694,\n",
              "         -0.1004,  0.0157]], grad_fn=<AddmmBackward0>)"
            ]
          },
          "metadata": {},
          "execution_count": 17
        }
      ]
    },
    {
      "cell_type": "code",
      "source": [
        "model_0.state_dict()"
      ],
      "metadata": {
        "colab": {
          "base_uri": "https://localhost:8080/"
        },
        "id": "hfwubrgcZdx2",
        "outputId": "18f71659-ecbe-4740-a7c3-b144f9fe222a"
      },
      "execution_count": null,
      "outputs": [
        {
          "output_type": "execute_result",
          "data": {
            "text/plain": [
              "OrderedDict([('layer_stack.1.weight',\n",
              "              tensor([[ 0.0273,  0.0296, -0.0084,  ..., -0.0142,  0.0093,  0.0135],\n",
              "                      [-0.0188, -0.0354,  0.0187,  ..., -0.0106, -0.0001,  0.0115],\n",
              "                      [-0.0008,  0.0017,  0.0045,  ..., -0.0127, -0.0188,  0.0059],\n",
              "                      ...,\n",
              "                      [-0.0116,  0.0273, -0.0344,  ...,  0.0176,  0.0283, -0.0011],\n",
              "                      [-0.0230,  0.0257,  0.0291,  ..., -0.0187, -0.0087,  0.0001],\n",
              "                      [ 0.0176, -0.0147,  0.0053,  ..., -0.0336, -0.0221,  0.0205]])),\n",
              "             ('layer_stack.1.bias',\n",
              "              tensor([-0.0093,  0.0283, -0.0033,  0.0255,  0.0017,  0.0037, -0.0302, -0.0123,\n",
              "                       0.0018,  0.0163])),\n",
              "             ('layer_stack.2.weight',\n",
              "              tensor([[ 0.0614, -0.0687,  0.0021,  0.2718,  0.2109,  0.1079, -0.2279, -0.1063,\n",
              "                        0.2019,  0.2847],\n",
              "                      [-0.1495,  0.1344, -0.0740,  0.2006, -0.0475, -0.2514, -0.3130, -0.0118,\n",
              "                        0.0932, -0.1864],\n",
              "                      [ 0.2488,  0.1500,  0.1907,  0.1457, -0.3050, -0.0580,  0.1643,  0.1565,\n",
              "                       -0.2877, -0.1792],\n",
              "                      [ 0.2305, -0.2618,  0.2397, -0.0610,  0.0232,  0.1542,  0.0851, -0.2027,\n",
              "                        0.1030, -0.2715],\n",
              "                      [-0.1596, -0.0555, -0.0633,  0.2302, -0.1726,  0.2654,  0.1473,  0.1029,\n",
              "                        0.2252, -0.2160],\n",
              "                      [-0.2725,  0.0118,  0.1559,  0.1596,  0.0132,  0.3024,  0.1124,  0.1366,\n",
              "                       -0.1533,  0.0965],\n",
              "                      [-0.1184, -0.2555, -0.2057, -0.1909, -0.0477, -0.1324,  0.2905,  0.1307,\n",
              "                       -0.2629,  0.0133],\n",
              "                      [ 0.2727, -0.0127,  0.0513,  0.0863, -0.1043, -0.2047, -0.1185, -0.0825,\n",
              "                        0.2488, -0.2571],\n",
              "                      [ 0.0425, -0.1209, -0.0336, -0.0281, -0.1227,  0.0730,  0.0747, -0.1816,\n",
              "                        0.1943,  0.2853],\n",
              "                      [-0.1310,  0.0645, -0.1171,  0.2168, -0.0245, -0.2820,  0.0736,  0.2621,\n",
              "                        0.0012, -0.0810]])),\n",
              "             ('layer_stack.2.bias',\n",
              "              tensor([-0.0087,  0.1791,  0.2712, -0.0791,  0.1685,  0.1762,  0.2825,  0.2266,\n",
              "                      -0.2612, -0.2613]))])"
            ]
          },
          "metadata": {},
          "execution_count": 18
        }
      ]
    },
    {
      "cell_type": "code",
      "source": [
        "import requests\n",
        "from pathlib import Path\n",
        "if Path(\"helper_functions.py\").is_file():\n",
        "  print(\"helper_functions.py already exists\")\n",
        "else:\n",
        "  print(\"Downloading helper_functions.py\")\n",
        "  request=requests.get(\"https://raw.githubusercontent.com/mrdbourke/pytorch-deep-learning/main/helper_functions.py\")\n",
        "  with open(\"helper_functions.py\",\"wb\") as f:\n",
        "    f.write(request.content)"
      ],
      "metadata": {
        "colab": {
          "base_uri": "https://localhost:8080/"
        },
        "id": "Jn94r9rcZ4lw",
        "outputId": "a143725d-1647-4292-c5ac-6b461a84a3d1"
      },
      "execution_count": null,
      "outputs": [
        {
          "output_type": "stream",
          "name": "stdout",
          "text": [
            "Downloading helper_functions.py\n"
          ]
        }
      ]
    },
    {
      "cell_type": "code",
      "source": [
        "from helper_functions import accuracy_fn\n",
        "loss_fn=nn.CrossEntropyLoss()\n",
        "optimizer=torch.optim.SGD(params=model_0.parameters(),lr=0.1)"
      ],
      "metadata": {
        "id": "poZwBip9bA0s"
      },
      "execution_count": null,
      "outputs": []
    },
    {
      "cell_type": "code",
      "source": [
        "from timeit import default_timer as timer\n",
        "def print_train_time(start:float,end:float,device:torch.device=None):\n",
        "  total_time=end-start\n",
        "  print(f\"Train time on {device}: {total_time:.3f} seconds\")\n",
        "  return total_time"
      ],
      "metadata": {
        "id": "AGn0wGVScFXk"
      },
      "execution_count": null,
      "outputs": []
    },
    {
      "cell_type": "code",
      "source": [
        "start_time=timer()\n",
        "end_time=timer()\n",
        "print_train_time(start=start_time,end=end_time,device=None)"
      ],
      "metadata": {
        "colab": {
          "base_uri": "https://localhost:8080/"
        },
        "id": "jJyVIa_ucFUD",
        "outputId": "cb2adc4a-3e24-4bed-de61-c4376a66b2ba"
      },
      "execution_count": null,
      "outputs": [
        {
          "output_type": "stream",
          "name": "stdout",
          "text": [
            "Train time on None: 0.000 seconds\n"
          ]
        },
        {
          "output_type": "execute_result",
          "data": {
            "text/plain": [
              "3.63289999825156e-05"
            ]
          },
          "metadata": {},
          "execution_count": 22
        }
      ]
    },
    {
      "cell_type": "code",
      "source": [
        "from tqdm.auto import tqdm\n",
        "from timeit import default_timer as timer\n",
        "torch.manual_seed(42)\n",
        "train_time_start_on_cpu=timer()\n",
        "epochs=3\n",
        "for epoch in tqdm(range(epochs)):\n",
        "  print(f\"Epoch:{epoch}\\n-------\")\n",
        "  train_loss=0\n",
        "  for batch,(x,y) in enumerate(train_dataloader):\n",
        "    model_0.train()\n",
        "    y_pred=model_0(x)\n",
        "    loss=loss_fn(y_pred,y)\n",
        "    optimizer.zero_grad()\n",
        "    loss.backward()\n",
        "    optimizer.step()\n",
        "  if batch%400==0:\n",
        "    train_loss/=len(train_dataloader)\n",
        "    print(f\"Train loss:{train_loss}\")\n",
        "  train_loss/=len(train_dataloader)\n",
        "  model_0.eval()\n",
        "  test_loss, test_acc = 0, 0 # Initialize test_loss and test_acc\n",
        "  with torch.inference_mode():\n",
        "    for x_test,y_test in test_dataloader:\n",
        "      test_pred=model_0(x_test)\n",
        "      test_loss+=loss_fn(test_pred,y_test) # Use += to accumulate loss\n",
        "      test_acc+=accuracy_fn(y_true=y_test,y_pred=test_pred.argmax(dim=1))\n",
        "    test_loss/=len(test_dataloader)\n",
        "    test_acc/=len(test_dataloader)\n",
        "print(f\"Train loss:{train_loss}\\nTest loss:{test_loss}\\nTest acc:{test_acc}\")"
      ],
      "metadata": {
        "colab": {
          "base_uri": "https://localhost:8080/",
          "height": 205,
          "referenced_widgets": [
            "b407f3ceda0347f5b536a1c5c49acbcf",
            "fc65e6a3e4bf44dca23a2489900c1b1a",
            "2bf78234267448829821da263f75195e",
            "1339512567424d9db83b467c3631eaf8",
            "dd601a2741ae436f829ed2ff1546ce43",
            "f22bb23ed4ef4566bc9e659217471fe7",
            "218ac170b1df4e248169e70d3a039c60",
            "e9c0ac16c9104181bdaf6ba7b96f154e",
            "0f6e656cf1bd4cd381a558b651ccfff4",
            "4203437e68824d3795f1e304df09b632",
            "38e6a0cc4143470c81e86b6f857dfef3"
          ]
        },
        "id": "uhL-7cpJcFRI",
        "outputId": "964713f4-7f4a-4b03-a6c9-5e02765ad98e"
      },
      "execution_count": null,
      "outputs": [
        {
          "output_type": "display_data",
          "data": {
            "text/plain": [
              "  0%|          | 0/3 [00:00<?, ?it/s]"
            ],
            "application/vnd.jupyter.widget-view+json": {
              "version_major": 2,
              "version_minor": 0,
              "model_id": "b407f3ceda0347f5b536a1c5c49acbcf"
            }
          },
          "metadata": {}
        },
        {
          "output_type": "stream",
          "name": "stdout",
          "text": [
            "Epoch:0\n",
            "-------\n",
            "Epoch:1\n",
            "-------\n",
            "Epoch:2\n",
            "-------\n",
            "Train loss:0.0\n",
            "Test loss:0.5126373767852783\n",
            "Test acc:82.99720447284345\n"
          ]
        }
      ]
    },
    {
      "cell_type": "code",
      "source": [
        "torch.manual_seed(42)\n",
        "def eval_model(model:torch.nn.Module,data_loader:torch.utils.data.DataLoader,loss_fn:torch.nn.Module,accuracy_fn ):\n",
        "  loss,acc=0,0\n",
        "  model.eval()\n",
        "  with torch.inference_mode():\n",
        "    for X,y in tqdm(data_loader):\n",
        "      y_pred=model(X)\n",
        "      loss+=loss_fn(y_pred,y) # Accumulate the loss\n",
        "      acc+=accuracy_fn(y_true=y,y_pred=y_pred.argmax(dim=1))\n",
        "  loss = loss / len(data_loader) # Calculate average loss outside inference mode\n",
        "  acc = acc / len(data_loader) # Calculate average accuracy outside inference mode\n",
        "  return {\"model_name\":model.__class__.__name__,\"model_loss\":loss.item(),\"model_acc\":acc}\n",
        "\n",
        "model_0_results=eval_model(model=model_0,data_loader=test_dataloader,loss_fn=loss_fn,accuracy_fn=accuracy_fn)\n",
        "model_0_results"
      ],
      "metadata": {
        "id": "oddqxXOJcFOK",
        "colab": {
          "base_uri": "https://localhost:8080/",
          "height": 101,
          "referenced_widgets": [
            "020c88e85e014226a0d2fd355f32e7bf",
            "05f033bda4f84d23aa038fb98d80ff0c",
            "356b82e4742e41248375536492f510f7",
            "868d48d0f12445a49d6007256f082677",
            "fb9166bfbb6140e6b30b772881957bed",
            "ed2b5514304f4dd3a67e5f672b75d200",
            "3e56bdf0009b489fafb42e5e81a46be6",
            "5acbcfec033f4016abe9b3394ab30cc8",
            "54fac6c40df14ff89752f1db090397ff",
            "32de2a58778243a78819c2d8b3acff36",
            "a4a0f5b0439842c69ca1e08c059941b4"
          ]
        },
        "outputId": "49df5c3d-e890-467c-f4e1-027950b77385"
      },
      "execution_count": null,
      "outputs": [
        {
          "output_type": "display_data",
          "data": {
            "text/plain": [
              "  0%|          | 0/313 [00:00<?, ?it/s]"
            ],
            "application/vnd.jupyter.widget-view+json": {
              "version_major": 2,
              "version_minor": 0,
              "model_id": "020c88e85e014226a0d2fd355f32e7bf"
            }
          },
          "metadata": {}
        },
        {
          "output_type": "execute_result",
          "data": {
            "text/plain": [
              "{'model_name': 'FashionMNISTModelV0',\n",
              " 'model_loss': 0.512529730796814,\n",
              " 'model_acc': 83.00718849840256}"
            ]
          },
          "metadata": {},
          "execution_count": 24
        }
      ]
    },
    {
      "cell_type": "code",
      "source": [
        "class FashionMNISTModelV1(nn.Module):\n",
        "  def __init__(self,\n",
        "              input_shape:int,\n",
        "              hidden_units:int,\n",
        "              output_shape:int):\n",
        "    super().__init__()\n",
        "    self.layer_stack=nn.Sequential(\n",
        "        nn.Flatten(),\n",
        "        nn.Linear(in_features=input_shape,out_features=hidden_units),\n",
        "        nn.ReLU(),\n",
        "        nn.Linear(in_features=hidden_units,out_features=output_shape),\n",
        "        nn.ReLU()\n",
        "    )\n",
        "  def forward(self,x):\n",
        "    return self.layer_stack(x)\n"
      ],
      "metadata": {
        "id": "BKO_sAEUcFLC"
      },
      "execution_count": null,
      "outputs": []
    },
    {
      "cell_type": "code",
      "source": [
        "torch.manual_seed(42)\n",
        "model_1=FashionMNISTModelV1(input_shape=784,hidden_units=10,output_shape=len(class_name))\n",
        "model_1"
      ],
      "metadata": {
        "id": "h1lnsJnHcEJj",
        "colab": {
          "base_uri": "https://localhost:8080/"
        },
        "outputId": "52cb4d92-9153-4ca5-d665-7c0c7df0ea9e"
      },
      "execution_count": null,
      "outputs": [
        {
          "output_type": "execute_result",
          "data": {
            "text/plain": [
              "FashionMNISTModelV1(\n",
              "  (layer_stack): Sequential(\n",
              "    (0): Flatten(start_dim=1, end_dim=-1)\n",
              "    (1): Linear(in_features=784, out_features=10, bias=True)\n",
              "    (2): ReLU()\n",
              "    (3): Linear(in_features=10, out_features=10, bias=True)\n",
              "    (4): ReLU()\n",
              "  )\n",
              ")"
            ]
          },
          "metadata": {},
          "execution_count": 26
        }
      ]
    },
    {
      "cell_type": "code",
      "source": [
        "from helper_functions import accuracy_fn\n",
        "loss_fn=nn.CrossEntropyLoss()\n",
        "optimizer=torch.optim.SGD(params=model_1.parameters(),lr=0.1)"
      ],
      "metadata": {
        "id": "Q_HAX_Asb9gV"
      },
      "execution_count": null,
      "outputs": []
    },
    {
      "cell_type": "code",
      "source": [
        "class FashionMNISTModelV2(nn.Module):\n",
        "  def __init__(self,\n",
        "              input_shape:int,\n",
        "              hidden_units:int,\n",
        "              output_shape:int):\n",
        "    super().__init__()\n",
        "    self.conv_block_1=nn.Sequential(\n",
        "        nn.Conv2d(in_channels=input_shape,out_channels=hidden_units,kernel_size=3,stride=1,padding=1),\n",
        "        nn.ReLU(),\n",
        "        nn.Conv2d(in_channels=hidden_units,out_channels=hidden_units,kernel_size=3,stride=1,padding=1),\n",
        "        nn.ReLU(),\n",
        "        nn.MaxPool2d(kernel_size=2)\n",
        "        )\n",
        "    self.conv_block_2=nn.Sequential(\n",
        "        nn.Conv2d(in_channels=hidden_units,out_channels=hidden_units,kernel_size=3,stride=1,padding=1),\n",
        "        nn.ReLU(),\n",
        "        nn.MaxPool2d(kernel_size=2)\n",
        "    )\n",
        "    self.classifier=nn.Sequential(\n",
        "        nn.Flatten(),\n",
        "        nn.Linear(in_features=hidden_units*7*7,out_features=output_shape)\n",
        "    )\n",
        "  def forward(self,x):\n",
        "    x=self.conv_block_1(x)\n",
        "    x=self.conv_block_2(x)\n",
        "    x=self.classifier(x)\n",
        "    return x"
      ],
      "metadata": {
        "id": "EFG4IXnZ6OJC"
      },
      "execution_count": null,
      "outputs": []
    },
    {
      "cell_type": "code",
      "source": [
        "torch.manual_seed(42)\n",
        "model_2=FashionMNISTModelV2(input_shape=1,hidden_units=10,output_shape=len(class_name))\n",
        "model_2"
      ],
      "metadata": {
        "colab": {
          "base_uri": "https://localhost:8080/"
        },
        "id": "s3RPYjSoY_GI",
        "outputId": "aac562b6-0ea8-45b4-dd1b-2d7d8e6dc111"
      },
      "execution_count": null,
      "outputs": [
        {
          "output_type": "execute_result",
          "data": {
            "text/plain": [
              "FashionMNISTModelV2(\n",
              "  (conv_block_1): Sequential(\n",
              "    (0): Conv2d(1, 10, kernel_size=(3, 3), stride=(1, 1), padding=(1, 1))\n",
              "    (1): ReLU()\n",
              "    (2): Conv2d(10, 10, kernel_size=(3, 3), stride=(1, 1), padding=(1, 1))\n",
              "    (3): ReLU()\n",
              "    (4): MaxPool2d(kernel_size=2, stride=2, padding=0, dilation=1, ceil_mode=False)\n",
              "  )\n",
              "  (conv_block_2): Sequential(\n",
              "    (0): Conv2d(10, 10, kernel_size=(3, 3), stride=(1, 1), padding=(1, 1))\n",
              "    (1): ReLU()\n",
              "    (2): MaxPool2d(kernel_size=2, stride=2, padding=0, dilation=1, ceil_mode=False)\n",
              "  )\n",
              "  (classifier): Sequential(\n",
              "    (0): Flatten(start_dim=1, end_dim=-1)\n",
              "    (1): Linear(in_features=490, out_features=10, bias=True)\n",
              "  )\n",
              ")"
            ]
          },
          "metadata": {},
          "execution_count": 29
        }
      ]
    },
    {
      "cell_type": "code",
      "source": [
        "plt.imshow(image.squeeze(),cmap=\"gray\")"
      ],
      "metadata": {
        "colab": {
          "base_uri": "https://localhost:8080/",
          "height": 447
        },
        "id": "L2tVLu5X_3Ks",
        "outputId": "89c15d71-764c-4ff1-a3f5-1499fa5a2190"
      },
      "execution_count": null,
      "outputs": [
        {
          "output_type": "execute_result",
          "data": {
            "text/plain": [
              "<matplotlib.image.AxesImage at 0x7cc44b301f60>"
            ]
          },
          "metadata": {},
          "execution_count": 30
        },
        {
          "output_type": "display_data",
          "data": {
            "text/plain": [
              "<Figure size 640x480 with 1 Axes>"
            ],
            "image/png": "[encoded data removed]"
          },
          "metadata": {}
        }
      ]
    },
    {
      "cell_type": "code",
      "source": [
        "rand_image_tensor=torch.rand(size=(1,28,28))\n",
        "rand_image_tensor.shape"
      ],
      "metadata": {
        "colab": {
          "base_uri": "https://localhost:8080/"
        },
        "id": "j4Tv2R_oAC7v",
        "outputId": "20bb5172-d819-4e67-c81c-878ffd5d78cf"
      },
      "execution_count": null,
      "outputs": [
        {
          "output_type": "execute_result",
          "data": {
            "text/plain": [
              "torch.Size([1, 28, 28])"
            ]
          },
          "metadata": {},
          "execution_count": 31
        }
      ]
    },
    {
      "cell_type": "code",
      "source": [
        "model_2(rand_image_tensor.unsqueeze(0))"
      ],
      "metadata": {
        "colab": {
          "base_uri": "https://localhost:8080/"
        },
        "id": "IwTdKdVuAvua",
        "outputId": "0b01c84d-366e-4d52-9f9f-7833be23bc05"
      },
      "execution_count": null,
      "outputs": [
        {
          "output_type": "execute_result",
          "data": {
            "text/plain": [
              "tensor([[-0.0674,  0.0113, -0.0397, -0.0799,  0.0208, -0.0443,  0.0298, -0.0164,\n",
              "         -0.0238,  0.1132]], grad_fn=<AddmmBackward0>)"
            ]
          },
          "metadata": {},
          "execution_count": 32
        }
      ]
    },
    {
      "cell_type": "code",
      "source": [
        "model_2.state_dict()"
      ],
      "metadata": {
        "colab": {
          "base_uri": "https://localhost:8080/"
        },
        "id": "VQoBB5OzZHG7",
        "outputId": "c99cf254-cf0c-4108-bbbd-ae40cc66e92c"
      },
      "execution_count": null,
      "outputs": [
        {
          "output_type": "execute_result",
          "data": {
            "text/plain": [
              "OrderedDict([('conv_block_1.0.weight',\n",
              "              tensor([[[[ 0.2548,  0.2767, -0.0781],\n",
              "                        [ 0.3062, -0.0730,  0.0673],\n",
              "                        [-0.1623,  0.1958,  0.2938]]],\n",
              "              \n",
              "              \n",
              "                      [[[-0.2445,  0.2897,  0.0624],\n",
              "                        [ 0.2463,  0.0451,  0.1607],\n",
              "                        [-0.0471,  0.2570,  0.0493]]],\n",
              "              \n",
              "              \n",
              "                      [[[-0.1556,  0.0850, -0.1536],\n",
              "                        [-0.0391, -0.1354,  0.2211],\n",
              "                        [-0.2631, -0.1537, -0.0941]]],\n",
              "              \n",
              "              \n",
              "                      [[[-0.2004,  0.0315, -0.3292],\n",
              "                        [ 0.3010, -0.2832,  0.2573],\n",
              "                        [ 0.0555, -0.1082,  0.2060]]],\n",
              "              \n",
              "              \n",
              "                      [[[ 0.0520,  0.2693,  0.0364],\n",
              "                        [-0.1051,  0.0896, -0.0904],\n",
              "                        [ 0.1403,  0.2976,  0.1927]]],\n",
              "              \n",
              "              \n",
              "                      [[[-0.1457,  0.1924,  0.0596],\n",
              "                        [ 0.1693, -0.2032, -0.3300],\n",
              "                        [-0.1288, -0.2557,  0.2735]]],\n",
              "              \n",
              "              \n",
              "                      [[[ 0.0960,  0.1381,  0.1054],\n",
              "                        [-0.0058,  0.2609, -0.2368],\n",
              "                        [ 0.0210, -0.2275,  0.1028]]],\n",
              "              \n",
              "              \n",
              "                      [[[-0.1148,  0.1021, -0.0694],\n",
              "                        [ 0.2765, -0.1976, -0.1988],\n",
              "                        [-0.1988,  0.2998,  0.1111]]],\n",
              "              \n",
              "              \n",
              "                      [[[ 0.3208, -0.2751, -0.3306],\n",
              "                        [-0.2608, -0.2242,  0.1350],\n",
              "                        [ 0.1194,  0.2770, -0.1721]]],\n",
              "              \n",
              "              \n",
              "                      [[[-0.2272,  0.1769, -0.1347],\n",
              "                        [ 0.2023, -0.0791,  0.1907],\n",
              "                        [-0.2590, -0.1682,  0.1016]]]])),\n",
              "             ('conv_block_1.0.bias',\n",
              "              tensor([ 0.0705, -0.0850,  0.1987,  0.2266, -0.2417, -0.1780,  0.3052, -0.1125,\n",
              "                      -0.1182, -0.3225])),\n",
              "             ('conv_block_1.2.weight',\n",
              "              tensor([[[[-0.0604,  0.0263, -0.0139],\n",
              "                        [-0.0765,  0.0025, -0.0720],\n",
              "                        [-0.0894, -0.0580, -0.0923]],\n",
              "              \n",
              "                       [[-0.0671,  0.1054,  0.0199],\n",
              "                        [ 0.0325, -0.0983, -0.0692],\n",
              "                        [-0.0351,  0.0165, -0.0928]],\n",
              "              \n",
              "                       [[-0.0454, -0.0631,  0.0003],\n",
              "                        [-0.0392, -0.0073, -0.0714],\n",
              "                        [-0.0724, -0.0615, -0.0361]],\n",
              "              \n",
              "                       [[-0.0832,  0.0884, -0.0209],\n",
              "                        [ 0.0907,  0.0328, -0.0893],\n",
              "                        [ 0.0729, -0.0290, -0.0404]],\n",
              "              \n",
              "                       [[-0.0875, -0.1048,  0.0302],\n",
              "                        [-0.0230,  0.0410, -0.0865],\n",
              "                        [ 0.0783, -0.0774, -0.0182]],\n",
              "              \n",
              "                       [[ 0.0220,  0.0544,  0.0851],\n",
              "                        [ 0.0960, -0.0836,  0.0265],\n",
              "                        [-0.0453, -0.0116, -0.0789]],\n",
              "              \n",
              "                       [[ 0.0960, -0.0774,  0.0563],\n",
              "                        [ 0.0370,  0.0343, -0.0570],\n",
              "                        [ 0.0958,  0.0232,  0.0136]],\n",
              "              \n",
              "                       [[-0.0929,  0.0442, -0.0158],\n",
              "                        [-0.0483,  0.0905,  0.0235],\n",
              "                        [-0.0583, -0.0534, -0.0050]],\n",
              "              \n",
              "                       [[ 0.0589, -0.0269, -0.0601],\n",
              "                        [-0.0361, -0.0787,  0.0376],\n",
              "                        [ 0.0816, -0.0992,  0.0245]],\n",
              "              \n",
              "                       [[ 0.0545,  0.0191, -0.0375],\n",
              "                        [ 0.0550,  0.0554,  0.0394],\n",
              "                        [-0.0185, -0.0279,  0.0113]]],\n",
              "              \n",
              "              \n",
              "                      [[[-0.0186, -0.0314,  0.0674],\n",
              "                        [ 0.0906, -0.0104, -0.0236],\n",
              "                        [ 0.0015, -0.0063,  0.0253]],\n",
              "              \n",
              "                       [[ 0.0295, -0.0957, -0.0389],\n",
              "                        [ 0.0888,  0.0411, -0.0052],\n",
              "                        [-0.0636, -0.0645, -0.0944]],\n",
              "              \n",
              "                       [[-0.0344,  0.0356,  0.0672],\n",
              "                        [ 0.0487, -0.0932, -0.0634],\n",
              "                        [-0.0166,  0.1020,  0.0152]],\n",
              "              \n",
              "                       [[-0.0273,  0.0436, -0.0401],\n",
              "                        [-0.0682,  0.0769, -0.0479],\n",
              "                        [-0.0211, -0.1049,  0.0705]],\n",
              "              \n",
              "                       [[ 0.0799,  0.0384, -0.0735],\n",
              "                        [-0.1040, -0.0856,  0.0786],\n",
              "                        [ 0.0506,  0.0887,  0.0552]],\n",
              "              \n",
              "                       [[ 0.0267, -0.0010, -0.0802],\n",
              "                        [-0.0903, -0.0986,  0.0432],\n",
              "                        [-0.0518, -0.0212, -0.0607]],\n",
              "              \n",
              "                       [[-0.0192, -0.0742, -0.0689],\n",
              "                        [ 0.0350, -0.0313,  0.0651],\n",
              "                        [-0.0338, -0.0773, -0.0186]],\n",
              "              \n",
              "                       [[-0.0511, -0.0322, -0.1003],\n",
              "                        [ 0.0590, -0.0734,  0.0530],\n",
              "                        [ 0.0478,  0.0753, -0.0809]],\n",
              "              \n",
              "                       [[ 0.0758, -0.0498,  0.0391],\n",
              "                        [ 0.0990, -0.0149, -0.0008],\n",
              "                        [-0.0243, -0.0880,  0.0506]],\n",
              "              \n",
              "                       [[-0.1046,  0.0654,  0.0789],\n",
              "                        [ 0.0997, -0.0249, -0.0866],\n",
              "                        [ 0.0237,  0.0582, -0.1049]]],\n",
              "              \n",
              "              \n",
              "                      [[[-0.0239, -0.0632, -0.0092],\n",
              "                        [-0.0519, -0.0431, -0.0335],\n",
              "                        [-0.1002,  0.0865,  0.0884]],\n",
              "              \n",
              "                       [[-0.0165, -0.0120, -0.0430],\n",
              "                        [-0.0952, -0.1026,  0.0392],\n",
              "                        [-0.0579, -0.0678, -0.0082]],\n",
              "              \n",
              "                       [[-0.0351, -0.0341,  0.0034],\n",
              "                        [-0.0224, -0.0363, -0.0505],\n",
              "                        [-0.0858,  0.0884, -0.0422]],\n",
              "              \n",
              "                       [[ 0.0279, -0.0366,  0.0086],\n",
              "                        [ 0.0983,  0.0486, -0.0913],\n",
              "                        [ 0.0418,  0.1001,  0.0277]],\n",
              "              \n",
              "                       [[ 0.0707,  0.1039, -0.0162],\n",
              "                        [ 0.0219, -0.0733, -0.0217],\n",
              "                        [ 0.0781,  0.0540, -0.0667]],\n",
              "              \n",
              "                       [[-0.0845, -0.0720, -0.1040],\n",
              "                        [-0.0813, -0.0261,  0.0711],\n",
              "                        [ 0.0176, -0.0802, -0.0846]],\n",
              "              \n",
              "                       [[ 0.0524, -0.0784, -0.0130],\n",
              "                        [ 0.0506, -0.0488, -0.0115],\n",
              "                        [-0.0092, -0.0249, -0.0534]],\n",
              "              \n",
              "                       [[-0.0940, -0.0852, -0.0564],\n",
              "                        [ 0.1018, -0.0509, -0.0708],\n",
              "                        [ 0.0256,  0.0291,  0.0578]],\n",
              "              \n",
              "                       [[ 0.0801,  0.0587, -0.1045],\n",
              "                        [ 0.0093,  0.0639, -0.0097],\n",
              "                        [-0.0621,  0.1005, -0.0394]],\n",
              "              \n",
              "                       [[-0.0600, -0.0950,  0.0047],\n",
              "                        [ 0.0467,  0.0233,  0.0208],\n",
              "                        [-0.0799, -0.0984,  0.0019]]],\n",
              "              \n",
              "              \n",
              "                      [[[ 0.0961,  0.0608, -0.0614],\n",
              "                        [-0.0137, -0.0777, -0.0509],\n",
              "                        [ 0.0191,  0.0574,  0.0873]],\n",
              "              \n",
              "                       [[-0.0968,  0.0705, -0.0743],\n",
              "                        [ 0.0395,  0.0892,  0.0015],\n",
              "                        [ 0.0959, -0.0898, -0.0403]],\n",
              "              \n",
              "                       [[ 0.0615, -0.0230, -0.0216],\n",
              "                        [-0.0439,  0.0727,  0.0517],\n",
              "                        [ 0.0338, -0.0592, -0.0856]],\n",
              "              \n",
              "                       [[ 0.0114,  0.0312, -0.0487],\n",
              "                        [-0.0295,  0.0712,  0.0084],\n",
              "                        [ 0.0048, -0.0259, -0.0955]],\n",
              "              \n",
              "                       [[-0.0991, -0.0504, -0.0536],\n",
              "                        [ 0.0328, -0.0307, -0.0412],\n",
              "                        [ 0.1005,  0.0367,  0.0751]],\n",
              "              \n",
              "                       [[-0.0510, -0.0431,  0.0387],\n",
              "                        [-0.0702, -0.0689, -0.0051],\n",
              "                        [-0.0386, -0.0790,  0.0625]],\n",
              "              \n",
              "                       [[ 0.0848,  0.0171, -0.0184],\n",
              "                        [-0.0976, -0.0384,  0.0268],\n",
              "                        [ 0.0497, -0.0133, -0.0417]],\n",
              "              \n",
              "                       [[ 0.0587, -0.0839,  0.0666],\n",
              "                        [-0.0409,  0.0016, -0.0208],\n",
              "                        [ 0.0128, -0.0319,  0.0766]],\n",
              "              \n",
              "                       [[-0.0027,  0.0823,  0.1013],\n",
              "                        [-0.0514, -0.0769,  0.0846],\n",
              "                        [ 0.0826, -0.0805, -0.0081]],\n",
              "              \n",
              "                       [[-0.1039, -0.0863,  0.0204],\n",
              "                        [ 0.0280,  0.0223, -0.0287],\n",
              "                        [ 0.0972,  0.0151, -0.0622]]],\n",
              "              \n",
              "              \n",
              "                      [[[-0.0060,  0.0253,  0.0369],\n",
              "                        [-0.0745,  0.0395, -0.0539],\n",
              "                        [-0.0876, -0.0576,  0.1017]],\n",
              "              \n",
              "                       [[ 0.0901,  0.0944,  0.0619],\n",
              "                        [ 0.0796, -0.0141, -0.0580],\n",
              "                        [ 0.0527, -0.0546, -0.0711]],\n",
              "              \n",
              "                       [[-0.0337,  0.0221,  0.0543],\n",
              "                        [-0.0409, -0.0620,  0.0142],\n",
              "                        [-0.0621, -0.0686,  0.0549]],\n",
              "              \n",
              "                       [[-0.0177,  0.0963,  0.1025],\n",
              "                        [ 0.0315,  0.0363,  0.0243],\n",
              "                        [ 0.0017, -0.0077,  0.0014]],\n",
              "              \n",
              "                       [[ 0.0394,  0.0980, -0.0273],\n",
              "                        [-0.0446, -0.0255, -0.0509],\n",
              "                        [ 0.0179,  0.0787,  0.0824]],\n",
              "              \n",
              "                       [[ 0.0484, -0.0776, -0.0566],\n",
              "                        [-0.0232, -0.0194,  0.0087],\n",
              "                        [-0.0968,  0.0328, -0.0804]],\n",
              "              \n",
              "                       [[-0.0667, -0.0876,  0.0918],\n",
              "                        [-0.0998,  0.0795, -0.0035],\n",
              "                        [-0.0123,  0.0659, -0.0097]],\n",
              "              \n",
              "                       [[ 0.0661,  0.0762, -0.0915],\n",
              "                        [ 0.0406,  0.0199,  0.0227],\n",
              "                        [ 0.0154,  0.0288, -0.0507]],\n",
              "              \n",
              "                       [[-0.0135,  0.1002,  0.0708],\n",
              "                        [-0.0040, -0.0991,  0.0046],\n",
              "                        [-0.0718,  0.0857, -0.0640]],\n",
              "              \n",
              "                       [[-0.0076, -0.0234,  0.0188],\n",
              "                        [ 0.0992,  0.0100,  0.0610],\n",
              "                        [ 0.0818,  0.0851, -0.0364]]],\n",
              "              \n",
              "              \n",
              "                      [[[-0.0236,  0.0508, -0.0288],\n",
              "                        [ 0.0494, -0.0230, -0.0715],\n",
              "                        [ 0.0429,  0.0162,  0.0470]],\n",
              "              \n",
              "                       [[ 0.1047,  0.0720,  0.0999],\n",
              "                        [ 0.0056, -0.0907, -0.0739],\n",
              "                        [-0.0655, -0.0929, -0.0528]],\n",
              "              \n",
              "                       [[-0.0970, -0.0973, -0.0630],\n",
              "                        [-0.1039, -0.0647,  0.0402],\n",
              "                        [ 0.0879, -0.0314, -0.0307]],\n",
              "              \n",
              "                       [[ 0.0563, -0.0520, -0.0498],\n",
              "                        [ 0.0649, -0.0918,  0.0129],\n",
              "                        [ 0.0931,  0.0181,  0.0287]],\n",
              "              \n",
              "                       [[-0.0614, -0.0015,  0.0058],\n",
              "                        [ 0.0259,  0.0410,  0.0916],\n",
              "                        [-0.0805,  0.0032, -0.0527]],\n",
              "              \n",
              "                       [[-0.0834, -0.0084, -0.0928],\n",
              "                        [ 0.0736,  0.0122, -0.0568],\n",
              "                        [ 0.0551, -0.0998, -0.0408]],\n",
              "              \n",
              "                       [[-0.0205, -0.0896, -0.0670],\n",
              "                        [-0.0172,  0.0800,  0.1018],\n",
              "                        [ 0.0671, -0.0629, -0.0690]],\n",
              "              \n",
              "                       [[ 0.0920,  0.0373,  0.0028],\n",
              "                        [ 0.0143, -0.0847, -0.0352],\n",
              "                        [ 0.1015, -0.0260, -0.0053]],\n",
              "              \n",
              "                       [[-0.0875, -0.0590, -0.0022],\n",
              "                        [-0.0655, -0.0131,  0.0429],\n",
              "                        [-0.1031,  0.0313, -0.0697]],\n",
              "              \n",
              "                       [[-0.0514,  0.0405,  0.0838],\n",
              "                        [-0.0288, -0.0433, -0.0953],\n",
              "                        [-0.0544, -0.0923, -0.0241]]],\n",
              "              \n",
              "              \n",
              "                      [[[ 0.0215, -0.0988,  0.0920],\n",
              "                        [ 0.0661, -0.1032, -0.0503],\n",
              "                        [ 0.0344, -0.0217, -0.0115]],\n",
              "              \n",
              "                       [[-0.0476,  0.0847, -0.0589],\n",
              "                        [ 0.0874,  0.0068,  0.0212],\n",
              "                        [ 0.0822, -0.0174, -0.0600]],\n",
              "              \n",
              "                       [[-0.0170,  0.0855, -0.0782],\n",
              "                        [ 0.0239, -0.1036,  0.0553],\n",
              "                        [ 0.0389,  0.0045,  0.0452]],\n",
              "              \n",
              "                       [[ 0.0001,  0.0583, -0.0834],\n",
              "                        [-0.0155,  0.0468,  0.1050],\n",
              "                        [ 0.0537, -0.0767,  0.0811]],\n",
              "              \n",
              "                       [[-0.0235, -0.0225, -0.0958],\n",
              "                        [-0.0166,  0.0746,  0.0147],\n",
              "                        [-0.0614,  0.0324, -0.0338]],\n",
              "              \n",
              "                       [[ 0.0962, -0.0915, -0.0333],\n",
              "                        [-0.1018, -0.0415,  0.0332],\n",
              "                        [ 0.1015,  0.0177,  0.1033]],\n",
              "              \n",
              "                       [[ 0.0206,  0.0609,  0.0845],\n",
              "                        [ 0.0881, -0.0590,  0.0969],\n",
              "                        [ 0.0639, -0.0493, -0.0503]],\n",
              "              \n",
              "                       [[-0.0884,  0.0265, -0.0854],\n",
              "                        [ 0.0445,  0.0333, -0.0916],\n",
              "                        [ 0.0287, -0.0086,  0.0482]],\n",
              "              \n",
              "                       [[ 0.0605, -0.1048,  0.0967],\n",
              "                        [ 0.0884,  0.0419, -0.0963],\n",
              "                        [-0.0377, -0.0305, -0.0271]],\n",
              "              \n",
              "                       [[ 0.0594,  0.0383,  0.0835],\n",
              "                        [-0.0395,  0.0355,  0.0375],\n",
              "                        [-0.0878, -0.1022, -0.0547]]],\n",
              "              \n",
              "              \n",
              "                      [[[ 0.0722, -0.0992, -0.0918],\n",
              "                        [ 0.0591,  0.0569,  0.0867],\n",
              "                        [-0.0796, -0.0771,  0.0541]],\n",
              "              \n",
              "                       [[ 0.0917,  0.0631,  0.0165],\n",
              "                        [ 0.0347,  0.1000, -0.0680],\n",
              "                        [-0.0479,  0.0737, -0.0721]],\n",
              "              \n",
              "                       [[-0.0581,  0.0769,  0.0333],\n",
              "                        [ 0.0341, -0.0447, -0.0015],\n",
              "                        [ 0.0965, -0.0633,  0.0008]],\n",
              "              \n",
              "                       [[ 0.0501, -0.0728,  0.1024],\n",
              "                        [-0.0527, -0.0253, -0.0285],\n",
              "                        [-0.0687, -0.1034,  0.0594]],\n",
              "              \n",
              "                       [[ 0.0280, -0.0987, -0.0678],\n",
              "                        [ 0.1042,  0.0403,  0.0423],\n",
              "                        [-0.0631, -0.0462, -0.0159]],\n",
              "              \n",
              "                       [[-0.0193, -0.0722,  0.0087],\n",
              "                        [ 0.0105, -0.0133,  0.0146],\n",
              "                        [-0.0418,  0.0274,  0.0398]],\n",
              "              \n",
              "                       [[-0.0555, -0.1045,  0.0552],\n",
              "                        [ 0.0251, -0.0536,  0.1016],\n",
              "                        [-0.0477,  0.0712,  0.0535]],\n",
              "              \n",
              "                       [[-0.0884,  0.0680, -0.0969],\n",
              "                        [-0.0584, -0.0176, -0.0711],\n",
              "                        [ 0.1030, -0.0211,  0.0419]],\n",
              "              \n",
              "                       [[-0.0941,  0.0607, -0.0328],\n",
              "                        [-0.0802,  0.0154,  0.0511],\n",
              "                        [ 0.0912, -0.0644, -0.0519]],\n",
              "              \n",
              "                       [[ 0.0203,  0.0286,  0.0405],\n",
              "                        [ 0.0579, -0.0239,  0.0586],\n",
              "                        [ 0.0777, -0.0275,  0.0750]]],\n",
              "              \n",
              "              \n",
              "                      [[[ 0.0515,  0.0930, -0.0599],\n",
              "                        [-0.0521, -0.0305,  0.0053],\n",
              "                        [ 0.0633, -0.0602,  0.0528]],\n",
              "              \n",
              "                       [[-0.0378,  0.0637, -0.0050],\n",
              "                        [-0.0923, -0.0580, -0.0763],\n",
              "                        [ 0.0523, -0.0707, -0.0088]],\n",
              "              \n",
              "                       [[ 0.0227, -0.0578,  0.0304],\n",
              "                        [-0.1029, -0.0754, -0.0955],\n",
              "                        [-0.0319, -0.0384,  0.0151]],\n",
              "              \n",
              "                       [[-0.0195,  0.0496,  0.0966],\n",
              "                        [ 0.0378, -0.0415, -0.0987],\n",
              "                        [ 0.0382, -0.0522,  0.0536]],\n",
              "              \n",
              "                       [[ 0.0705,  0.0407,  0.0989],\n",
              "                        [ 0.1001,  0.0223, -0.0768],\n",
              "                        [ 0.0942, -0.0500, -0.0498]],\n",
              "              \n",
              "                       [[ 0.0882,  0.0817,  0.0318],\n",
              "                        [ 0.0066, -0.0887, -0.0109],\n",
              "                        [ 0.1011,  0.0268,  0.0090]],\n",
              "              \n",
              "                       [[-0.0219, -0.0368,  0.0628],\n",
              "                        [ 0.0065,  0.0686, -0.0187],\n",
              "                        [ 0.0461,  0.0435,  0.0168]],\n",
              "              \n",
              "                       [[ 0.0662,  0.0661,  0.0977],\n",
              "                        [ 0.0810, -0.0270, -0.0892],\n",
              "                        [ 0.0193, -0.0009, -0.0275]],\n",
              "              \n",
              "                       [[-0.0177,  0.0050,  0.0769],\n",
              "                        [ 0.0329, -0.0374, -0.0433],\n",
              "                        [-0.0261, -0.0407,  0.0948]],\n",
              "              \n",
              "                       [[ 0.0558,  0.0952,  0.0003],\n",
              "                        [ 0.0213,  0.0366, -0.0998],\n",
              "                        [ 0.0094, -0.0071, -0.0591]]],\n",
              "              \n",
              "              \n",
              "                      [[[-0.0818,  0.0933,  0.0857],\n",
              "                        [ 0.0489,  0.1006, -0.0428],\n",
              "                        [-0.0182,  0.0399, -0.0174]],\n",
              "              \n",
              "                       [[-0.0207, -0.0871,  0.0283],\n",
              "                        [-0.0637,  0.0038,  0.1028],\n",
              "                        [-0.0324, -0.0332,  0.0636]],\n",
              "              \n",
              "                       [[-0.0388, -0.0091,  0.0984],\n",
              "                        [-0.0432, -0.0754, -0.0590],\n",
              "                        [-0.0292, -0.0500, -0.0547]],\n",
              "              \n",
              "                       [[ 0.0426,  0.0179, -0.0337],\n",
              "                        [-0.0819, -0.0332, -0.0445],\n",
              "                        [-0.0343, -0.0951,  0.0227]],\n",
              "              \n",
              "                       [[-0.0774, -0.0821, -0.0861],\n",
              "                        [ 0.0440, -0.0635, -0.0435],\n",
              "                        [ 0.0826,  0.0560,  0.0604]],\n",
              "              \n",
              "                       [[-0.1001, -0.0756, -0.0398],\n",
              "                        [ 0.0871,  0.0108, -0.0788],\n",
              "                        [ 0.0007, -0.0819, -0.0231]],\n",
              "              \n",
              "                       [[-0.0290,  0.0912,  0.0326],\n",
              "                        [-0.0184,  0.0178, -0.0304],\n",
              "                        [ 0.0414,  0.0417,  0.0283]],\n",
              "              \n",
              "                       [[-0.0411,  0.0899, -0.0152],\n",
              "                        [-0.0410,  0.0660,  0.0859],\n",
              "                        [ 0.1049,  0.0312, -0.0359]],\n",
              "              \n",
              "                       [[ 0.0535,  0.0904, -0.1034],\n",
              "                        [-0.0131, -0.0719,  0.0196],\n",
              "                        [ 0.0436, -0.0218, -0.0088]],\n",
              "              \n",
              "                       [[ 0.0474, -0.0177, -0.0885],\n",
              "                        [ 0.0843, -0.0531, -0.0116],\n",
              "                        [ 0.0099, -0.0063, -0.0992]]]])),\n",
              "             ('conv_block_1.2.bias',\n",
              "              tensor([ 0.0484, -0.0479, -0.0547,  0.0252, -0.0550, -0.0487, -0.0355, -0.0396,\n",
              "                      -0.0440, -0.0284])),\n",
              "             ('conv_block_2.0.weight',\n",
              "              tensor([[[[ 2.7393e-02, -8.5299e-02, -6.3802e-02],\n",
              "                        [ 1.5381e-03,  1.4659e-02,  5.8217e-02],\n",
              "                        [-7.4044e-02,  3.3646e-02,  5.9914e-02]],\n",
              "              \n",
              "                       [[ 5.8530e-02, -9.8180e-02, -4.0225e-02],\n",
              "                        [-9.0606e-02, -6.6704e-02,  5.8711e-02],\n",
              "                        [-1.5740e-02,  4.4769e-02, -6.1876e-02]],\n",
              "              \n",
              "                       [[ 1.6018e-02, -6.3758e-02,  5.2693e-02],\n",
              "                        [-4.6104e-02, -2.6432e-02, -9.1456e-02],\n",
              "                        [ 3.4822e-04,  1.0008e-01,  5.1163e-02]],\n",
              "              \n",
              "                       [[-5.6240e-02,  1.4176e-03, -1.1558e-02],\n",
              "                        [-8.4862e-02,  8.2650e-02,  1.6993e-03],\n",
              "                        [ 2.2199e-02, -4.2567e-02, -4.9323e-02]],\n",
              "              \n",
              "                       [[ 1.7381e-02,  3.8971e-02,  2.3643e-02],\n",
              "                        [-5.0801e-02,  1.0234e-01, -1.5517e-02],\n",
              "                        [-6.4554e-02, -4.9301e-02,  1.0377e-01]],\n",
              "              \n",
              "                       [[ 5.0766e-06, -1.4309e-02, -4.3867e-02],\n",
              "                        [-2.7633e-02, -8.8779e-02, -8.3767e-02],\n",
              "                        [ 6.1695e-02,  9.0172e-02,  1.0059e-01]],\n",
              "              \n",
              "                       [[-7.6099e-02,  5.7012e-02, -6.5245e-02],\n",
              "                        [ 6.2883e-02,  7.6058e-02,  8.1573e-02],\n",
              "                        [ 7.5900e-02,  6.5941e-02,  2.0516e-03]],\n",
              "              \n",
              "                       [[ 4.8434e-02, -3.7712e-02,  4.5899e-02],\n",
              "                        [-3.3879e-02, -1.7700e-03, -9.1746e-02],\n",
              "                        [-2.7562e-02, -5.5432e-02, -3.5557e-02]],\n",
              "              \n",
              "                       [[-6.7313e-02, -9.4810e-02,  6.8639e-03],\n",
              "                        [ 6.8408e-02,  9.6001e-02,  6.1512e-02],\n",
              "                        [-5.4638e-02, -1.0425e-01,  3.9983e-02]],\n",
              "              \n",
              "                       [[ 5.9062e-02, -9.0495e-02,  3.7798e-02],\n",
              "                        [ 8.9121e-02,  6.3853e-03, -6.3505e-02],\n",
              "                        [ 8.6423e-02,  4.5011e-02,  6.9802e-02]]],\n",
              "              \n",
              "              \n",
              "                      [[[-7.1287e-02,  6.1342e-02, -7.2002e-02],\n",
              "                        [ 1.0430e-01, -4.4662e-02,  6.3516e-02],\n",
              "                        [ 2.1107e-02,  2.7935e-02, -1.6165e-02]],\n",
              "              \n",
              "                       [[ 4.3295e-02, -4.3932e-02, -9.9357e-02],\n",
              "                        [-4.0499e-02,  8.2592e-02, -2.7751e-02],\n",
              "                        [ 3.3132e-02, -3.8973e-02,  7.9073e-02]],\n",
              "              \n",
              "                       [[ 6.3086e-02,  3.7211e-02, -5.3881e-02],\n",
              "                        [-8.6133e-02,  3.9686e-03, -6.1839e-02],\n",
              "                        [ 8.6667e-02, -1.0130e-01,  4.7104e-02]],\n",
              "              \n",
              "                       [[ 1.0508e-01,  5.2792e-02,  3.5942e-02],\n",
              "                        [-1.0142e-01,  1.0139e-01, -1.8030e-02],\n",
              "                        [-9.8495e-02,  1.0406e-01, -4.2894e-02]],\n",
              "              \n",
              "                       [[-7.4575e-03,  9.6479e-02, -7.3070e-02],\n",
              "                        [-7.4576e-02,  1.7141e-02, -1.4109e-02],\n",
              "                        [ 2.4280e-02, -8.8407e-02,  3.1524e-03]],\n",
              "              \n",
              "                       [[-4.6882e-02, -5.1820e-02, -9.6517e-02],\n",
              "                        [ 5.5890e-02,  2.0306e-02, -8.9118e-02],\n",
              "                        [ 8.3648e-02,  3.1794e-02,  1.9560e-02]],\n",
              "              \n",
              "                       [[-6.1890e-02,  1.5896e-02,  1.0157e-01],\n",
              "                        [ 7.2299e-02, -8.2100e-02,  9.6220e-02],\n",
              "                        [ 8.1702e-03,  5.0698e-02,  8.1869e-02]],\n",
              "              \n",
              "                       [[ 8.9862e-02, -8.2170e-02,  9.2303e-02],\n",
              "                        [-7.1591e-02,  7.9021e-03, -7.3656e-02],\n",
              "                        [-2.3109e-02, -4.7901e-03, -1.2611e-02]],\n",
              "              \n",
              "                       [[-1.6652e-02,  8.3137e-03,  1.0398e-01],\n",
              "                        [ 6.1244e-02,  5.8973e-02,  4.2190e-02],\n",
              "                        [ 8.1606e-02, -4.8645e-03,  8.3813e-03]],\n",
              "              \n",
              "                       [[ 2.1693e-02, -9.1931e-02, -8.4913e-02],\n",
              "                        [ 1.2923e-02, -4.1241e-02, -1.9342e-03],\n",
              "                        [-2.4187e-02,  1.6408e-02,  6.8581e-02]]],\n",
              "              \n",
              "              \n",
              "                      [[[-3.4958e-02,  8.4418e-02,  8.3227e-02],\n",
              "                        [-8.0901e-02, -8.1400e-02, -8.5284e-02],\n",
              "                        [-5.7766e-02, -4.1033e-02, -7.9341e-03]],\n",
              "              \n",
              "                       [[-2.5635e-02, -5.3258e-02, -3.3488e-02],\n",
              "                        [-3.8131e-02,  1.0341e-01, -3.9068e-02],\n",
              "                        [-7.5473e-02,  4.3818e-02, -6.0886e-03]],\n",
              "              \n",
              "                       [[ 8.0698e-02,  6.5863e-02,  9.6843e-02],\n",
              "                        [-7.7197e-02,  6.7764e-02,  8.8464e-02],\n",
              "                        [-5.2054e-02,  9.6890e-02,  7.9019e-02]],\n",
              "              \n",
              "                       [[ 1.1544e-03,  5.0823e-02, -3.6853e-02],\n",
              "                        [-9.1936e-02,  2.6645e-02,  3.1425e-02],\n",
              "                        [-6.8891e-02,  5.1123e-02, -9.0043e-02]],\n",
              "              \n",
              "                       [[ 9.0718e-02,  1.0208e-01,  2.8699e-02],\n",
              "                        [-6.6137e-02,  5.1300e-02,  1.7963e-02],\n",
              "                        [ 2.8663e-02,  3.4643e-02,  8.0254e-02]],\n",
              "              \n",
              "                       [[-4.5309e-02, -2.3711e-02,  2.8746e-02],\n",
              "                        [ 1.1486e-02,  8.5000e-02, -5.5365e-02],\n",
              "                        [-3.8387e-03,  1.9696e-02, -2.7996e-02]],\n",
              "              \n",
              "                       [[ 7.1859e-02,  1.1530e-02, -9.7422e-02],\n",
              "                        [-1.1420e-02, -4.7809e-02,  1.0243e-02],\n",
              "                        [-1.2250e-02, -1.0456e-01, -1.9208e-02]],\n",
              "              \n",
              "                       [[-1.0096e-02, -3.1083e-02,  9.6848e-02],\n",
              "                        [-2.3000e-02,  6.7717e-02,  2.6112e-02],\n",
              "                        [-8.8979e-02,  2.4770e-02,  8.7356e-02]],\n",
              "              \n",
              "                       [[-6.8948e-02, -6.8134e-02,  1.0318e-01],\n",
              "                        [ 8.4697e-02, -5.8807e-02,  6.3429e-02],\n",
              "                        [-1.3485e-02, -1.0393e-01,  7.9198e-03]],\n",
              "              \n",
              "                       [[ 3.4057e-02, -3.1619e-02,  3.6670e-02],\n",
              "                        [-9.0136e-02,  7.3050e-02,  8.9865e-02],\n",
              "                        [ 5.8130e-02,  1.7866e-02,  3.4716e-02]]],\n",
              "              \n",
              "              \n",
              "                      [[[-7.6269e-02, -2.6339e-02, -1.0063e-02],\n",
              "                        [-5.8659e-02, -7.7857e-02,  7.0900e-02],\n",
              "                        [ 7.1535e-02, -9.5731e-02,  3.3542e-02]],\n",
              "              \n",
              "                       [[ 4.2881e-02,  1.0014e-01,  6.0985e-02],\n",
              "                        [ 9.6907e-02, -3.4510e-02,  7.3827e-02],\n",
              "                        [ 8.5740e-02, -9.9541e-02, -8.4613e-02]],\n",
              "              \n",
              "                       [[ 2.1335e-02,  5.7557e-02, -5.2369e-02],\n",
              "                        [ 1.1609e-02, -1.5303e-04,  2.6680e-02],\n",
              "                        [-5.6642e-02,  5.9455e-02,  7.0098e-02]],\n",
              "              \n",
              "                       [[-7.3139e-02,  1.0211e-03,  2.9247e-04],\n",
              "                        [ 3.3849e-02,  9.8198e-02,  3.0913e-02],\n",
              "                        [-2.3951e-02,  9.4672e-02, -4.0112e-02]],\n",
              "              \n",
              "                       [[-3.0608e-02,  7.1969e-03, -8.0270e-02],\n",
              "                        [ 1.1470e-02, -7.1518e-02,  1.0838e-02],\n",
              "                        [ 1.0099e-02,  1.4591e-02, -8.8891e-02]],\n",
              "              \n",
              "                       [[-1.0012e-01,  4.8501e-02,  9.0399e-02],\n",
              "                        [-9.3537e-02,  3.9043e-02, -7.7594e-02],\n",
              "                        [ 6.6082e-03,  9.8068e-02,  7.9965e-02]],\n",
              "              \n",
              "                       [[-7.7069e-02,  6.5203e-02,  5.5057e-02],\n",
              "                        [-1.6168e-04,  1.0211e-01, -4.1866e-02],\n",
              "                        [-2.4530e-02, -5.3275e-02,  1.5168e-02]],\n",
              "              \n",
              "                       [[ 2.7911e-02,  8.3990e-03, -5.9307e-02],\n",
              "                        [-4.7452e-02,  3.5855e-02, -9.2426e-02],\n",
              "                        [-1.6416e-02, -2.3350e-03, -4.2708e-02]],\n",
              "              \n",
              "                       [[ 3.8360e-02,  6.7940e-03,  7.4004e-02],\n",
              "                        [-9.3616e-03, -6.6528e-02,  7.4477e-02],\n",
              "                        [ 1.4720e-02, -3.0189e-02, -6.9476e-02]],\n",
              "              \n",
              "                       [[ 2.4707e-02, -1.0053e-01,  2.7762e-02],\n",
              "                        [ 5.2119e-02, -9.2465e-02, -6.9009e-02],\n",
              "                        [-7.5781e-02,  8.8597e-02,  8.9611e-02]]],\n",
              "              \n",
              "              \n",
              "                      [[[ 6.5987e-03,  9.8959e-02, -3.5239e-02],\n",
              "                        [-1.0233e-01,  3.6819e-02,  3.7343e-02],\n",
              "                        [ 1.0334e-01, -3.0510e-05,  8.0785e-02]],\n",
              "              \n",
              "                       [[ 6.4612e-02,  7.6292e-02, -1.0460e-01],\n",
              "                        [ 8.6800e-02, -8.9856e-02,  9.4501e-02],\n",
              "                        [-4.3682e-03, -9.3415e-02,  2.9314e-02]],\n",
              "              \n",
              "                       [[-2.1456e-02, -9.4678e-02, -3.8215e-02],\n",
              "                        [ 1.0868e-02,  8.2098e-02, -3.2406e-02],\n",
              "                        [ 6.2610e-02,  1.3200e-02,  3.5531e-03]],\n",
              "              \n",
              "                       [[ 2.0170e-02, -6.9177e-02, -8.7616e-02],\n",
              "                        [-3.3121e-02, -9.8226e-02, -4.9158e-02],\n",
              "                        [ 4.8494e-03, -6.9424e-02, -4.3723e-02]],\n",
              "              \n",
              "                       [[-1.8941e-02, -1.2144e-02, -5.8187e-02],\n",
              "                        [ 5.0650e-03, -1.4795e-02,  3.0147e-02],\n",
              "                        [ 4.7611e-03, -5.2638e-02, -3.6291e-02]],\n",
              "              \n",
              "                       [[-1.2149e-03, -6.5774e-02,  8.2520e-03],\n",
              "                        [-7.4425e-03,  4.0897e-02,  2.4947e-02],\n",
              "                        [ 7.8887e-02, -3.4749e-03, -7.7887e-02]],\n",
              "              \n",
              "                       [[ 4.7119e-02, -7.1240e-02, -1.4489e-02],\n",
              "                        [-3.4132e-02, -3.9997e-02, -3.9000e-02],\n",
              "                        [ 9.6863e-02,  6.0342e-02,  2.9213e-02]],\n",
              "              \n",
              "                       [[ 9.8975e-02, -9.5524e-02,  1.7010e-02],\n",
              "                        [ 6.7481e-02,  7.0022e-02, -8.3890e-02],\n",
              "                        [ 3.7514e-02, -6.0050e-02, -4.1187e-03]],\n",
              "              \n",
              "                       [[-2.1996e-02, -8.8013e-02, -1.0055e-01],\n",
              "                        [-6.9349e-02,  4.7832e-02,  4.8218e-02],\n",
              "                        [-9.1681e-02, -3.9586e-02,  1.7218e-03]],\n",
              "              \n",
              "                       [[-9.1135e-02,  5.9393e-02,  9.5473e-02],\n",
              "                        [ 1.8643e-02, -7.8321e-02,  2.4580e-02],\n",
              "                        [ 3.8265e-02,  8.3468e-02, -5.6085e-02]]],\n",
              "              \n",
              "              \n",
              "                      [[[-9.4437e-02,  4.6312e-02,  6.5624e-03],\n",
              "                        [-3.4345e-02, -4.4169e-02, -5.4351e-02],\n",
              "                        [ 8.5328e-02, -1.8187e-02,  7.6022e-02]],\n",
              "              \n",
              "                       [[ 9.4094e-02,  1.3353e-02,  2.2454e-02],\n",
              "                        [-7.1789e-03,  7.2397e-02, -9.4983e-02],\n",
              "                        [ 4.1919e-02, -1.7174e-02,  4.8132e-02]],\n",
              "              \n",
              "                       [[-4.6949e-04, -3.9029e-02, -1.1379e-02],\n",
              "                        [ 5.6920e-02, -7.3210e-02, -6.6629e-02],\n",
              "                        [-2.3611e-02, -3.8235e-02,  4.1409e-02]],\n",
              "              \n",
              "                       [[ 7.0937e-02, -1.1289e-02,  9.9672e-02],\n",
              "                        [-4.4042e-02, -5.9151e-02, -4.7191e-02],\n",
              "                        [-7.2624e-02, -7.3885e-02, -9.3921e-02]],\n",
              "              \n",
              "                       [[-9.3422e-02,  2.7512e-02,  6.4284e-02],\n",
              "                        [ 9.8963e-02,  8.9787e-02, -6.0709e-03],\n",
              "                        [ 2.0454e-02, -6.3068e-02,  4.0743e-02]],\n",
              "              \n",
              "                       [[-1.0107e-01,  4.9719e-02,  1.9334e-02],\n",
              "                        [ 3.2393e-02,  3.8595e-02, -4.8394e-02],\n",
              "                        [ 9.0452e-02,  5.0307e-02,  6.9243e-02]],\n",
              "              \n",
              "                       [[ 1.3922e-02,  6.6196e-02,  7.0941e-02],\n",
              "                        [ 4.7775e-02,  8.0297e-02, -1.9119e-02],\n",
              "                        [ 6.9310e-02,  2.4286e-02,  6.3424e-02]],\n",
              "              \n",
              "                       [[ 1.0267e-01,  2.3869e-02, -3.9124e-02],\n",
              "                        [-1.0488e-02,  2.9676e-02,  1.7773e-02],\n",
              "                        [-2.8795e-02,  8.2590e-02,  6.3331e-02]],\n",
              "              \n",
              "                       [[-6.5475e-02, -8.5889e-03, -1.0119e-02],\n",
              "                        [-6.6063e-02,  1.5374e-02, -3.2360e-02],\n",
              "                        [-5.4419e-02, -3.3894e-02, -3.7584e-02]],\n",
              "              \n",
              "                       [[ 1.0084e-01,  4.0432e-02,  1.0373e-01],\n",
              "                        [ 2.8903e-02,  2.3868e-02,  4.3333e-02],\n",
              "                        [ 1.8092e-02, -8.2722e-02, -6.2334e-02]]],\n",
              "              \n",
              "              \n",
              "                      [[[-2.5538e-02,  1.5846e-03,  3.9709e-02],\n",
              "                        [ 4.0588e-02,  8.3623e-02,  2.1458e-02],\n",
              "                        [-3.5975e-02, -7.9271e-02, -7.7203e-02]],\n",
              "              \n",
              "                       [[-6.2965e-02,  3.1792e-02,  5.6950e-02],\n",
              "                        [ 9.2224e-02, -3.3342e-02, -8.3150e-03],\n",
              "                        [-3.1303e-02, -3.8517e-04,  3.3837e-02]],\n",
              "              \n",
              "                       [[-2.3160e-03,  4.8799e-03,  1.3354e-02],\n",
              "                        [ 3.9256e-02, -3.1981e-02, -6.2855e-02],\n",
              "                        [ 2.4869e-02, -1.2481e-02, -4.7753e-02]],\n",
              "              \n",
              "                       [[ 4.4268e-02,  9.5597e-04, -1.5333e-02],\n",
              "                        [-5.1027e-02, -1.3868e-02, -8.9632e-02],\n",
              "                        [ 2.3980e-02,  1.5818e-03,  6.3966e-02]],\n",
              "              \n",
              "                       [[ 6.8063e-03,  8.4277e-03,  2.8715e-02],\n",
              "                        [ 8.0210e-02, -4.9812e-02,  6.2930e-02],\n",
              "                        [ 2.5779e-02, -7.0320e-02,  3.6702e-02]],\n",
              "              \n",
              "                       [[-6.3217e-02, -3.3181e-02, -5.0245e-02],\n",
              "                        [-7.1711e-02,  8.3017e-02, -9.4217e-02],\n",
              "                        [ 5.2706e-02, -9.4870e-02, -1.2829e-02]],\n",
              "              \n",
              "                       [[ 6.2868e-03,  7.4937e-02, -3.8147e-02],\n",
              "                        [ 3.0340e-02,  1.6329e-02,  6.2021e-02],\n",
              "                        [ 6.2667e-03,  3.9470e-02, -6.3677e-02]],\n",
              "              \n",
              "                       [[-7.3250e-02,  9.3928e-02, -7.6808e-02],\n",
              "                        [-1.7945e-02, -1.2742e-02,  1.0308e-01],\n",
              "                        [-2.2780e-02, -8.0249e-02, -2.6721e-02]],\n",
              "              \n",
              "                       [[ 5.4372e-02,  4.1773e-02,  8.7204e-02],\n",
              "                        [-2.1579e-02,  4.9653e-02, -9.9194e-02],\n",
              "                        [ 4.0787e-02,  4.8432e-02,  6.7998e-02]],\n",
              "              \n",
              "                       [[-6.0446e-02, -2.8142e-02,  2.5502e-02],\n",
              "                        [-7.4905e-02, -8.3851e-02, -1.0141e-01],\n",
              "                        [ 5.8842e-03,  6.5458e-02,  2.7075e-02]]],\n",
              "              \n",
              "              \n",
              "                      [[[ 6.4263e-03,  3.6727e-02, -6.6240e-02],\n",
              "                        [ 1.1113e-02, -2.6186e-02, -5.2193e-02],\n",
              "                        [ 9.0902e-02, -8.1550e-02,  1.5448e-02]],\n",
              "              \n",
              "                       [[-9.2624e-02, -3.5762e-03, -4.6840e-02],\n",
              "                        [ 3.4695e-02, -5.9191e-02,  6.7466e-02],\n",
              "                        [-8.5536e-02,  6.3313e-02, -7.9181e-02]],\n",
              "              \n",
              "                       [[ 5.6456e-02, -4.4384e-02, -2.4556e-04],\n",
              "                        [-1.9238e-02,  6.8414e-02,  3.4546e-02],\n",
              "                        [-9.2887e-02,  9.6914e-03, -7.2718e-02]],\n",
              "              \n",
              "                       [[ 7.8800e-02,  1.7319e-02, -2.7109e-02],\n",
              "                        [-5.3777e-02,  3.6485e-02, -6.3129e-02],\n",
              "                        [ 4.9992e-02,  5.7519e-02,  6.4701e-02]],\n",
              "              \n",
              "                       [[ 2.7537e-02, -9.2272e-02,  7.5823e-02],\n",
              "                        [-3.2700e-02, -3.1163e-02, -1.1325e-02],\n",
              "                        [ 7.7068e-02,  8.1052e-02,  1.6276e-02]],\n",
              "              \n",
              "                       [[ 5.0296e-02, -9.8241e-02,  2.4900e-04],\n",
              "                        [-9.3254e-02,  3.5876e-02, -7.5099e-02],\n",
              "                        [-3.7568e-02,  7.3684e-02,  1.0074e-01]],\n",
              "              \n",
              "                       [[-6.3286e-02, -5.8503e-02,  1.3055e-02],\n",
              "                        [ 4.1437e-02, -1.7168e-02, -3.2918e-02],\n",
              "                        [-6.9237e-02,  4.4997e-02,  1.0328e-01]],\n",
              "              \n",
              "                       [[-5.1026e-02,  4.9718e-02,  5.1481e-02],\n",
              "                        [ 8.4728e-02, -1.2001e-02,  3.3202e-03],\n",
              "                        [ 7.7444e-02,  6.6631e-02,  1.0411e-01]],\n",
              "              \n",
              "                       [[-3.0207e-02,  4.1709e-02,  7.3605e-02],\n",
              "                        [-7.1553e-02,  2.0940e-02, -2.3586e-02],\n",
              "                        [ 6.7760e-02, -4.7342e-02,  7.3933e-03]],\n",
              "              \n",
              "                       [[ 6.3067e-02, -9.6567e-02, -8.9004e-02],\n",
              "                        [-5.3989e-02,  6.7611e-02,  7.0680e-02],\n",
              "                        [-7.1991e-02,  2.0100e-02, -5.5854e-02]]],\n",
              "              \n",
              "              \n",
              "                      [[[-4.8926e-02,  9.0907e-02,  5.0914e-02],\n",
              "                        [-2.8828e-02,  1.5516e-02,  2.0424e-02],\n",
              "                        [ 2.4691e-02, -3.6079e-02, -6.2074e-02]],\n",
              "              \n",
              "                       [[ 6.9788e-02,  1.4164e-02,  4.4119e-02],\n",
              "                        [-3.9922e-02,  5.1057e-02,  7.6713e-02],\n",
              "                        [ 6.4107e-02,  2.8660e-02,  1.0371e-01]],\n",
              "              \n",
              "                       [[-2.3053e-04,  2.2441e-02,  1.0015e-01],\n",
              "                        [ 1.0245e-01, -4.4506e-02,  9.4953e-02],\n",
              "                        [ 3.8902e-02, -1.1799e-02,  9.2038e-02]],\n",
              "              \n",
              "                       [[-5.4605e-02,  6.8490e-02,  1.0445e-01],\n",
              "                        [-7.2701e-02, -6.2201e-02, -1.0445e-01],\n",
              "                        [-1.8970e-02, -9.5733e-02, -3.5304e-02]],\n",
              "              \n",
              "                       [[ 3.2002e-02,  7.4511e-02,  5.8717e-02],\n",
              "                        [ 5.8511e-02,  4.3730e-02, -6.5378e-02],\n",
              "                        [-8.3694e-02,  4.3696e-03,  1.0009e-01]],\n",
              "              \n",
              "                       [[ 5.9351e-03, -9.0662e-03, -7.1545e-02],\n",
              "                        [-5.2266e-02, -8.1256e-02,  8.4398e-02],\n",
              "                        [-1.7174e-02, -9.3119e-02,  1.1308e-02]],\n",
              "              \n",
              "                       [[ 7.6494e-03, -1.3023e-02,  3.7733e-02],\n",
              "                        [ 5.6687e-02, -9.9128e-02, -8.0753e-02],\n",
              "                        [-5.0639e-03, -9.7729e-02, -9.5750e-02]],\n",
              "              \n",
              "                       [[ 9.3067e-02, -8.0174e-03, -5.2113e-02],\n",
              "                        [-3.6157e-02, -8.2295e-02,  8.2258e-02],\n",
              "                        [-2.2857e-02, -5.9265e-02, -7.9944e-02]],\n",
              "              \n",
              "                       [[ 6.1611e-02, -1.4571e-02, -1.1074e-02],\n",
              "                        [-2.7473e-02, -5.0883e-02,  1.8751e-02],\n",
              "                        [ 8.1099e-02, -6.1093e-02,  5.0504e-03]],\n",
              "              \n",
              "                       [[-8.0165e-02, -4.9426e-02,  9.2525e-02],\n",
              "                        [ 1.1052e-03,  1.0154e-01, -1.8468e-02],\n",
              "                        [-5.7453e-02, -6.2981e-02,  9.3426e-02]]],\n",
              "              \n",
              "              \n",
              "                      [[[-8.1058e-02,  5.5318e-02,  2.6203e-02],\n",
              "                        [ 3.1107e-02,  5.9476e-02, -2.7577e-02],\n",
              "                        [ 6.5223e-02, -8.3982e-02, -3.7087e-02]],\n",
              "              \n",
              "                       [[ 7.7164e-02,  3.1283e-02, -1.4038e-02],\n",
              "                        [-2.4616e-02, -6.4364e-02,  6.4098e-02],\n",
              "                        [-3.3520e-03, -3.5664e-03,  2.4929e-02]],\n",
              "              \n",
              "                       [[ 7.7787e-02, -5.3778e-02, -3.6303e-02],\n",
              "                        [ 7.1429e-02,  5.9532e-02, -5.1855e-02],\n",
              "                        [-1.0428e-01,  1.9555e-02,  5.5434e-02]],\n",
              "              \n",
              "                       [[ 2.5178e-02,  7.4768e-02, -8.3640e-02],\n",
              "                        [ 5.3156e-02, -6.5531e-02,  5.9325e-02],\n",
              "                        [ 7.8394e-02,  3.3385e-02,  8.5284e-02]],\n",
              "              \n",
              "                       [[-6.9481e-02, -9.4275e-02, -1.0135e-01],\n",
              "                        [ 6.6179e-02,  3.6926e-02, -7.7188e-02],\n",
              "                        [ 5.1048e-02,  9.6177e-02, -1.0394e-01]],\n",
              "              \n",
              "                       [[ 7.6466e-02,  1.6167e-02,  9.8053e-03],\n",
              "                        [ 9.4847e-02,  9.5458e-02,  4.4414e-02],\n",
              "                        [ 8.3288e-02,  4.3853e-02,  1.7176e-02]],\n",
              "              \n",
              "                       [[-9.2656e-02,  1.9689e-02, -7.4993e-02],\n",
              "                        [ 3.2452e-02,  1.8598e-02,  2.3681e-03],\n",
              "                        [-7.2071e-02, -6.3899e-02,  7.7912e-02]],\n",
              "              \n",
              "                       [[ 5.1336e-02,  5.5576e-02, -3.1410e-02],\n",
              "                        [-1.8151e-02, -2.7014e-02,  7.2489e-02],\n",
              "                        [-4.5504e-02,  6.6394e-02,  7.2679e-02]],\n",
              "              \n",
              "                       [[-9.6403e-02,  6.4369e-04, -2.0076e-02],\n",
              "                        [-5.8273e-02,  4.5507e-02, -1.2807e-02],\n",
              "                        [ 9.2287e-02, -6.5976e-02,  4.8976e-02]],\n",
              "              \n",
              "                       [[-8.9998e-02, -5.2833e-02,  7.1903e-03],\n",
              "                        [ 8.3283e-02,  5.5521e-02, -8.6550e-02],\n",
              "                        [ 1.1676e-02, -6.2138e-02,  4.5674e-03]]]])),\n",
              "             ('conv_block_2.0.bias',\n",
              "              tensor([-0.0878, -0.0309,  0.0723, -0.0967, -0.1005,  0.0192,  0.0144, -0.0193,\n",
              "                       0.0920, -0.0635])),\n",
              "             ('classifier.1.weight',\n",
              "              tensor([[-0.0274, -0.0338, -0.0084,  ..., -0.0281, -0.0368,  0.0099],\n",
              "                      [-0.0249,  0.0129,  0.0383,  ...,  0.0289,  0.0372, -0.0014],\n",
              "                      [-0.0202,  0.0002, -0.0299,  ...,  0.0067, -0.0372, -0.0297],\n",
              "                      ...,\n",
              "                      [ 0.0069, -0.0443, -0.0313,  ..., -0.0393,  0.0045, -0.0103],\n",
              "                      [-0.0203, -0.0077, -0.0062,  ..., -0.0132, -0.0107, -0.0272],\n",
              "                      [ 0.0199, -0.0228, -0.0144,  ..., -0.0255, -0.0154,  0.0300]])),\n",
              "             ('classifier.1.bias',\n",
              "              tensor([-0.0212, -0.0059, -0.0180, -0.0400,  0.0218, -0.0201, -0.0208, -0.0100,\n",
              "                       0.0124,  0.0397]))])"
            ]
          },
          "metadata": {},
          "execution_count": 33
        }
      ]
    },
    {
      "cell_type": "code",
      "source": [
        "test_image = torch.randn(3, 28, 28)\n",
        "conv_layer=nn.Conv2d(in_channels=3,\n",
        "                     out_channels=64,\n",
        "                     kernel_size=(5,5),\n",
        "                     stride=1,\n",
        "                     padding=0)\n",
        "conv_output=conv_layer(test_image.unsqueeze(dim=0))\n",
        "conv_output.shape"
      ],
      "metadata": {
        "colab": {
          "base_uri": "https://localhost:8080/"
        },
        "id": "26RWpeBUax25",
        "outputId": "de00cf0c-2971-416c-db85-2a1ede1b0b53"
      },
      "execution_count": null,
      "outputs": [
        {
          "output_type": "execute_result",
          "data": {
            "text/plain": [
              "torch.Size([1, 64, 24, 24])"
            ]
          },
          "metadata": {},
          "execution_count": 34
        }
      ]
    },
    {
      "cell_type": "code",
      "source": [
        "print(f\"Test image shape:{test_image.shape}\")\n",
        "max_pool_layer=nn.MaxPool2d(kernel_size=2)\n",
        "test_image_through_conv=conv_layer(test_image.unsqueeze(dim=0))\n",
        "print(f\"shape after conv:{test_image_through_conv.shape}\")\n",
        "test_image_through_maxpool=max_pool_layer(test_image_through_conv)\n",
        "print(f\"shape after maxpool:{test_image_through_maxpool.shape}\")\n",
        "test_image_through_conv_and_maxpool=max_pool_layer(test_image_through_conv)\n",
        "print(f\"shape after conv and maxpool:{test_image_through_conv_and_maxpool.shape}\")"
      ],
      "metadata": {
        "id": "QzgPn1G5cYfw",
        "colab": {
          "base_uri": "https://localhost:8080/"
        },
        "outputId": "964b0ef4-1440-458a-d54c-3e73912cb1c5"
      },
      "execution_count": null,
      "outputs": [
        {
          "output_type": "stream",
          "name": "stdout",
          "text": [
            "Test image shape:torch.Size([3, 28, 28])\n",
            "shape after conv:torch.Size([1, 64, 24, 24])\n",
            "shape after maxpool:torch.Size([1, 64, 12, 12])\n",
            "shape after conv and maxpool:torch.Size([1, 64, 12, 12])\n"
          ]
        }
      ]
    },
    {
      "cell_type": "code",
      "source": [
        "from helper_functions import accuracy_fn\n",
        "loss_fn=nn.CrossEntropyLoss()\n",
        "optimizer=torch.optim.SGD(params=model_2.parameters(),lr=0.1)\n"
      ],
      "metadata": {
        "id": "8M600jYDwi6p"
      },
      "execution_count": null,
      "outputs": []
    },
    {
      "cell_type": "code",
      "source": [
        "def train_step(model: torch.nn.Module,\n",
        "               data_loader: torch.utils.data.DataLoader,\n",
        "               loss_fn: torch.nn.Module,\n",
        "               optimizer: torch.optim.Optimizer,\n",
        "               accuracy_fn,\n",
        "               device: torch.device = None):\n",
        "    train_loss, train_acc = 0, 0\n",
        "    model.to(device)\n",
        "    for batch, (X, y) in enumerate(data_loader):\n",
        "        # Send data to GPU\n",
        "\n",
        "\n",
        "        # 1. Forward pass\n",
        "        y_pred = model(X)\n",
        "\n",
        "        # 2. Calculate loss\n",
        "        loss = loss_fn(y_pred, y)\n",
        "        train_loss += loss\n",
        "        train_acc += accuracy_fn(y_true=y,\n",
        "                                 y_pred=y_pred.argmax(dim=1)) # Go from logits -> pred labels\n",
        "\n",
        "        # 3. Optimizer zero grad\n",
        "        optimizer.zero_grad()\n",
        "\n",
        "        # 4. Loss backward\n",
        "        loss.backward()\n",
        "\n",
        "        # 5. Optimizer step\n",
        "        optimizer.step()\n",
        "\n",
        "    # Calculate loss and accuracy per epoch and print out what's happening\n",
        "    train_loss /= len(data_loader)\n",
        "    train_acc /= len(data_loader)\n",
        "    print(f\"Train loss: {train_loss:.5f} | Train accuracy: {train_acc:.2f}%\")\n",
        "\n",
        "def test_step(data_loader: torch.utils.data.DataLoader,\n",
        "              model: torch.nn.Module,\n",
        "              loss_fn: torch.nn.Module,\n",
        "              accuracy_fn,\n",
        "              device: torch.device = None):\n",
        "    test_loss, test_acc = 0, 0\n",
        "    model.to(device)\n",
        "    model.eval() # put model in eval mode\n",
        "    # Turn on inference context manager\n",
        "    with torch.inference_mode():\n",
        "        for X, y in data_loader:\n",
        "            # Send data to GPU\n",
        "\n",
        "\n",
        "            # 1. Forward pass\n",
        "            test_pred = model(X)\n",
        "\n",
        "            # 2. Calculate loss and accuracy\n",
        "            test_loss += loss_fn(test_pred, y)\n",
        "            test_acc += accuracy_fn(y_true=y,\n",
        "                y_pred=test_pred.argmax(dim=1) # Go from logits -> pred labels\n",
        "            )\n",
        "\n",
        "        # Adjust metrics and print out\n",
        "        test_loss /= len(data_loader)\n",
        "        test_acc /= len(data_loader)\n",
        "        print(f\"Test loss: {test_loss:.5f} | Test accuracy: {test_acc:.2f}%\\n\")"
      ],
      "metadata": {
        "id": "EKkmdjxNH6b0"
      },
      "execution_count": null,
      "outputs": []
    },
    {
      "cell_type": "code",
      "source": [
        "torch.manual_seed(42)\n",
        "torch.cuda.manual_seed(42)\n",
        "from timeit import default_timer as timer\n",
        "epochs=3\n",
        "for epoch in tqdm(range(epochs)):\n",
        "  print(f\"epoch:{epoch}\\n-----\")\n",
        "  train_step(model=model_2,data_loader=train_dataloader,loss_fn=loss_fn,optimizer=optimizer,accuracy_fn=accuracy_fn,device=None)\n",
        "  test_step(data_loader=test_dataloader,model=model_2,loss_fn=loss_fn,accuracy_fn=accuracy_fn,device=None)\n",
        "\n",
        "train_time_end_model_2=timer()\n",
        "total_train_time_model_2=print_train_time(start=train_time_start_on_cpu,end=train_time_end_model_2,device=None)"
      ],
      "metadata": {
        "colab": {
          "base_uri": "https://localhost:8080/",
          "height": 327,
          "referenced_widgets": [
            "1a517c818a814805b99e8d317e265235",
            "ce4d60b20b774cba94069cec16dbc70e",
            "24913b7866274b1086788e0d0310ab91",
            "0d773aabdb774220874bf93e6b2d3644",
            "cba96bcd9e0643a88ec4589c7bea505e",
            "f0578152aff848c59be7387a5b4885df",
            "9ccd0177e5f649f3b8e1281fdca23370",
            "c386c1ac95a04857a740e11daca6eade",
            "df887483015d4e918f5442b545b22900",
            "fc67098e71fa45529dc9dec29b7eb893",
            "5c11420e77d74d15af1ed73d78b4f007"
          ]
        },
        "id": "R_uJKzAVFJls",
        "outputId": "d5dad4a2-e2d4-4619-a568-dc5126dfb4c5"
      },
      "execution_count": null,
      "outputs": [
        {
          "output_type": "display_data",
          "data": {
            "text/plain": [
              "  0%|          | 0/3 [00:00<?, ?it/s]"
            ],
            "application/vnd.jupyter.widget-view+json": {
              "version_major": 2,
              "version_minor": 0,
              "model_id": "1a517c818a814805b99e8d317e265235"
            }
          },
          "metadata": {}
        },
        {
          "output_type": "stream",
          "name": "stdout",
          "text": [
            "epoch:0\n",
            "-----\n",
            "Train loss: 0.56002 | Train accuracy: 80.06%\n",
            "Test loss: 0.38519 | Test accuracy: 86.50%\n",
            "\n",
            "epoch:1\n",
            "-----\n",
            "Train loss: 0.35969 | Train accuracy: 87.00%\n",
            "Test loss: 0.37872 | Test accuracy: 86.30%\n",
            "\n",
            "epoch:2\n",
            "-----\n",
            "Train loss: 0.32312 | Train accuracy: 88.38%\n",
            "Test loss: 0.33312 | Test accuracy: 88.15%\n",
            "\n",
            "Train time on None: 137.740 seconds\n"
          ]
        }
      ]
    },
    {
      "cell_type": "code",
      "source": [
        "model_2_results=eval_model(\n",
        "    model=model_2,\n",
        "    data_loader=test_dataloader,\n",
        "    loss_fn=loss_fn,\n",
        "    accuracy_fn=accuracy_fn\n",
        ")\n",
        "model_2_results"
      ],
      "metadata": {
        "colab": {
          "base_uri": "https://localhost:8080/",
          "height": 101,
          "referenced_widgets": [
            "bb0dd0b4f78049dbad526175e0f15863",
            "f131dd0ef48e4534bfc3801686c81015",
            "659fb5789d014b2ea78b815f4cf02978",
            "55397dfee5314bf4888a1841433cce3f",
            "21bf4673d00949ab9b9b71103e908c99",
            "9b154496c2314062abe72a4086051967",
            "dd67ec98e7264004bc57198d688745c2",
            "140122f6be8e4660ba3fdeb30907de07",
            "b4258d364a0445ee9b8297c94d4d0354",
            "8419f00854794560afd5776f5a392d29",
            "8239ea35eb914a329feba41a078cd456"
          ]
        },
        "id": "p2KoAsS9Fzba",
        "outputId": "e58ecfb3-ff33-4349-d5f5-ce039431563a"
      },
      "execution_count": null,
      "outputs": [
        {
          "output_type": "display_data",
          "data": {
            "text/plain": [
              "  0%|          | 0/313 [00:00<?, ?it/s]"
            ],
            "application/vnd.jupyter.widget-view+json": {
              "version_major": 2,
              "version_minor": 0,
              "model_id": "bb0dd0b4f78049dbad526175e0f15863"
            }
          },
          "metadata": {}
        },
        {
          "output_type": "execute_result",
          "data": {
            "text/plain": [
              "{'model_name': 'FashionMNISTModelV2',\n",
              " 'model_loss': 0.3323821425437927,\n",
              " 'model_acc': 88.17891373801918}"
            ]
          },
          "metadata": {},
          "execution_count": 39
        }
      ]
    },
    {
      "cell_type": "code",
      "source": [
        "model_1_results = eval_model(model_1, test_dataloader, loss_fn, accuracy_fn)"
      ],
      "metadata": {
        "colab": {
          "base_uri": "https://localhost:8080/",
          "height": 49,
          "referenced_widgets": [
            "b3988e02edda40c2a963c1b0aa63111c",
            "41ab4abc218f446d875616230b214323",
            "7323fb8aab764c729b3ce6a88c5b731d",
            "d1e2296d5cc24d3fbdd2d3a2741b3402",
            "bf2ec9c046c04a1981d58917bcc4b00c",
            "d78f7a59339f49cea417ff7c6a946d17",
            "a8a466d725784be9b794c9d86efd8b37",
            "ba1988d9c1644113a0a54e4a1f53085e",
            "0915039e54cc4a89b6e6842a44b9c2b6",
            "aea9966021fd4b7c8329c0a0e36c3e97",
            "e6909bc800ed413dbe450f28e531562d"
          ]
        },
        "id": "zHSvjUoNLLln",
        "outputId": "c2ddd9fd-0ede-4c52-b864-c9f2500154b5"
      },
      "execution_count": null,
      "outputs": [
        {
          "output_type": "display_data",
          "data": {
            "text/plain": [
              "  0%|          | 0/313 [00:00<?, ?it/s]"
            ],
            "application/vnd.jupyter.widget-view+json": {
              "version_major": 2,
              "version_minor": 0,
              "model_id": "b3988e02edda40c2a963c1b0aa63111c"
            }
          },
          "metadata": {}
        }
      ]
    },
    {
      "cell_type": "code",
      "source": [
        "import pandas as pd\n",
        "# Assuming model_1_results is calculated somewhere else, for example:\n",
        "# model_1_results = eval_model(model_1, test_dataloader, loss_fn, accuracy_fn)\n",
        "\n",
        "# Now you can create the DataFrame\n",
        "compare_results = pd.DataFrame([model_0_results, model_1_results, model_2_results],\n",
        "                               index=['model_0', 'model_1', 'model_2'])\n",
        "# Added index for clarity\n",
        "compare_results"
      ],
      "metadata": {
        "colab": {
          "base_uri": "https://localhost:8080/",
          "height": 143
        },
        "id": "3YU4XLYbJ5Ec",
        "outputId": "03d723cf-2152-49c7-ee05-300a2627fde7"
      },
      "execution_count": null,
      "outputs": [
        {
          "output_type": "execute_result",
          "data": {
            "text/plain": [
              "                  model_name  model_loss  model_acc\n",
              "model_0  FashionMNISTModelV0    0.512530  83.007188\n",
              "model_1  FashionMNISTModelV1    2.302022  10.772764\n",
              "model_2  FashionMNISTModelV2    0.332382  88.178914"
            ],
            "text/html": [
              "\n",
              "  <div id=\"df-d5893385-7e0e-4cb8-a1f9-5f8a051d98a5\" class=\"colab-df-container\">\n",
              "    <div>\n",
              "<style scoped>\n",
              "    .dataframe tbody tr th:only-of-type {\n",
              "        vertical-align: middle;\n",
              "    }\n",
              "\n",
              "    .dataframe tbody tr th {\n",
              "        vertical-align: top;\n",
              "    }\n",
              "\n",
              "    .dataframe thead th {\n",
              "        text-align: right;\n",
              "    }\n",
              "</style>\n",
              "<table border=\"1\" class=\"dataframe\">\n",
              "  <thead>\n",
              "    <tr style=\"text-align: right;\">\n",
              "      <th></th>\n",
              "      <th>model_name</th>\n",
              "      <th>model_loss</th>\n",
              "      <th>model_acc</th>\n",
              "    </tr>\n",
              "  </thead>\n",
              "  <tbody>\n",
              "    <tr>\n",
              "      <th>model_0</th>\n",
              "      <td>FashionMNISTModelV0</td>\n",
              "      <td>0.512530</td>\n",
              "      <td>83.007188</td>\n",
              "    </tr>\n",
              "    <tr>\n",
              "      <th>model_1</th>\n",
              "      <td>FashionMNISTModelV1</td>\n",
              "      <td>2.302022</td>\n",
              "      <td>10.772764</td>\n",
              "    </tr>\n",
              "    <tr>\n",
              "      <th>model_2</th>\n",
              "      <td>FashionMNISTModelV2</td>\n",
              "      <td>0.332382</td>\n",
              "      <td>88.178914</td>\n",
              "    </tr>\n",
              "  </tbody>\n",
              "</table>\n",
              "</div>\n",
              "    <div class=\"colab-df-buttons\">\n",
              "\n",
              "  <div class=\"colab-df-container\">\n",
              "    <button class=\"colab-df-convert\" onclick=\"convertToInteractive('df-d5893385-7e0e-4cb8-a1f9-5f8a051d98a5')\"\n",
              "            title=\"Convert this dataframe to an interactive table.\"\n",
              "            style=\"display:none;\">\n",
              "\n",
              "  <svg xmlns=\"http://www.w3.org/2000/svg\" height=\"24px\" viewBox=\"0 -960 960 960\">\n",
              "    <path d=\"M120-120v-720h720v720H120Zm60-500h600v-160H180v160Zm220 220h160v-160H400v160Zm0 220h160v-160H400v160ZM180-400h160v-160H180v160Zm440 0h160v-160H620v160ZM180-180h160v-160H180v160Zm440 0h160v-160H620v160Z\"/>\n",
              "  </svg>\n",
              "    </button>\n",
              "\n",
              "  <style>\n",
              "    .colab-df-container {\n",
              "      display:flex;\n",
              "      gap: 12px;\n",
              "    }\n",
              "\n",
              "    .colab-df-convert {\n",
              "      background-color: #E8F0FE;\n",
              "      border: none;\n",
              "      border-radius: 50%;\n",
              "      cursor: pointer;\n",
              "      display: none;\n",
              "      fill: #1967D2;\n",
              "      height: 32px;\n",
              "      padding: 0 0 0 0;\n",
              "      width: 32px;\n",
              "    }\n",
              "\n",
              "    .colab-df-convert:hover {\n",
              "      background-color: #E2EBFA;\n",
              "      box-shadow: 0px 1px 2px rgba(60, 64, 67, 0.3), 0px 1px 3px 1px rgba(60, 64, 67, 0.15);\n",
              "      fill: #174EA6;\n",
              "    }\n",
              "\n",
              "    .colab-df-buttons div {\n",
              "      margin-bottom: 4px;\n",
              "    }\n",
              "\n",
              "    [theme=dark] .colab-df-convert {\n",
              "      background-color: #3B4455;\n",
              "      fill: #D2E3FC;\n",
              "    }\n",
              "\n",
              "    [theme=dark] .colab-df-convert:hover {\n",
              "      background-color: #434B5C;\n",
              "      box-shadow: 0px 1px 3px 1px rgba(0, 0, 0, 0.15);\n",
              "      filter: drop-shadow(0px 1px 2px rgba(0, 0, 0, 0.3));\n",
              "      fill: #FFFFFF;\n",
              "    }\n",
              "  </style>\n",
              "\n",
              "    <script>\n",
              "      const buttonEl =\n",
              "        document.querySelector('#df-d5893385-7e0e-4cb8-a1f9-5f8a051d98a5 button.colab-df-convert');\n",
              "      buttonEl.style.display =\n",
              "        google.colab.kernel.accessAllowed ? 'block' : 'none';\n",
              "\n",
              "      async function convertToInteractive(key) {\n",
              "        const element = document.querySelector('#df-d5893385-7e0e-4cb8-a1f9-5f8a051d98a5');\n",
              "        const dataTable =\n",
              "          await google.colab.kernel.invokeFunction('convertToInteractive',\n",
              "                                                    [key], {});\n",
              "        if (!dataTable) return;\n",
              "\n",
              "        const docLinkHtml = 'Like what you see? Visit the ' +\n",
              "          '<a target=\"_blank\" href=https://colab.research.google.com/notebooks/data_table.ipynb>data table notebook</a>'\n",
              "          + ' to learn more about interactive tables.';\n",
              "        element.innerHTML = '';\n",
              "        dataTable['output_type'] = 'display_data';\n",
              "        await google.colab.output.renderOutput(dataTable, element);\n",
              "        const docLink = document.createElement('div');\n",
              "        docLink.innerHTML = docLinkHtml;\n",
              "        element.appendChild(docLink);\n",
              "      }\n",
              "    </script>\n",
              "  </div>\n",
              "\n",
              "\n",
              "<div id=\"df-617270b3-2823-4596-96d7-78579dc27fcb\">\n",
              "  <button class=\"colab-df-quickchart\" onclick=\"quickchart('df-617270b3-2823-4596-96d7-78579dc27fcb')\"\n",
              "            title=\"Suggest charts\"\n",
              "            style=\"display:none;\">\n",
              "\n",
              "<svg xmlns=\"http://www.w3.org/2000/svg\" height=\"24px\"viewBox=\"0 0 24 24\"\n",
              "     width=\"24px\">\n",
              "    <g>\n",
              "        <path d=\"M19 3H5c-1.1 0-2 .9-2 2v14c0 1.1.9 2 2 2h14c1.1 0 2-.9 2-2V5c0-1.1-.9-2-2-2zM9 17H7v-7h2v7zm4 0h-2V7h2v10zm4 0h-2v-4h2v4z\"/>\n",
              "    </g>\n",
              "</svg>\n",
              "  </button>\n",
              "\n",
              "<style>\n",
              "  .colab-df-quickchart {\n",
              "      --bg-color: #E8F0FE;\n",
              "      --fill-color: #1967D2;\n",
              "      --hover-bg-color: #E2EBFA;\n",
              "      --hover-fill-color: #174EA6;\n",
              "      --disabled-fill-color: #AAA;\n",
              "      --disabled-bg-color: #DDD;\n",
              "  }\n",
              "\n",
              "  [theme=dark] .colab-df-quickchart {\n",
              "      --bg-color: #3B4455;\n",
              "      --fill-color: #D2E3FC;\n",
              "      --hover-bg-color: #434B5C;\n",
              "      --hover-fill-color: #FFFFFF;\n",
              "      --disabled-bg-color: #3B4455;\n",
              "      --disabled-fill-color: #666;\n",
              "  }\n",
              "\n",
              "  .colab-df-quickchart {\n",
              "    background-color: var(--bg-color);\n",
              "    border: none;\n",
              "    border-radius: 50%;\n",
              "    cursor: pointer;\n",
              "    display: none;\n",
              "    fill: var(--fill-color);\n",
              "    height: 32px;\n",
              "    padding: 0;\n",
              "    width: 32px;\n",
              "  }\n",
              "\n",
              "  .colab-df-quickchart:hover {\n",
              "    background-color: var(--hover-bg-color);\n",
              "    box-shadow: 0 1px 2px rgba(60, 64, 67, 0.3), 0 1px 3px 1px rgba(60, 64, 67, 0.15);\n",
              "    fill: var(--button-hover-fill-color);\n",
              "  }\n",
              "\n",
              "  .colab-df-quickchart-complete:disabled,\n",
              "  .colab-df-quickchart-complete:disabled:hover {\n",
              "    background-color: var(--disabled-bg-color);\n",
              "    fill: var(--disabled-fill-color);\n",
              "    box-shadow: none;\n",
              "  }\n",
              "\n",
              "  .colab-df-spinner {\n",
              "    border: 2px solid var(--fill-color);\n",
              "    border-color: transparent;\n",
              "    border-bottom-color: var(--fill-color);\n",
              "    animation:\n",
              "      spin 1s steps(1) infinite;\n",
              "  }\n",
              "\n",
              "  @keyframes spin {\n",
              "    0% {\n",
              "      border-color: transparent;\n",
              "      border-bottom-color: var(--fill-color);\n",
              "      border-left-color: var(--fill-color);\n",
              "    }\n",
              "    20% {\n",
              "      border-color: transparent;\n",
              "      border-left-color: var(--fill-color);\n",
              "      border-top-color: var(--fill-color);\n",
              "    }\n",
              "    30% {\n",
              "      border-color: transparent;\n",
              "      border-left-color: var(--fill-color);\n",
              "      border-top-color: var(--fill-color);\n",
              "      border-right-color: var(--fill-color);\n",
              "    }\n",
              "    40% {\n",
              "      border-color: transparent;\n",
              "      border-right-color: var(--fill-color);\n",
              "      border-top-color: var(--fill-color);\n",
              "    }\n",
              "    60% {\n",
              "      border-color: transparent;\n",
              "      border-right-color: var(--fill-color);\n",
              "    }\n",
              "    80% {\n",
              "      border-color: transparent;\n",
              "      border-right-color: var(--fill-color);\n",
              "      border-bottom-color: var(--fill-color);\n",
              "    }\n",
              "    90% {\n",
              "      border-color: transparent;\n",
              "      border-bottom-color: var(--fill-color);\n",
              "    }\n",
              "  }\n",
              "</style>\n",
              "\n",
              "  <script>\n",
              "    async function quickchart(key) {\n",
              "      const quickchartButtonEl =\n",
              "        document.querySelector('#' + key + ' button');\n",
              "      quickchartButtonEl.disabled = true;  // To prevent multiple clicks.\n",
              "      quickchartButtonEl.classList.add('colab-df-spinner');\n",
              "      try {\n",
              "        const charts = await google.colab.kernel.invokeFunction(\n",
              "            'suggestCharts', [key], {});\n",
              "      } catch (error) {\n",
              "        console.error('Error during call to suggestCharts:', error);\n",
              "      }\n",
              "      quickchartButtonEl.classList.remove('colab-df-spinner');\n",
              "      quickchartButtonEl.classList.add('colab-df-quickchart-complete');\n",
              "    }\n",
              "    (() => {\n",
              "      let quickchartButtonEl =\n",
              "        document.querySelector('#df-617270b3-2823-4596-96d7-78579dc27fcb button');\n",
              "      quickchartButtonEl.style.display =\n",
              "        google.colab.kernel.accessAllowed ? 'block' : 'none';\n",
              "    })();\n",
              "  </script>\n",
              "</div>\n",
              "\n",
              "  <div id=\"id_97b1bcb5-d143-4d50-ae58-74ebb915c013\">\n",
              "    <style>\n",
              "      .colab-df-generate {\n",
              "        background-color: #E8F0FE;\n",
              "        border: none;\n",
              "        border-radius: 50%;\n",
              "        cursor: pointer;\n",
              "        display: none;\n",
              "        fill: #1967D2;\n",
              "        height: 32px;\n",
              "        padding: 0 0 0 0;\n",
              "        width: 32px;\n",
              "      }\n",
              "\n",
              "      .colab-df-generate:hover {\n",
              "        background-color: #E2EBFA;\n",
              "        box-shadow: 0px 1px 2px rgba(60, 64, 67, 0.3), 0px 1px 3px 1px rgba(60, 64, 67, 0.15);\n",
              "        fill: #174EA6;\n",
              "      }\n",
              "\n",
              "      [theme=dark] .colab-df-generate {\n",
              "        background-color: #3B4455;\n",
              "        fill: #D2E3FC;\n",
              "      }\n",
              "\n",
              "      [theme=dark] .colab-df-generate:hover {\n",
              "        background-color: #434B5C;\n",
              "        box-shadow: 0px 1px 3px 1px rgba(0, 0, 0, 0.15);\n",
              "        filter: drop-shadow(0px 1px 2px rgba(0, 0, 0, 0.3));\n",
              "        fill: #FFFFFF;\n",
              "      }\n",
              "    </style>\n",
              "    <button class=\"colab-df-generate\" onclick=\"generateWithVariable('compare_results')\"\n",
              "            title=\"Generate code using this dataframe.\"\n",
              "            style=\"display:none;\">\n",
              "\n",
              "  <svg xmlns=\"http://www.w3.org/2000/svg\" height=\"24px\"viewBox=\"0 0 24 24\"\n",
              "       width=\"24px\">\n",
              "    <path d=\"M7,19H8.4L18.45,9,17,7.55,7,17.6ZM5,21V16.75L18.45,3.32a2,2,0,0,1,2.83,0l1.4,1.43a1.91,1.91,0,0,1,.58,1.4,1.91,1.91,0,0,1-.58,1.4L9.25,21ZM18.45,9,17,7.55Zm-12,3A5.31,5.31,0,0,0,4.9,8.1,5.31,5.31,0,0,0,1,6.5,5.31,5.31,0,0,0,4.9,4.9,5.31,5.31,0,0,0,6.5,1,5.31,5.31,0,0,0,8.1,4.9,5.31,5.31,0,0,0,12,6.5,5.46,5.46,0,0,0,6.5,12Z\"/>\n",
              "  </svg>\n",
              "    </button>\n",
              "    <script>\n",
              "      (() => {\n",
              "      const buttonEl =\n",
              "        document.querySelector('#id_97b1bcb5-d143-4d50-ae58-74ebb915c013 button.colab-df-generate');\n",
              "      buttonEl.style.display =\n",
              "        google.colab.kernel.accessAllowed ? 'block' : 'none';\n",
              "\n",
              "      buttonEl.onclick = () => {\n",
              "        google.colab.notebook.generateWithVariable('compare_results');\n",
              "      }\n",
              "      })();\n",
              "    </script>\n",
              "  </div>\n",
              "\n",
              "    </div>\n",
              "  </div>\n"
            ],
            "application/vnd.google.colaboratory.intrinsic+json": {
              "type": "dataframe",
              "variable_name": "compare_results",
              "summary": "{\n  \"name\": \"compare_results\",\n  \"rows\": 3,\n  \"fields\": [\n    {\n      \"column\": \"model_name\",\n      \"properties\": {\n        \"dtype\": \"string\",\n        \"num_unique_values\": 3,\n        \"samples\": [\n          \"FashionMNISTModelV0\",\n          \"FashionMNISTModelV1\",\n          \"FashionMNISTModelV2\"\n        ],\n        \"semantic_type\": \"\",\n        \"description\": \"\"\n      }\n    },\n    {\n      \"column\": \"model_loss\",\n      \"properties\": {\n        \"dtype\": \"number\",\n        \"std\": 1.088899671109937,\n        \"min\": 0.3323821425437927,\n        \"max\": 2.3020217418670654,\n        \"num_unique_values\": 3,\n        \"samples\": [\n          0.512529730796814,\n          2.3020217418670654,\n          0.3323821425437927\n        ],\n        \"semantic_type\": \"\",\n        \"description\": \"\"\n      }\n    },\n    {\n      \"column\": \"model_acc\",\n      \"properties\": {\n        \"dtype\": \"number\",\n        \"std\": 43.27484058905468,\n        \"min\": 10.77276357827476,\n        \"max\": 88.17891373801918,\n        \"num_unique_values\": 3,\n        \"samples\": [\n          83.00718849840256,\n          10.77276357827476,\n          88.17891373801918\n        ],\n        \"semantic_type\": \"\",\n        \"description\": \"\"\n      }\n    }\n  ]\n}"
            }
          },
          "metadata": {},
          "execution_count": 41
        }
      ]
    },
    {
      "cell_type": "code",
      "source": [
        "def make_predictions(model: torch.nn.Module,\n",
        "                    data: list,\n",
        "                    device: torch.device=None):\n",
        "  pred_probs=[]\n",
        "  model.eval()\n",
        "  with torch.inference_mode():\n",
        "    for sample in data:\n",
        "      sample=sample.unsqueeze(dim=0).to(device)\n",
        "      pred_logit=model(sample)\n",
        "      pred_prob=torch.softmax(pred_logit,dim=0)\n",
        "      pred_probs.append(pred_prob.cpu())\n",
        "  return torch.stack(pred_probs)"
      ],
      "metadata": {
        "id": "vGpuyLv3L9T9"
      },
      "execution_count": null,
      "outputs": []
    },
    {
      "cell_type": "code",
      "source": [
        "import random\n",
        "random.seed(42)\n",
        "test_samples=[]\n",
        "test_labels=[]\n",
        "for sample,label in random.sample(list(test_data),k=9):\n",
        "  test_samples.append(sample)\n",
        "  test_labels.append(label)\n",
        "test_samples[0].shape"
      ],
      "metadata": {
        "colab": {
          "base_uri": "https://localhost:8080/"
        },
        "id": "j5LbrbywNS67",
        "outputId": "d39ccba0-763f-48bc-c06b-8c0909398b95"
      },
      "execution_count": null,
      "outputs": [
        {
          "output_type": "execute_result",
          "data": {
            "text/plain": [
              "torch.Size([1, 28, 28])"
            ]
          },
          "metadata": {},
          "execution_count": 43
        }
      ]
    },
    {
      "cell_type": "markdown",
      "source": [],
      "metadata": {
        "id": "1AU4xfuAP3CG"
      }
    },
    {
      "cell_type": "code",
      "source": [
        "plt.imshow(test_samples[0].squeeze(),cmap=\"gray\")\n",
        "plt.title(class_name[test_labels[0]])"
      ],
      "metadata": {
        "colab": {
          "base_uri": "https://localhost:8080/",
          "height": 469
        },
        "id": "dHeKJdLaPpqv",
        "outputId": "8d7cb61c-f390-4420-c5e7-62180b495d7f"
      },
      "execution_count": null,
      "outputs": [
        {
          "output_type": "execute_result",
          "data": {
            "text/plain": [
              "Text(0.5, 1.0, 'Sandal')"
            ]
          },
          "metadata": {},
          "execution_count": 44
        },
        {
          "output_type": "display_data",
          "data": {
            "text/plain": [
              "<Figure size 640x480 with 1 Axes>"
            ],
            "image/png": "[encoded data removed]"
          },
          "metadata": {}
        }
      ]
    },
    {
      "cell_type": "code",
      "source": [
        "preds_probs=make_predictions(model=model_2,data=test_samples)\n",
        "preds_probs[:2]"
      ],
      "metadata": {
        "colab": {
          "base_uri": "https://localhost:8080/"
        },
        "id": "aJihFnX8P2sf",
        "outputId": "89be317d-ae35-4ac2-a60e-e7ed0e79aa65"
      },
      "execution_count": null,
      "outputs": [
        {
          "output_type": "execute_result",
          "data": {
            "text/plain": [
              "tensor([[[1., 1., 1., 1., 1., 1., 1., 1., 1., 1.]],\n",
              "\n",
              "        [[1., 1., 1., 1., 1., 1., 1., 1., 1., 1.]]])"
            ]
          },
          "metadata": {},
          "execution_count": 45
        }
      ]
    },
    {
      "cell_type": "code",
      "source": [
        "pred_classes=preds_probs.argmax(dim=1)\n",
        "pred_classes"
      ],
      "metadata": {
        "colab": {
          "base_uri": "https://localhost:8080/"
        },
        "id": "fW0hqUGHQNwH",
        "outputId": "73202841-935f-49ef-8787-9b38c4f90f96"
      },
      "execution_count": null,
      "outputs": [
        {
          "output_type": "execute_result",
          "data": {
            "text/plain": [
              "tensor([[0, 0, 0, 0, 0, 0, 0, 0, 0, 0],\n",
              "        [0, 0, 0, 0, 0, 0, 0, 0, 0, 0],\n",
              "        [0, 0, 0, 0, 0, 0, 0, 0, 0, 0],\n",
              "        [0, 0, 0, 0, 0, 0, 0, 0, 0, 0],\n",
              "        [0, 0, 0, 0, 0, 0, 0, 0, 0, 0],\n",
              "        [0, 0, 0, 0, 0, 0, 0, 0, 0, 0],\n",
              "        [0, 0, 0, 0, 0, 0, 0, 0, 0, 0],\n",
              "        [0, 0, 0, 0, 0, 0, 0, 0, 0, 0],\n",
              "        [0, 0, 0, 0, 0, 0, 0, 0, 0, 0]])"
            ]
          },
          "metadata": {},
          "execution_count": 46
        }
      ]
    },
    {
      "cell_type": "code",
      "source": [
        "plt.figure(figsize=(9,9))\n",
        "nrows=3\n",
        "ncols=3\n",
        "for i,sample in enumerate(test_samples):\n",
        "  plt.subplot(nrows,ncols,i+1)\n",
        "  plt.imshow(sample.squeeze(),cmap=\"gray\")\n",
        "  # Get the class with highest predicted probability\n",
        "  pred_label=class_name[pred_classes[i].argmax().item()] # Use argmax to get index of highest probability class\n",
        "  true_label=class_name[test_labels[i]]\n",
        "  title_text=f\"Pred:{pred_label} | True:{true_label}\"\n",
        "  if pred_label==true_label:\n",
        "    plt.title(title_text,color=\"green\")\n",
        "  else:\n",
        "    plt.title(title_text,color=\"red\")\n",
        "  plt.axis(False)"
      ],
      "metadata": {
        "colab": {
          "base_uri": "https://localhost:8080/",
          "height": 715
        },
        "id": "jtf9ebclQ22U",
        "outputId": "794c5ebb-be1a-479f-9acb-1088ad17e528"
      },
      "execution_count": null,
      "outputs": [
        {
          "output_type": "display_data",
          "data": {
            "text/plain": [
              "<Figure size 900x900 with 9 Axes>"
            ],
            "image/png": "[encoded data removed]"
          },
          "metadata": {}
        }
      ]
    },
    {
      "cell_type": "code",
      "source": [
        "from tqdm.auto import tqdm\n",
        "y_preds=[]\n",
        "model_2.eval()\n",
        "with torch.inference_mode():\n",
        "  for X,y in tqdm(test_dataloader):\n",
        "    y_logits=model_2(X)\n",
        "    y_pred=torch.softmax(y_logits.squeeze(),dim=0).argmax(dim=1)\n",
        "    y_preds.append(y_pred.cpu())\n",
        "\n",
        "print(y_preds)\n",
        "y_pred_tensor=torch.cat(y_preds)\n",
        "y_pred_tensor[:10]"
      ],
      "metadata": {
        "id": "Rcx7pCRcSVqL",
        "colab": {
          "base_uri": "https://localhost:8080/",
          "height": 1000,
          "referenced_widgets": [
            "d1120087ce904856b789673bb5101258",
            "96e7bedea80941d48e7fd6a0530ed649",
            "9e6f6e1491d34dbcaafff21e7d0d8ee6",
            "6957e44461c44d39a412170a894bf794",
            "02e23fa2f52a43879995e17bc960c8aa",
            "ae2234fe94f941659b103d4e25775aab",
            "a62c2609e5b64323b38e6ad0a1abaf97",
            "d8f540da30a84f93ab98f8f25f551130",
            "078a63a5d49d4ad9baecb67ad4c3995d",
            "f4fbec87751b46d6b36f047402bd9e54",
            "1465f174668a4ea092213a3f6f8dce6f"
          ]
        },
        "outputId": "7560b4b5-744a-480f-99bf-512c81e0d80d"
      },
      "execution_count": null,
      "outputs": [
        {
          "output_type": "display_data",
          "data": {
            "text/plain": [
              "  0%|          | 0/313 [00:00<?, ?it/s]"
            ],
            "application/vnd.jupyter.widget-view+json": {
              "version_major": 2,
              "version_minor": 0,
              "model_id": "d1120087ce904856b789673bb5101258"
            }
          },
          "metadata": {}
        },
        {
          "output_type": "stream",
          "name": "stdout",
          "text": [
            "[tensor([3, 4, 1, 6, 7, 3, 0, 1, 2, 9, 9, 7, 4, 6, 6, 0, 9, 7, 7, 3, 4, 5, 6, 6,\n",
            "        5, 2, 2, 8, 6, 0, 9, 7]), tensor([0, 1, 3, 5, 6, 5, 8, 9, 6, 2, 7, 7, 0, 2, 2, 2, 2, 0, 4, 3, 0, 7, 1, 3,\n",
            "        3, 3, 4, 4, 6, 8, 4, 1]), tensor([1, 9, 4, 9, 4, 6, 1, 8, 8, 5, 8, 8, 7, 0, 1, 8, 2, 5, 2, 5, 6, 7, 2, 9,\n",
            "        1, 4, 7, 7, 6, 5, 4, 3]), tensor([1, 1, 6, 0, 9, 4, 1, 1, 6, 2, 3, 2, 6, 7, 9, 0, 6, 2, 4, 7, 7, 2, 3, 1,\n",
            "        3, 9, 1, 7, 6, 8, 6, 5]), tensor([8, 8, 1, 3, 4, 2, 2, 3, 2, 2, 6, 8, 9, 6, 6, 4, 9, 7, 0, 4, 1, 6, 4, 3,\n",
            "        1, 8, 3, 4, 5, 8, 7, 5]), tensor([5, 3, 9, 7, 3, 6, 7, 8, 8, 3, 2, 1, 4, 4, 1, 5, 9, 4, 2, 2, 1, 3, 0, 9,\n",
            "        6, 1, 3, 0, 6, 6, 4, 5]), tensor([9, 2, 8, 4, 7, 2, 4, 7, 0, 9, 1, 1, 4, 6, 1, 9, 3, 3, 2, 7, 2, 1, 3, 8,\n",
            "        5, 0, 0, 7, 9, 2, 5, 3]), tensor([0, 0, 3, 6, 3, 8, 0, 6, 4, 7, 6, 5, 6, 6, 3, 1, 1, 1, 8, 3, 7, 7, 4, 2,\n",
            "        4, 1, 5, 8, 9, 5, 8, 3]), tensor([5, 4, 5, 3, 9, 1, 5, 7, 4, 5, 2, 4, 3, 4, 5, 3, 0, 7, 5, 6, 9, 0, 2, 9,\n",
            "        7, 6, 8, 9, 1, 2, 8, 9]), tensor([3, 2, 2, 9, 0, 8, 2, 5, 4, 3, 0, 5, 1, 7, 6, 6, 7, 6, 6, 8, 4, 3, 1, 9,\n",
            "        7, 8, 6, 5, 6, 6, 7, 0]), tensor([5, 5, 2, 1, 3, 4, 3, 4, 1, 6, 7, 6, 3, 8, 2, 7, 0, 6, 8, 0, 3, 0, 4, 3,\n",
            "        8, 9, 5, 3, 0, 1, 2, 6]), tensor([2, 6, 3, 5, 2, 4, 0, 1, 3, 8, 9, 1, 2, 3, 7, 3, 5, 6, 8, 2, 4, 1, 4, 4,\n",
            "        4, 8, 7, 5, 7, 3, 4, 1]), tensor([9, 9, 1, 5, 7, 8, 5, 4, 7, 2, 3, 9, 7, 6, 7, 6, 3, 6, 4, 1, 4, 5, 0, 5,\n",
            "        6, 5, 8, 3, 0, 8, 9, 6]), tensor([5, 7, 7, 8, 5, 2, 9, 8, 4, 6, 0, 3, 6, 7, 7, 8, 4, 3, 3, 1, 0, 4, 3, 3,\n",
            "        1, 4, 5, 2, 2, 6, 9, 3]), tensor([6, 7, 6, 0, 4, 3, 9, 5, 4, 4, 5, 4, 1, 8, 5, 7, 6, 7, 0, 5, 7, 9, 0, 7,\n",
            "        2, 7, 8, 4, 6, 2, 7, 1]), tensor([0, 8, 3, 4, 7, 4, 2, 0, 2, 4, 3, 3, 9, 8, 6, 9, 7, 0, 8, 2, 4, 5, 5, 9,\n",
            "        1, 5, 2, 6, 7, 7, 6, 7]), tensor([9, 4, 2, 8, 5, 7, 2, 9, 6, 3, 9, 0, 1, 4, 3, 5, 4, 0, 3, 9, 6, 7, 8, 9,\n",
            "        0, 5, 1, 2, 7, 7, 5, 0]), tensor([1, 0, 6, 8, 4, 5, 4, 5, 4, 2, 3, 7, 3, 4, 5, 0, 3, 1, 0, 1, 8, 1, 3, 9,\n",
            "        7, 7, 2, 6, 6, 3, 4, 0]), tensor([7, 9, 3, 1, 7, 9, 9, 8, 2, 6, 9, 6, 4, 4, 9, 0, 4, 8, 2, 6, 7, 1, 3, 5,\n",
            "        7, 7, 2, 3, 9, 2, 4, 2]), tensor([7, 5, 3, 1, 8, 4, 5, 6, 5, 4, 8, 4, 6, 7, 2, 4, 6, 0, 5, 9, 2, 4, 3, 0,\n",
            "        1, 1, 0, 7, 6, 8, 8, 9]), tensor([0, 1, 8, 7, 9, 5, 6, 7, 6, 0, 4, 7, 2, 6, 1, 3, 6, 0, 7, 2, 1, 0, 9, 3,\n",
            "        7, 8, 7, 4, 2, 0, 8, 3]), tensor([7, 0, 8, 8, 3, 0, 9, 1, 2, 6, 7, 4, 6, 7, 4, 5, 4, 2, 9, 4, 1, 2, 0, 4,\n",
            "        3, 6, 6, 8, 2, 5, 4, 8]), tensor([7, 6, 6, 5, 5, 7, 9, 2, 2, 8, 0, 8, 3, 3, 6, 4, 2, 1, 3, 1, 9, 7, 4, 6,\n",
            "        6, 7, 6, 3, 4, 0, 8, 9]), tensor([9, 4, 2, 3, 5, 1, 4, 4, 3, 5, 5, 6, 6, 9, 7, 9, 8, 6, 6, 8, 1, 6, 2, 2,\n",
            "        3, 8, 1, 0, 6, 5, 8, 3]), tensor([4, 7, 1, 7, 9, 1, 1, 6, 7, 8, 6, 9, 8, 3, 8, 3, 6, 3, 2, 8, 6, 2, 6, 3,\n",
            "        3, 8, 6, 5, 0, 2, 1, 8]), tensor([8, 2, 2, 3, 1, 7, 2, 1, 5, 0, 8, 7, 1, 1, 6, 9, 2, 3, 7, 8, 6, 6, 9, 2,\n",
            "        2, 5, 1, 4, 3, 7, 4, 5]), tensor([9, 1, 4, 6, 5, 8, 7, 6, 6, 7, 9, 3, 7, 4, 8, 6, 7, 5, 5, 7, 8, 8, 0, 2,\n",
            "        8, 4, 3, 1, 4, 9, 9, 0]), tensor([6, 7, 4, 1, 9, 1, 1, 3, 2, 8, 1, 1, 5, 3, 8, 0, 2, 3, 6, 4, 2, 4, 3, 8,\n",
            "        0, 3, 4, 8, 8, 8, 8, 8]), tensor([7, 6, 1, 5, 9, 7, 7, 9, 4, 6, 9, 4, 1, 7, 5, 8, 8, 2, 4, 6, 3, 3, 3, 7,\n",
            "        5, 3, 9, 0, 4, 7, 1, 2]), tensor([7, 4, 3, 6, 6, 8, 0, 2, 3, 1, 9, 1, 7, 9, 2, 2, 1, 7, 4, 6, 2, 3, 2, 3,\n",
            "        6, 3, 2, 3, 4, 4, 5, 6]), tensor([9, 1, 7, 3, 9, 1, 1, 0, 7, 3, 0, 7, 8, 8, 4, 9, 6, 3, 9, 6, 2, 5, 5, 6,\n",
            "        6, 1, 5, 0, 2, 3, 8, 0]), tensor([0, 2, 1, 7, 4, 4, 6, 9, 6, 4, 8, 8, 7, 1, 6, 2, 8, 1, 7, 7, 5, 9, 8, 2,\n",
            "        7, 0, 4, 5, 5, 0, 3, 2]), tensor([7, 8, 6, 7, 0, 9, 6, 0, 5, 1, 3, 8, 7, 1, 2, 5, 5, 5, 8, 3, 0, 5, 3, 6,\n",
            "        0, 8, 4, 8, 8, 4, 8, 7]), tensor([5, 7, 5, 6, 4, 6, 4, 3, 0, 0, 9, 7, 9, 0, 5, 4, 3, 1, 9, 7, 9, 9, 8, 8,\n",
            "        2, 8, 3, 7, 0, 4, 7, 3]), tensor([2, 4, 3, 8, 3, 1, 8, 4, 9, 6, 9, 4, 1, 7, 1, 5, 9, 8, 9, 8, 8, 5, 2, 7,\n",
            "        6, 4, 4, 8, 6, 0, 8, 7]), tensor([0, 1, 5, 6, 2, 7, 6, 7, 3, 2, 4, 0, 2, 8, 9, 4, 8, 1, 1, 7, 5, 9, 2, 7,\n",
            "        7, 7, 5, 3, 8, 6, 9, 6]), tensor([3, 7, 1, 7, 6, 9, 1, 8, 5, 3, 4, 0, 2, 6, 2, 5, 1, 0, 7, 4, 7, 6, 8, 6,\n",
            "        8, 3, 9, 2, 5, 2, 7, 9]), tensor([3, 5, 6, 8, 0, 6, 7, 6, 8, 6, 2, 8, 7, 8, 8, 3, 7, 2, 5, 5, 8, 8, 4, 9,\n",
            "        0, 7, 1, 8, 7, 8, 6, 1]), tensor([6, 1, 6, 7, 3, 4, 4, 4, 1, 5, 2, 6, 4, 2, 3, 5, 1, 4, 7, 6, 8, 5, 3, 6,\n",
            "        2, 6, 0, 2, 6, 4, 2, 9]), tensor([7, 6, 4, 0, 1, 4, 8, 8, 2, 6, 6, 9, 6, 0, 7, 5, 6, 5, 6, 2, 8, 9, 2, 4,\n",
            "        5, 0, 3, 6, 6, 2, 1, 3]), tensor([9, 8, 1, 6, 8, 3, 2, 6, 7, 6, 5, 6, 3, 4, 0, 8, 0, 6, 9, 3, 7, 4, 2, 3,\n",
            "        7, 4, 1, 3, 1, 2, 9, 2]), tensor([8, 3, 8, 0, 3, 2, 7, 4, 2, 4, 5, 5, 9, 5, 4, 9, 3, 6, 5, 2, 6, 7, 2, 3,\n",
            "        3, 9, 6, 1, 3, 1, 2, 0]), tensor([3, 6, 9, 7, 1, 3, 3, 6, 5, 2, 9, 7, 3, 0, 1, 6, 8, 6, 2, 2, 8, 6, 9, 7,\n",
            "        8, 3, 4, 9, 4, 7, 5, 8]), tensor([4, 6, 8, 0, 0, 3, 5, 3, 8, 1, 1, 7, 3, 1, 9, 3, 8, 9, 5, 9, 7, 9, 7, 4,\n",
            "        9, 4, 8, 2, 4, 4, 3, 7]), tensor([7, 1, 3, 1, 6, 5, 3, 3, 8, 5, 0, 2, 8, 0, 0, 0, 8, 4, 9, 8, 3, 1, 9, 9,\n",
            "        0, 4, 1, 4, 4, 4, 6, 2]), tensor([5, 3, 3, 3, 7, 1, 6, 6, 1, 9, 6, 9, 9, 2, 3, 8, 8, 0, 7, 7, 1, 3, 8, 2,\n",
            "        3, 2, 3, 2, 4, 7, 1, 4]), tensor([3, 8, 9, 5, 3, 1, 0, 3, 9, 7, 1, 1, 7, 5, 6, 3, 6, 4, 4, 9, 5, 8, 4, 1,\n",
            "        4, 0, 6, 2, 6, 2, 3, 0]), tensor([0, 2, 4, 3, 3, 6, 0, 4, 9, 9, 2, 8, 0, 5, 4, 2, 9, 1, 5, 4, 8, 2, 7, 1,\n",
            "        5, 6, 7, 5, 9, 3, 3, 2]), tensor([4, 7, 0, 9, 4, 3, 3, 6, 4, 5, 6, 5, 9, 2, 2, 7, 1, 6, 6, 6, 0, 6, 7, 9,\n",
            "        7, 4, 7, 8, 4, 2, 1, 9]), tensor([6, 6, 6, 8, 2, 3, 4, 8, 1, 4, 1, 6, 8, 5, 5, 3, 9, 9, 0, 5, 8, 7, 9, 8,\n",
            "        3, 4, 7, 7, 2, 6, 2, 5]), tensor([5, 0, 9, 6, 9, 7, 4, 9, 4, 3, 3, 1, 8, 5, 0, 5, 0, 6, 2, 7, 6, 6, 5, 6,\n",
            "        7, 0, 3, 4, 6, 3, 4, 3]), tensor([5, 2, 3, 3, 3, 7, 5, 1, 9, 1, 3, 7, 6, 5, 7, 3, 8, 6, 6, 2, 6, 9, 6, 7,\n",
            "        5, 6, 8, 4, 3, 0, 5, 2]), tensor([7, 1, 7, 1, 3, 6, 0, 4, 7, 3, 3, 6, 4, 6, 2, 4, 1, 2, 9, 5, 4, 2, 9, 7,\n",
            "        0, 4, 9, 4, 6, 8, 7, 1]), tensor([9, 3, 2, 9, 8, 1, 7, 6, 6, 9, 7, 4, 6, 3, 4, 1, 2, 0, 0, 7, 8, 3, 5, 3,\n",
            "        7, 4, 7, 8, 2, 1, 4, 3]), tensor([4, 8, 5, 5, 4, 2, 0, 6, 2, 3, 2, 4, 3, 7, 6, 1, 7, 2, 3, 2, 2, 0, 0, 0,\n",
            "        1, 5, 4, 9, 4, 1, 5, 6]), tensor([8, 2, 8, 4, 2, 9, 8, 1, 1, 6, 0, 0, 7, 6, 9, 2, 3, 1, 5, 4, 6, 9, 2, 9,\n",
            "        2, 7, 3, 7, 2, 3, 3, 9]), tensor([6, 4, 2, 3, 6, 8, 9, 9, 3, 1, 1, 5, 7, 7, 9, 2, 7, 4, 2, 6, 8, 0, 5, 1,\n",
            "        7, 4, 2, 4, 1, 3, 6, 2]), tensor([3, 6, 3, 5, 5, 7, 3, 7, 2, 4, 3, 1, 5, 9, 4, 7, 8, 9, 9, 6, 3, 9, 7, 0,\n",
            "        2, 9, 2, 8, 5, 2, 5, 7]), tensor([0, 7, 4, 2, 1, 3, 5, 2, 0, 1, 3, 5, 4, 5, 6, 3, 6, 1, 2, 7, 5, 9, 7, 0,\n",
            "        8, 0, 9, 7, 1, 4, 9, 8]), tensor([7, 3, 9, 9, 6, 6, 5, 0, 3, 2, 4, 2, 5, 2, 3, 2, 6, 3, 8, 4, 5, 3, 7, 6,\n",
            "        7, 3, 1, 0, 9, 5, 9, 5]), tensor([6, 3, 4, 4, 7, 0, 5, 1, 1, 9, 9, 5, 4, 4, 0, 4, 5, 7, 4, 7, 2, 3, 7, 8,\n",
            "        1, 0, 9, 6, 6, 5, 8, 4]), tensor([1, 4, 8, 4, 6, 0, 9, 9, 8, 5, 4, 8, 8, 1, 4, 6, 7, 6, 5, 2, 8, 1, 1, 3,\n",
            "        4, 9, 4, 5, 3, 5, 0, 6]), tensor([3, 7, 6, 5, 2, 7, 9, 2, 5, 6, 3, 0, 2, 1, 4, 0, 6, 3, 3, 6, 0, 3, 9, 0,\n",
            "        3, 4, 9, 2, 8, 9, 2, 9]), tensor([2, 2, 4, 7, 2, 5, 5, 7, 2, 6, 7, 3, 3, 1, 9, 5, 2, 0, 1, 7, 6, 8, 9, 3,\n",
            "        0, 0, 4, 4, 0, 1, 3, 2]), tensor([1, 0, 4, 3, 4, 5, 9, 1, 7, 1, 3, 4, 0, 2, 4, 6, 8, 3, 3, 0, 4, 4, 2, 7,\n",
            "        2, 9, 9, 1, 2, 7, 5, 3]), tensor([8, 2, 5, 8, 7, 9, 3, 1, 8, 0, 7, 1, 3, 9, 1, 3, 0, 6, 7, 0, 9, 6, 3, 9,\n",
            "        5, 3, 1, 6, 3, 7, 4, 6]), tensor([0, 1, 4, 8, 6, 2, 5, 4, 4, 4, 1, 7, 7, 5, 9, 8, 8, 2, 6, 7, 6, 3, 0, 1,\n",
            "        4, 1, 2, 6, 9, 3, 9, 9]), tensor([3, 5, 1, 5, 6, 5, 6, 2, 1, 0, 5, 3, 6, 3, 7, 5, 3, 0, 3, 0, 1, 8, 7, 9,\n",
            "        4, 2, 0, 2, 9, 1, 2, 8]), tensor([0, 3, 9, 3, 6, 6, 3, 0, 1, 5, 4, 6, 1, 1, 0, 5, 1, 6, 7, 3, 8, 3, 6, 3,\n",
            "        4, 2, 2, 7, 0, 9, 6, 9]), tensor([9, 4, 9, 3, 4, 9, 4, 5, 8, 9, 6, 1, 2, 3, 6, 1, 3, 2, 6, 8, 2, 3, 6, 0,\n",
            "        8, 9, 3, 9, 6, 7, 3, 0]), tensor([8, 2, 7, 8, 4, 8, 1, 8, 9, 5, 2, 1, 7, 4, 7, 7, 2, 6, 5, 9, 4, 6, 4, 2,\n",
            "        0, 7, 9, 3, 6, 7, 4, 5]), tensor([7, 6, 6, 3, 4, 8, 5, 3, 1, 8, 3, 1, 8, 1, 6, 4, 9, 6, 3, 2, 7, 2, 3, 6,\n",
            "        6, 2, 9, 1, 0, 1, 6, 0]), tensor([3, 8, 8, 0, 2, 8, 7, 6, 9, 3, 2, 4, 9, 9, 9, 1, 3, 0, 6, 1, 2, 3, 2, 6,\n",
            "        6, 6, 9, 3, 9, 3, 4, 5]), tensor([9, 1, 7, 6, 5, 3, 3, 5, 9, 7, 4, 6, 7, 7, 9, 6, 8, 3, 0, 4, 4, 0, 1, 3,\n",
            "        2, 2, 6, 0, 6, 5, 0, 8]), tensor([4, 1, 7, 6, 1, 8, 3, 5, 5, 5, 5, 4, 1, 2, 0, 9, 7, 0, 7, 6, 7, 1, 6, 3,\n",
            "        7, 9, 0, 2, 9, 3, 7, 8]), tensor([0, 8, 2, 8, 0, 2, 0, 4, 3, 6, 5, 1, 6, 1, 9, 0, 5, 4, 3, 7, 6, 4, 5, 9,\n",
            "        7, 4, 6, 3, 2, 1, 1, 9]), tensor([6, 3, 4, 9, 6, 1, 9, 9, 0, 3, 1, 7, 6, 4, 1, 5, 2, 7, 1, 6, 6, 4, 4, 6,\n",
            "        6, 7, 1, 2, 0, 7, 5, 8]), tensor([0, 2, 1, 2, 7, 9, 3, 7, 0, 3, 9, 5, 7, 0, 3, 1, 8, 5, 6, 8, 7, 2, 8, 8,\n",
            "        1, 4, 6, 9, 6, 9, 8, 9]), tensor([3, 2, 9, 6, 7, 1, 7, 4, 8, 5, 8, 9, 0, 9, 7, 7, 6, 0, 2, 4, 6, 6, 3, 8,\n",
            "        3, 8, 1, 7, 1, 5, 0, 6]), tensor([9, 3, 6, 4, 2, 5, 4, 0, 9, 9, 0, 7, 5, 7, 1, 2, 0, 6, 7, 8, 7, 9, 7, 8,\n",
            "        8, 1, 7, 0, 1, 3, 4, 6]), tensor([6, 7, 6, 0, 2, 3, 0, 3, 3, 4, 0, 0, 6, 6, 4, 5, 3, 7, 2, 6, 7, 7, 8, 4,\n",
            "        8, 1, 3, 4, 9, 3, 8, 8]), tensor([9, 6, 8, 6, 4, 1, 4, 5, 8, 0, 9, 1, 2, 7, 4, 6, 2, 5, 6, 6, 5, 4, 6, 6,\n",
            "        9, 3, 6, 5, 0, 1, 9, 9]), tensor([0, 6, 9, 9, 4, 2, 0, 4, 6, 3, 4, 1, 1, 8, 5, 4, 1, 7, 5, 4, 3, 9, 2, 9,\n",
            "        7, 6, 6, 7, 1, 6, 6, 6]), tensor([3, 5, 7, 3, 8, 0, 2, 7, 0, 4, 0, 3, 7, 9, 6, 0, 7, 7, 6, 9, 1, 4, 4, 3,\n",
            "        5, 9, 2, 3, 6, 2, 1, 6]), tensor([0, 3, 4, 4, 4, 0, 0, 2, 8, 6, 8, 6, 7, 9, 6, 7, 9, 6, 4, 3, 7, 6, 6, 5,\n",
            "        3, 3, 1, 9, 0, 4, 2, 5]), tensor([2, 7, 1, 5, 6, 6, 4, 5, 3, 1, 8, 2, 6, 9, 9, 0, 8, 3, 6, 0, 8, 7, 4, 3,\n",
            "        3, 6, 1, 8, 3, 8, 9, 3]), tensor([4, 6, 8, 4, 2, 7, 9, 2, 0, 0, 9, 5, 5, 7, 8, 8, 2, 3, 5, 4, 0, 5, 1, 3,\n",
            "        8, 2, 3, 0, 1, 4, 2, 7]), tensor([4, 3, 5, 8, 9, 4, 1, 9, 8, 2, 7, 7, 4, 0, 9, 7, 2, 9, 7, 8, 7, 3, 5, 0,\n",
            "        6, 0, 5, 0, 7, 5, 4, 6]), tensor([4, 2, 4, 8, 3, 6, 8, 9, 1, 6, 8, 1, 7, 9, 0, 7, 8, 5, 7, 0, 9, 7, 9, 2,\n",
            "        3, 2, 6, 7, 6, 6, 3, 1]), tensor([8, 3, 8, 6, 9, 7, 7, 6, 1, 9, 1, 0, 7, 5, 3, 4, 3, 4, 0, 4, 3, 5, 1, 8,\n",
            "        4, 2, 4, 4, 3, 0, 0, 0]), tensor([9, 9, 5, 7, 7, 3, 8, 2, 2, 9, 0, 5, 2, 4, 4, 1, 3, 6, 8, 9, 2, 7, 0, 7,\n",
            "        5, 1, 1, 2, 0, 3, 2, 0]), tensor([1, 3, 6, 7, 5, 3, 1, 0, 9, 8, 3, 4, 8, 5, 0, 3, 7, 3, 8, 7, 2, 2, 2, 4,\n",
            "        9, 2, 6, 7, 5, 5, 8, 6]), tensor([6, 7, 6, 6, 4, 7, 9, 5, 3, 5, 8, 8, 3, 2, 3, 0, 3, 3, 4, 1, 4, 6, 0, 6,\n",
            "        0, 7, 7, 1, 1, 4, 9, 0]), tensor([3, 4, 6, 5, 8, 3, 4, 9, 7, 8, 6, 3, 8, 4, 2, 6, 4, 4, 0, 0, 3, 5, 8, 0,\n",
            "        1, 6, 3, 1, 5, 6, 5, 4]), tensor([8, 3, 0, 6, 6, 3, 6, 9, 7, 0, 0, 7, 6, 2, 0, 3, 7, 0, 9, 5, 3, 6, 3, 1,\n",
            "        5, 2, 5, 8, 8, 4, 5, 3]), tensor([3, 3, 3, 1, 6, 3, 7, 6, 4, 7, 2, 7, 2, 6, 0, 9, 5, 0, 8, 4, 2, 9, 6, 3,\n",
            "        9, 7, 4, 5, 4, 2, 3, 3]), tensor([6, 7, 1, 9, 8, 7, 3, 0, 4, 5, 1, 3, 5, 1, 4, 2, 5, 5, 9, 7, 0, 2, 0, 1,\n",
            "        8, 5, 2, 2, 8, 2, 9, 6]), tensor([2, 7, 5, 5, 7, 3, 4, 7, 5, 0, 4, 7, 7, 8, 7, 8, 3, 6, 8, 3, 8, 7, 1, 7,\n",
            "        8, 1, 9, 2, 3, 7, 0, 9]), tensor([0, 6, 7, 3, 8, 6, 7, 3, 8, 6, 4, 4, 5, 5, 8, 3, 1, 7, 6, 9, 8, 6, 5, 5,\n",
            "        4, 2, 3, 1, 9, 0, 6, 9]), tensor([8, 1, 0, 0, 7, 8, 4, 3, 3, 9, 5, 0, 3, 2, 6, 8, 4, 8, 3, 2, 3, 7, 0, 9,\n",
            "        1, 0, 7, 2, 8, 5, 4, 9]), tensor([8, 3, 4, 1, 4, 9, 2, 8, 6, 0, 1, 2, 8, 0, 5, 6, 8, 0, 1, 7, 6, 1, 7, 4,\n",
            "        5, 8, 9, 7, 4, 9, 1, 9]), tensor([7, 4, 9, 0, 9, 7, 0, 8, 1, 4, 1, 6, 7, 1, 9, 9, 4, 5, 5, 2, 2, 5, 3, 0,\n",
            "        8, 8, 5, 7, 6, 4, 9, 5]), tensor([2, 0, 9, 0, 0, 2, 3, 1, 4, 3, 6, 7, 2, 8, 9, 3, 6, 3, 7, 7, 9, 7, 5, 8,\n",
            "        5, 9, 0, 1, 5, 8, 3, 5]), tensor([7, 7, 9, 2, 9, 8, 8, 0, 9, 4, 0, 8, 7, 3, 7, 4, 2, 1, 0, 3, 4, 1, 5, 6,\n",
            "        1, 2, 4, 3, 6, 5, 9, 4]), tensor([9, 0, 5, 2, 9, 6, 2, 2, 2, 6, 7, 9, 3, 6, 9, 3, 8, 0, 6, 2, 7, 4, 7, 4,\n",
            "        5, 1, 3, 9, 0, 3, 2, 4]), tensor([1, 8, 9, 1, 5, 2, 7, 9, 2, 3, 4, 0, 7, 2, 4, 7, 1, 7, 7, 8, 8, 6, 4, 0,\n",
            "        8, 2, 6, 6, 0, 1, 3, 1]), tensor([0, 4, 7, 5, 7, 6, 7, 0, 6, 1, 2, 7, 9, 4, 2, 3, 9, 7, 3, 8, 5, 8, 0, 0,\n",
            "        6, 5, 9, 3, 7, 0, 1, 4]), tensor([1, 3, 2, 3, 7, 6, 6, 0, 1, 8, 7, 1, 8, 8, 4, 8, 2, 6, 5, 1, 7, 5, 0, 1,\n",
            "        9, 6, 9, 3, 5, 8, 9, 3]), tensor([1, 3, 5, 6, 0, 1, 2, 8, 0, 6, 3, 4, 3, 6, 2, 7, 0, 3, 9, 4, 3, 6, 2, 7,\n",
            "        8, 8, 4, 7, 1, 3, 0, 6]), tensor([1, 9, 9, 3, 8, 6, 3, 4, 2, 9, 2, 3, 2, 5, 6, 0, 6, 7, 3, 6, 5, 4, 1, 8,\n",
            "        6, 7, 1, 6, 8, 6, 4, 0]), tensor([9, 3, 2, 6, 0, 9, 9, 5, 2, 2, 4, 9, 9, 0, 0, 7, 4, 6, 4, 7, 1, 0, 7, 9,\n",
            "        9, 8, 2, 8, 2, 6, 7, 5]), tensor([3, 8, 0, 7, 5, 9, 8, 3, 7, 9, 7, 1, 3, 4, 0, 5, 0, 3, 7, 9, 0, 1, 2, 0,\n",
            "        5, 5, 1, 5, 3, 4, 6, 7]), tensor([3, 6, 1, 8, 4, 7, 8, 3, 7, 7, 0, 5, 2, 4, 5, 9, 0, 6, 4, 8, 1, 3, 0, 1,\n",
            "        7, 9, 5, 5, 3, 3, 4, 3]), tensor([7, 8, 2, 0, 9, 1, 7, 3, 4, 7, 8, 4, 6, 6, 2, 9, 5, 2, 6, 8, 8, 7, 6, 3,\n",
            "        1, 2, 3, 0, 6, 2, 9, 1]), tensor([2, 1, 7, 1, 7, 9, 6, 1, 5, 0, 8, 7, 5, 2, 4, 4, 1, 1, 4, 9, 9, 4, 5, 1,\n",
            "        9, 0, 5, 7, 3, 6, 3, 8]), tensor([2, 8, 1, 5, 4, 8, 1, 6, 3, 6, 9, 6, 3, 4, 7, 2, 0, 0, 0, 6, 6, 7, 1, 1,\n",
            "        9, 7, 6, 3, 4, 1, 5, 7]), tensor([8, 3, 2, 3, 7, 3, 3, 0, 6, 1, 9, 0, 5, 2, 2, 0, 3, 1, 7, 4, 3, 9, 5, 7,\n",
            "        8, 9, 4, 9, 6, 9, 7, 1]), tensor([4, 4, 9, 5, 0, 9, 9, 1, 9, 5, 9, 7, 5, 1, 8, 1, 0, 7, 1, 7, 2, 7, 0, 8,\n",
            "        5, 9, 8, 7, 3, 2, 4, 3]), tensor([7, 6, 2, 4, 8, 2, 2, 9, 7, 6, 7, 7, 6, 9, 7, 5, 4, 9, 3, 7, 8, 3, 2, 6,\n",
            "        0, 1, 7, 0, 8, 9, 7, 9]), tensor([0, 5, 1, 3, 6, 2, 2, 9, 2, 4, 6, 6, 1, 4, 1, 6, 9, 7, 7, 4, 6, 1, 7, 4,\n",
            "        1, 9, 8, 7, 3, 1, 3, 8]), tensor([6, 6, 1, 8, 2, 3, 9, 6, 8, 9, 4, 7, 2, 8, 3, 7, 7, 2, 3, 8, 0, 4, 3, 3,\n",
            "        0, 5, 6, 0, 9, 5, 1, 3]), tensor([8, 7, 9, 7, 0, 9, 1, 4, 2, 6, 1, 7, 0, 5, 6, 6, 8, 3, 5, 7, 9, 7, 7, 8,\n",
            "        9, 3, 0, 1, 4, 4, 9, 1]), tensor([4, 9, 9, 8, 6, 5, 6, 0, 6, 8, 6, 4, 9, 6, 3, 3, 9, 9, 4, 3, 2, 3, 6, 1,\n",
            "        5, 4, 6, 9, 2, 7, 7, 1]), tensor([5, 2, 6, 8, 5, 2, 0, 9, 3, 4, 8, 5, 5, 1, 1, 7, 7, 6, 8, 6, 9, 8, 3, 9,\n",
            "        3, 7, 2, 6, 1, 9, 7, 6]), tensor([6, 6, 6, 6, 3, 8, 7, 7, 0, 7, 5, 3, 3, 6, 5, 2, 9, 8, 8, 2, 4, 8, 7, 5,\n",
            "        7, 1, 2, 6, 1, 7, 5, 5]), tensor([5, 6, 9, 1, 5, 1, 9, 3, 9, 3, 0, 5, 3, 8, 2, 1, 5, 3, 1, 4, 2, 8, 7, 5,\n",
            "        4, 5, 5, 4, 9, 0, 4, 4]), tensor([1, 4, 5, 0, 9, 7, 4, 5, 8, 3, 9, 5, 4, 3, 9, 5, 4, 8, 6, 0, 9, 9, 9, 5,\n",
            "        6, 6, 9, 8, 7, 3, 2, 6]), tensor([5, 7, 7, 4, 2, 6, 0, 6, 8, 1, 5, 7, 6, 9, 8, 9, 3, 4, 6, 4, 6, 6, 5, 3,\n",
            "        0, 8, 9, 1, 6, 5, 1, 5]), tensor([5, 0, 2, 8, 1, 4, 2, 4, 9, 1, 5, 3, 2, 1, 4, 3, 9, 8, 8, 7, 8, 5, 4, 6,\n",
            "        5, 1, 6, 0, 5, 5, 7, 8]), tensor([3, 1, 8, 7, 0, 8, 0, 2, 4, 8, 2, 4, 7, 6, 6, 3, 7, 3, 0, 7, 7, 9, 6, 6,\n",
            "        8, 4, 5, 2, 5, 5, 1, 8]), tensor([5, 6, 8, 2, 2, 8, 4, 7, 7, 3, 0, 1, 2, 7, 5, 4, 3, 1, 6, 9, 3, 0, 0, 6,\n",
            "        0, 4, 7, 2, 9, 4, 9, 2]), tensor([0, 4, 3, 6, 3, 4, 9, 4, 8, 3, 9, 7, 0, 6, 6, 4, 5, 1, 9, 9, 7, 6, 6, 0,\n",
            "        2, 2, 5, 7, 5, 3, 2, 8]), tensor([3, 0, 0, 2, 8, 1, 4, 7, 8, 6, 3, 8, 7, 3, 9, 9, 7, 1, 5, 6, 6, 6, 1, 4,\n",
            "        2, 2, 9, 5, 7, 4, 6, 8]), tensor([5, 0, 6, 9, 5, 2, 1, 1, 1, 8, 7, 9, 7, 4, 1, 3, 3, 8, 0, 6, 4, 5, 1, 9,\n",
            "        1, 1, 2, 3, 7, 8, 0, 7]), tensor([4, 0, 5, 1, 9, 6, 3, 7, 1, 8, 2, 3, 0, 6, 1, 9, 3, 7, 9, 7, 9, 9, 9, 2,\n",
            "        9, 4, 1, 9, 2, 2, 3, 5]), tensor([3, 6, 2, 4, 2, 4, 4, 5, 9, 3, 6, 7, 4, 9, 5, 0, 2, 4, 8, 2, 1, 8, 9, 4,\n",
            "        3, 7, 8, 9, 5, 7, 9, 5]), tensor([8, 0, 3, 6, 9, 0, 8, 9, 9, 7, 4, 4, 3, 6, 2, 1, 8, 3, 4, 4, 7, 5, 5, 8,\n",
            "        3, 6, 7, 1, 6, 6, 2, 3]), tensor([3, 4, 9, 4, 8, 4, 1, 8, 7, 9, 2, 2, 6, 7, 4, 7, 9, 8, 3, 3, 0, 6, 6, 2,\n",
            "        0, 8, 4, 4, 9, 9, 5, 8]), tensor([8, 1, 1, 3, 6, 9, 6, 4, 2, 9, 4, 8, 4, 4, 7, 4, 4, 7, 6, 0, 3, 3, 6, 2,\n",
            "        9, 4, 8, 8, 4, 8, 5, 9]), tensor([6, 6, 1, 3, 7, 8, 3, 9, 1, 4, 9, 8, 1, 9, 7, 0, 2, 0, 2, 9, 9, 4, 7, 3,\n",
            "        5, 4, 4, 9, 8, 9, 3, 4]), tensor([5, 9, 7, 1, 0, 1, 2, 3, 8, 2, 0, 8, 4, 4, 8, 3, 8, 7, 3, 3, 2, 9, 2, 4,\n",
            "        2, 5, 3, 9, 9, 8, 9, 6]), tensor([7, 5, 3, 8, 8, 6, 0, 7, 1, 8, 5, 2, 9, 0, 4, 4, 3, 1, 5, 1, 3, 5, 1, 4,\n",
            "        3, 4, 2, 0, 5, 5, 3, 7]), tensor([9, 6, 2, 3, 7, 9, 8, 0, 7, 4, 6, 0, 6, 1, 4, 4, 2, 6, 0, 4, 0, 0, 2, 4,\n",
            "        3, 9, 9, 8, 7, 9, 3, 5]), tensor([6, 4, 3, 7, 7, 4, 1, 2, 6, 4, 2, 1, 2, 4, 0, 0, 5, 3, 6, 6, 2, 5, 8, 8,\n",
            "        2, 3, 9, 6, 3, 1, 3, 8]), tensor([8, 6, 7, 4, 4, 5, 3, 5, 0, 3, 6, 4, 1, 9, 3, 9, 6, 6, 7, 4, 2, 6, 3, 9,\n",
            "        2, 6, 0, 3, 7, 5, 9, 7]), tensor([6, 8, 0, 7, 7, 0, 6, 9, 7, 1, 8, 0, 9, 2, 3, 7, 4, 3, 2, 3, 2, 1, 4, 5,\n",
            "        3, 7, 1, 8, 5, 7, 9, 7]), tensor([6, 6, 5, 8, 0, 8, 5, 8, 9, 2, 7, 3, 0, 1, 9, 7, 8, 7, 0, 4, 2, 0, 3, 2,\n",
            "        8, 6, 2, 5, 7, 3, 9, 4]), tensor([1, 3, 6, 9, 3, 2, 3, 5, 8, 0, 0, 6, 4, 6, 1, 8, 3, 8, 9, 2, 7, 7, 2, 6,\n",
            "        2, 3, 3, 4, 6, 9, 5, 7]), tensor([6, 7, 7, 6, 3, 0, 5, 8, 6, 9, 5, 3, 1, 1, 2, 7, 6, 6, 1, 3, 9, 3, 9, 0,\n",
            "        7, 8, 2, 6, 0, 8, 6, 4]), tensor([4, 1, 5, 6, 9, 9, 7, 4, 8, 2, 8, 5, 2, 7, 2, 4, 4, 8, 6, 4, 9, 0, 4, 9,\n",
            "        3, 1, 2, 1, 0, 8, 2, 3]), tensor([1, 1, 2, 6, 6, 8, 2, 4, 6, 6, 5, 6, 9, 5, 6, 9, 1, 7, 7, 3, 7, 4, 3, 1,\n",
            "        2, 6, 5, 8, 6, 0, 5, 2]), tensor([8, 4, 2, 2, 0, 4, 1, 0, 7, 0, 7, 0, 3, 0, 8, 7, 6, 9, 7, 3, 6, 6, 5, 2,\n",
            "        3, 1, 4, 7, 3, 0, 3, 2]), tensor([6, 7, 3, 6, 9, 2, 1, 2, 3, 1, 8, 9, 3, 3, 4, 2, 0, 3, 4, 1, 9, 8, 6, 5,\n",
            "        2, 6, 1, 9, 9, 8, 1, 9]), tensor([2, 8, 4, 7, 1, 6, 9, 3, 9, 1, 0, 4, 5, 1, 2, 0, 5, 3, 0, 5, 0, 9, 6, 6,\n",
            "        2, 0, 0, 5, 0, 7, 6, 3]), tensor([6, 3, 3, 6, 4, 0, 6, 6, 0, 1, 8, 4, 8, 0, 2, 6, 4, 0, 7, 5, 9, 3, 7, 3,\n",
            "        4, 2, 3, 6, 6, 5, 3, 7]), tensor([5, 4, 1, 0, 1, 4, 5, 2, 4, 3, 3, 9, 6, 1, 9, 5, 9, 2, 9, 9, 7, 6, 6, 8,\n",
            "        9, 0, 2, 5, 2, 2, 6, 7]), tensor([8, 9, 8, 4, 0, 9, 8, 7, 5, 3, 6, 4, 8, 6, 6, 6, 6, 7, 2, 1, 9, 1, 1, 2,\n",
            "        9, 7, 4, 3, 4, 3, 5, 2]), tensor([9, 7, 9, 0, 6, 3, 4, 1, 8, 3, 6, 5, 3, 7, 1, 3, 3, 9, 7, 3, 1, 8, 9, 2,\n",
            "        2, 3, 6, 9, 8, 6, 9, 8]), tensor([6, 3, 9, 3, 0, 6, 7, 8, 3, 6, 1, 3, 1, 1, 5, 0, 8, 3, 7, 8, 5, 2, 4, 6,\n",
            "        6, 1, 1, 1, 1, 6, 4, 1]), tensor([8, 3, 9, 9, 0, 1, 5, 7, 8, 4, 5, 2, 4, 6, 3, 2, 6, 2, 2, 0, 3, 3, 3, 7,\n",
            "        3, 0, 6, 4, 4, 3, 6, 5]), tensor([6, 2, 6, 3, 0, 8, 8, 4, 8, 2, 3, 1, 0, 2, 9, 7, 4, 6, 3, 1, 1, 3, 7, 4,\n",
            "        2, 6, 9, 3, 9, 5, 4, 7]), tensor([3, 6, 7, 4, 7, 2, 9, 2, 1, 8, 3, 4, 8, 9, 0, 0, 6, 7, 4, 4, 2, 7, 6, 3,\n",
            "        3, 0, 1, 8, 3, 5, 1, 4]), tensor([6, 0, 6, 8, 1, 4, 3, 2, 7, 7, 4, 3, 4, 6, 7, 2, 8, 2, 4, 8, 9, 5, 6, 2,\n",
            "        2, 6, 5, 8, 2, 2, 0, 3]), tensor([6, 6, 5, 8, 4, 5, 6, 8, 3, 6, 8, 7, 6, 1, 0, 6, 1, 9, 7, 4, 3, 4, 8, 0,\n",
            "        9, 4, 2, 8, 3, 6, 1, 4]), tensor([3, 0, 6, 1, 7, 3, 5, 6, 6, 7, 5, 9, 0, 6, 4, 5, 7, 6, 3, 1, 3, 1, 8, 4,\n",
            "        3, 6, 3, 0, 2, 0, 6, 6]), tensor([5, 1, 7, 3, 0, 1, 7, 6, 5, 9, 1, 6, 7, 3, 7, 8, 9, 5, 4, 6, 0, 4, 3, 7,\n",
            "        0, 5, 2, 6, 8, 2, 6, 6]), tensor([0, 6, 4, 0, 7, 2, 3, 1, 7, 3, 7, 6, 1, 6, 7, 3, 3, 8, 2, 7, 5, 1, 0, 6,\n",
            "        9, 9, 2, 5, 3, 1, 6, 2]), tensor([3, 4, 2, 9, 3, 7, 5, 7, 6, 8, 0, 1, 2, 4, 1, 9, 7, 8, 1, 7, 7, 9, 5, 3,\n",
            "        5, 4, 3, 4, 7, 4, 7, 6]), tensor([3, 6, 4, 7, 7, 0, 1, 0, 8, 2, 6, 4, 2, 9, 3, 4, 3, 0, 1, 9, 4, 8, 3, 8,\n",
            "        4, 6, 8, 6, 2, 1, 5, 2]), tensor([0, 4, 7, 7, 9, 2, 8, 3, 6, 3, 6, 8, 1, 0, 4, 5, 3, 5, 3, 4, 1, 7, 8, 1,\n",
            "        8, 3, 4, 7, 2, 1, 6, 0]), tensor([9, 6, 5, 9, 4, 0, 2, 0, 1, 2, 7, 2, 1, 7, 5, 5, 7, 6, 4, 9, 7, 8, 7, 3,\n",
            "        4, 9, 9, 5, 1, 1, 6, 2]), tensor([4, 9, 8, 5, 9, 9, 5, 9, 5, 8, 6, 2, 0, 7, 7, 8, 8, 5, 2, 1, 7, 3, 4, 3,\n",
            "        7, 3, 8, 7, 3, 6, 2, 2]), tensor([5, 2, 7, 1, 5, 2, 8, 6, 6, 5, 5, 9, 2, 6, 4, 5, 3, 8, 9, 0, 5, 9, 0, 6,\n",
            "        6, 3, 2, 6, 4, 4, 3, 6]), tensor([3, 6, 9, 8, 6, 1, 0, 0, 5, 8, 8, 9, 1, 1, 3, 7, 4, 0, 2, 7, 7, 3, 4, 3,\n",
            "        5, 3, 5, 4, 2, 3, 1, 1]), tensor([8, 4, 6, 4, 6, 8, 1, 0, 1, 0, 9, 3, 7, 7, 8, 0, 6, 6, 3, 8, 0, 9, 7, 4,\n",
            "        8, 4, 6, 3, 5, 9, 2, 4]), tensor([5, 7, 9, 2, 7, 6, 6, 5, 2, 3, 4, 6, 6, 2, 3, 7, 6, 8, 0, 0, 9, 6, 1, 9,\n",
            "        7, 9, 8, 3, 4, 0, 2, 6]), tensor([5, 3, 3, 5, 6, 3, 9, 3, 6, 8, 9, 7, 4, 9, 8, 2, 4, 0, 4, 5, 5, 5, 1, 1,\n",
            "        8, 1, 2, 1, 7, 3, 5, 7]), tensor([3, 0, 3, 6, 6, 5, 1, 2, 0, 3, 7, 1, 2, 6, 6, 2, 9, 2, 4, 8, 2, 9, 3, 1,\n",
            "        7, 9, 5, 4, 3, 5, 1, 8]), tensor([7, 0, 3, 1, 8, 1, 0, 8, 7, 6, 4, 6, 6, 2, 6, 4, 0, 3, 1, 1, 9, 0, 7, 8,\n",
            "        0, 4, 5, 7, 3, 2, 1, 8]), tensor([4, 9, 1, 6, 7, 1, 6, 2, 1, 4, 1, 8, 4, 8, 1, 4, 5, 0, 0, 6, 2, 2, 6, 4,\n",
            "        3, 5, 6, 3, 7, 9, 1, 5]), tensor([7, 3, 2, 4, 6, 8, 0, 7, 8, 3, 3, 5, 8, 0, 1, 2, 6, 1, 0, 1, 4, 1, 4, 5,\n",
            "        2, 9, 6, 9, 6, 2, 9, 8]), tensor([0, 0, 3, 9, 2, 5, 6, 5, 7, 8, 8, 7, 1, 4, 6, 7, 4, 3, 0, 1, 5, 9, 8, 0,\n",
            "        2, 6, 1, 7, 4, 2, 9, 3]), tensor([6, 0, 6, 9, 4, 5, 3, 3, 8, 4, 7, 8, 4, 9, 1, 8, 8, 2, 0, 8, 0, 3, 2, 1,\n",
            "        2, 5, 6, 2, 9, 7, 1, 2]), tensor([1, 7, 9, 2, 8, 7, 5, 6, 6, 3, 4, 9, 0, 5, 7, 2, 7, 4, 0, 3, 1, 6, 7, 6,\n",
            "        2, 0, 4, 4, 9, 3, 2, 2]), tensor([7, 8, 7, 7, 7, 0, 1, 2, 4, 3, 8, 4, 9, 8, 9, 5, 1, 1, 2, 0, 7, 7, 9, 2,\n",
            "        4, 5, 9, 7, 3, 2, 6, 8]), tensor([5, 4, 7, 4, 1, 9, 9, 2, 5, 5, 6, 0, 3, 7, 0, 0, 3, 6, 9, 5, 7, 6, 2, 6,\n",
            "        4, 1, 9, 1, 8, 0, 7, 8]), tensor([3, 3, 0, 9, 6, 1, 6, 7, 1, 9, 9, 9, 7, 4, 6, 8, 4, 2, 7, 2, 3, 2, 6, 0,\n",
            "        6, 9, 8, 5, 0, 3, 5, 9]), tensor([8, 5, 7, 8, 2, 5, 6, 4, 0, 3, 4, 8, 0, 8, 2, 6, 3, 2, 0, 9, 6, 8, 3, 1,\n",
            "        6, 6, 6, 6, 0, 4, 4, 2]), tensor([4, 8, 8, 6, 6, 1, 6, 3, 6, 0, 3, 8, 3, 7, 2, 9, 8, 5, 9, 4, 6, 7, 2, 8,\n",
            "        9, 6, 8, 4, 6, 9, 2, 1]), tensor([1, 6, 3, 9, 7, 7, 9, 7, 1, 2, 4, 2, 1, 5, 5, 0, 0, 2, 8, 2, 7, 4, 1, 8,\n",
            "        7, 7, 3, 6, 0, 5, 8, 8]), tensor([6, 0, 8, 2, 0, 1, 6, 9, 1, 5, 4, 2, 2, 5, 8, 2, 8, 2, 3, 0, 4, 4, 7, 3,\n",
            "        9, 8, 0, 3, 6, 4, 0, 2]), tensor([9, 8, 5, 6, 9, 8, 6, 7, 1, 1, 4, 3, 0, 5, 6, 3, 7, 6, 1, 0, 7, 7, 2, 2,\n",
            "        0, 6, 0, 3, 3, 5, 5, 4]), tensor([9, 0, 9, 6, 6, 1, 5, 8, 5, 9, 3, 3, 3, 5, 3, 7, 1, 3, 6, 4, 0, 2, 4, 7,\n",
            "        5, 7, 2, 7, 3, 7, 3, 7]), tensor([5, 4, 4, 0, 7, 7, 3, 2, 7, 6, 6, 1, 1, 4, 2, 9, 0, 6, 9, 6, 5, 1, 7, 3,\n",
            "        9, 4, 4, 5, 9, 8, 1, 2]), tensor([7, 1, 8, 6, 1, 1, 4, 5, 9, 6, 5, 6, 7, 9, 1, 0, 8, 3, 1, 2, 4, 6, 2, 8,\n",
            "        4, 6, 6, 9, 2, 6, 0, 1]), tensor([4, 6, 7, 5, 9, 2, 6, 7, 7, 9, 8, 0, 7, 4, 3, 1, 1, 5, 3, 3, 5, 2, 5, 5,\n",
            "        5, 4, 0, 9, 8, 1, 8, 6]), tensor([4, 1, 0, 3, 4, 6, 3, 9, 3, 9, 7, 6, 8, 7, 4, 2, 9, 4, 3, 5, 9, 0, 9, 7,\n",
            "        7, 9, 1, 0, 2, 2, 2, 6]), tensor([7, 7, 7, 5, 5, 3, 7, 5, 1, 8, 2, 3, 4, 4, 4, 4, 3, 7, 5, 8, 6, 2, 0, 3,\n",
            "        3, 7, 2, 9, 6, 4, 2, 8]), tensor([5, 3, 9, 4, 3, 8, 2, 6, 3, 1, 8, 6, 4, 6, 0, 6, 8, 4, 4, 4, 6, 8, 7, 5,\n",
            "        5, 0, 4, 0, 7, 2, 4, 2]), tensor([7, 9, 6, 8, 8, 3, 8, 3, 3, 9, 6, 8, 7, 4, 7, 7, 5, 0, 2, 2, 2, 6, 8, 9,\n",
            "        7, 3, 6, 4, 2, 0, 9, 1]), tensor([2, 3, 7, 6, 7, 3, 8, 6, 5, 9, 7, 8, 7, 8, 7, 4, 3, 8, 3, 6, 4, 0, 5, 5,\n",
            "        2, 2, 2, 7, 0, 1, 0, 7]), tensor([6, 4, 4, 1, 1, 1, 4, 6, 3, 6, 5, 7, 0, 2, 1, 3, 7, 8, 0, 8, 6, 7, 1, 7,\n",
            "        2, 0, 2, 4, 0, 5, 4, 9]), tensor([8, 1, 6, 1, 3, 9, 6, 5, 1, 3, 2, 0, 7, 4, 0, 9, 3, 8, 6, 5, 4, 3, 3, 4,\n",
            "        7, 8, 2, 8, 2, 8, 8, 2]), tensor([1, 8, 0, 9, 4, 7, 4, 8, 6, 8, 2, 8, 4, 3, 9, 4, 7, 0, 4, 3, 7, 2, 5, 9,\n",
            "        3, 1, 6, 6, 4, 6, 3, 6]), tensor([2, 6, 4, 1, 6, 4, 8, 6, 9, 7, 3, 4, 9, 2, 8, 5, 3, 1, 6, 3, 9, 7, 1, 6,\n",
            "        1, 8, 3, 3, 1, 7, 7, 0]), tensor([6, 2, 4, 4, 2, 3, 0, 5, 2, 9, 6, 4, 5, 9, 8, 7, 8, 6, 0, 2, 1, 1, 1, 5,\n",
            "        0, 7, 0, 3, 9, 9, 7, 0]), tensor([4, 7, 5, 6, 5, 6, 4, 3, 8, 1, 2, 2, 2, 4, 6, 6, 2, 8, 6, 2, 6, 7, 6, 6,\n",
            "        6, 5, 9, 5, 8, 9, 0, 2]), tensor([8, 3, 9, 7, 8, 0, 1, 5, 2, 3, 7, 9, 4, 1, 0, 4, 8, 2, 8, 8, 6, 9, 9, 1,\n",
            "        7, 7, 9, 0, 8, 2, 2, 7]), tensor([2, 7, 4, 2, 1, 3, 7, 6, 7, 6, 7, 6, 9, 8, 4, 4, 2, 1, 3, 3, 8, 8, 5, 6,\n",
            "        1, 9, 0, 7, 6, 5, 7, 9]), tensor([7, 3, 2, 9, 6, 9, 7, 7, 9, 7, 4, 4, 3, 5, 5, 3, 8, 6, 8, 7, 4, 0, 6, 7,\n",
            "        9, 7, 6, 7, 3, 1, 9, 4]), tensor([6, 0, 7, 2, 6, 7, 3, 3, 6, 7, 3, 8, 9, 7, 5, 9, 7, 1, 3, 3, 4, 7, 5, 7,\n",
            "        8, 6, 7, 6, 4, 1, 8, 7]), tensor([1, 7, 4, 0, 3, 8, 8, 6, 5, 9, 3, 8, 3, 4, 2, 0, 4, 4, 2, 4, 5, 1, 0, 0,\n",
            "        6, 1, 4, 6, 3, 0, 4, 3]), tensor([3, 4, 7, 1, 8, 9, 8, 0, 4, 9, 6, 3, 7, 2, 2, 2, 6, 3, 0, 6, 2, 6, 5, 5,\n",
            "        8, 9, 2, 2, 4, 2, 8, 2]), tensor([7, 0, 1, 8, 2, 5, 7, 5, 7, 6, 9, 4, 9, 8, 6, 0, 3, 1, 3, 8, 9, 2, 5, 0,\n",
            "        4, 8, 5, 2, 9, 3, 4, 7]), tensor([4, 3, 7, 7, 6, 9, 4, 0, 7, 8, 4, 4, 6, 6, 6, 4, 8, 2, 0, 6, 0, 5, 1, 9,\n",
            "        7, 0, 5, 8, 2, 7, 3, 6]), tensor([0, 4, 4, 3, 6, 5, 6, 6, 9, 0, 7, 1, 6, 3, 6, 6, 8, 9, 3, 2, 7, 8, 4, 3,\n",
            "        3, 6, 5, 2, 2, 5, 7, 6]), tensor([1, 8, 6, 1, 5, 6, 4, 1, 9, 7, 9, 9, 0, 3, 6, 3, 2, 9, 1, 6, 6, 3, 7, 2,\n",
            "        4, 0, 7, 7, 9, 7, 4, 3]), tensor([9, 0, 7, 6, 4, 5, 3, 3, 8, 1, 3, 2, 6, 6, 6, 7, 6, 7, 2, 7, 6, 8, 3, 1,\n",
            "        9, 6, 9, 1, 7, 1, 3, 0]), tensor([8, 0, 0, 6, 3, 6, 8, 1, 7, 5, 2, 6, 3, 3, 4, 7, 0, 9, 8, 8, 1, 2, 9, 6,\n",
            "        1, 4, 3, 1, 9, 3, 5, 6]), tensor([1, 9, 7, 1, 6, 6, 0, 3, 2, 9, 3, 2, 8, 5, 1, 1, 6, 3, 7, 7, 4, 1, 4, 8,\n",
            "        6, 4, 1, 0, 4, 8, 7, 6]), tensor([1, 2, 0, 0, 3, 4, 3, 8, 5, 8, 1, 4, 4, 0, 8, 4, 3, 2, 4, 4, 2, 3, 0, 5,\n",
            "        6, 9, 2, 0, 2, 3, 7, 6]), tensor([3, 8, 6, 9, 3, 6, 1, 9, 7, 4, 1, 1, 5, 8, 8, 4, 9, 3, 9, 7, 4, 2, 0, 6,\n",
            "        5, 7, 3, 0, 2, 4, 5, 0]), tensor([7, 2, 1, 9, 9, 9, 3, 5, 2, 2, 8, 3, 3, 9, 8, 8, 6, 7, 6, 4, 6, 3, 5, 3,\n",
            "        5, 3, 8, 5, 2, 0, 3, 7]), tensor([9, 4, 3, 4, 9, 1, 5, 9, 5, 5, 8, 8, 7, 3, 4, 0, 9, 0, 2, 7, 3, 9, 7, 0,\n",
            "        4, 4, 6, 5, 7, 5, 6, 5]), tensor([5, 3, 4, 0, 6, 4, 3, 7, 2, 7, 9, 8, 6, 9, 7, 4, 7, 4, 1, 7, 6, 2, 1, 3,\n",
            "        6, 8, 0, 6, 5, 0, 7, 7]), tensor([3, 2, 1, 0, 8, 6, 7, 2, 9, 0, 9, 6, 3, 0, 0, 7, 7, 4, 7, 1, 4, 7, 8, 6,\n",
            "        9, 4, 5, 8, 3, 6, 2, 5]), tensor([8, 8, 3, 6, 5, 9, 8, 2, 8, 6, 6, 0, 0, 6, 3, 8, 4, 9, 3, 4, 4, 6, 5, 2,\n",
            "        8, 6, 1, 7, 1, 1, 4, 6]), tensor([3, 9, 1, 1, 9, 7, 0, 9, 6, 8, 4, 9, 3, 7, 1, 2, 6, 4, 2, 3, 6, 6, 9, 3,\n",
            "        1, 4, 6, 5, 2, 4, 1, 0]), tensor([5, 6, 5, 5, 8, 2, 6, 8, 7, 9, 8, 3, 7, 7, 8, 7, 5, 7, 3, 3, 0, 1, 3, 9,\n",
            "        6, 2, 4, 0, 6, 6, 1, 8]), tensor([2, 7, 0, 9, 0, 6, 3, 9, 3, 6, 9, 1, 8, 1, 5, 7, 4, 6, 7, 4, 0, 9, 6, 1,\n",
            "        3, 9, 7, 4, 1, 1, 0, 4]), tensor([5, 3, 4, 6, 0, 3, 4, 4, 1, 2, 4, 1, 8, 0, 8, 0, 4, 5, 5, 5, 4, 9, 1, 1,\n",
            "        7, 9, 7, 7, 3, 8, 1, 4]), tensor([1, 1, 4, 3, 6, 8, 2, 0, 3, 7, 4, 6, 8, 5, 3, 3, 4, 5, 5, 9, 0, 7, 7, 7,\n",
            "        0, 2, 6, 5, 6, 2, 4, 2]), tensor([8, 9, 8, 4, 1, 2, 5, 3, 8, 8, 7, 6, 1, 7, 7, 3, 4, 7, 1, 6, 5, 2, 2, 4,\n",
            "        0, 7, 0, 4, 9, 8, 9, 0]), tensor([0, 9, 1, 3, 0, 2, 6, 1, 4, 2, 7, 8, 9, 5, 1, 8, 7, 4, 5, 1, 3, 9, 7, 7,\n",
            "        6, 3, 7, 7, 5, 4, 3, 0]), tensor([7, 7, 2, 6, 3, 7, 9, 7, 9, 8, 3, 6, 7, 1, 7, 6, 5, 9, 6, 3, 4, 8, 5, 3,\n",
            "        6, 8, 7, 3, 5, 7, 0, 8]), tensor([6, 8, 6, 9, 3, 2, 5, 0, 9, 0, 9, 4, 1, 3, 3, 1, 4, 2, 2, 5, 6, 5, 9, 1,\n",
            "        7, 2, 5, 7, 4, 2, 6, 3]), tensor([4, 8, 9, 2, 8, 9, 9, 9, 5, 9, 8, 5, 8, 5, 5, 8, 7, 3, 0, 3, 6, 1, 8, 9,\n",
            "        7, 9, 3, 8, 6, 2, 9, 9]), tensor([7, 6, 2, 8, 3, 0, 5, 2, 8, 2, 6, 6, 7, 3, 5, 0, 1, 5, 4, 6, 2, 1, 8, 9,\n",
            "        1, 8, 6, 3, 0, 7, 9, 8]), tensor([5, 8, 7, 4, 2, 7, 6, 3, 3, 6, 1, 6, 7, 9, 3, 3, 6, 9, 6, 5, 4, 7, 9, 2,\n",
            "        0, 2, 6, 8, 6, 9, 5, 4]), tensor([3, 9, 2, 0, 8, 6, 6, 3, 0, 2, 5, 1, 6, 2, 2, 7, 6, 6, 4, 3, 0, 3, 9, 8,\n",
            "        7, 8, 9, 5, 3, 9, 1, 9]), tensor([8, 8, 3, 5, 7, 0, 3, 7, 1, 9, 2, 3, 6, 5, 3, 1, 4, 6, 3, 5, 7, 6, 7, 5,\n",
            "        4, 1, 7, 6, 1, 9, 9, 0]), tensor([2, 7, 6, 0, 0, 6, 4, 9, 2, 3, 7, 7, 7, 3, 1, 5, 1, 9, 9, 0, 6, 7, 0, 4,\n",
            "        0, 3, 8, 1, 7, 4, 9, 7]), tensor([9, 8, 4, 2, 7, 4, 8, 0, 1, 5, 8, 9, 3, 0, 9, 6, 3, 6, 3, 4, 9, 5, 5, 4,\n",
            "        7, 7, 4, 9, 1, 2, 7, 6]), tensor([0, 4, 0, 3, 7, 2, 3, 6, 6, 4, 7, 5, 0, 9, 6, 6, 0, 3, 7, 2, 8, 8, 7, 3,\n",
            "        3, 0, 2, 7, 4, 1, 3, 3]), tensor([5, 3, 2, 8, 2, 5, 4, 0, 6, 5, 5, 9, 8, 8, 8, 6, 1, 9, 4, 3, 1, 9, 7, 2,\n",
            "        6, 6, 7, 3, 2, 2, 8, 5]), tensor([2, 4, 0, 8, 9, 3, 1, 2, 7, 0, 8, 8, 2, 3, 8, 6, 7, 1, 8, 3, 7, 4, 6, 6,\n",
            "        6, 5, 6, 1, 4, 3, 6, 8]), tensor([7, 3, 3, 0, 6, 9, 2, 8, 5, 4, 7, 6, 8, 5, 4, 5, 8, 5, 0, 1, 6, 0, 7, 8,\n",
            "        6, 9, 3, 6, 5, 8, 2, 8]), tensor([9, 4, 8, 3, 3, 9, 1, 0, 1, 8, 6, 6, 3, 1, 0, 8, 6, 4, 6, 0, 8, 6, 8, 5,\n",
            "        9, 4, 7, 0, 4, 4, 9, 2]), tensor([3, 7, 1, 9, 3, 0, 8, 2, 4, 7, 9, 1, 4, 7, 4, 1, 5, 0, 2, 4, 0, 7, 6, 9,\n",
            "        0, 1, 4, 9, 4, 4, 6, 1]), tensor([3, 3, 9, 2, 3, 7, 1, 0, 0, 9, 7, 8, 4, 4, 7, 2, 8, 2, 7, 7, 0, 9, 1, 6,\n",
            "        2, 5, 9, 1, 6, 5, 5, 5]), tensor([3, 3, 9, 9, 4, 9, 7, 1, 4, 3, 6, 6, 3, 8, 8, 2, 5, 0, 8, 9, 1, 4, 8, 4,\n",
            "        5, 2, 5, 7, 6, 7, 6, 8]), tensor([6, 3, 4, 7, 8, 5, 4, 8, 7, 5, 3, 1, 9, 0, 4, 6, 0, 6, 8, 1, 1, 4, 4, 0,\n",
            "        3, 9, 2, 9, 3, 2, 7, 7]), tensor([9, 5, 1, 5, 8, 6, 2, 6, 3, 4, 0, 3, 7, 9, 2, 6, 4, 4, 7, 3, 6, 5, 9, 7,\n",
            "        7, 4, 2, 1, 1, 7, 6, 7]), tensor([9, 3, 8, 3, 5, 9, 3, 2, 4, 4, 8, 5, 0, 4, 7, 1, 6, 3, 9, 7, 3, 4, 7, 5,\n",
            "        9, 1, 9, 0, 6, 9, 8, 6]), tensor([9, 7, 2, 9, 6, 8, 5, 4, 7, 1, 8, 8, 1, 5, 0, 4, 9, 6, 1, 6, 2, 7, 8, 7,\n",
            "        9, 6, 0, 3, 3, 3, 4, 2]), tensor([8, 1, 7, 5, 7, 3, 9, 6, 1, 6, 3, 5, 6, 0, 9, 3, 0, 6, 7, 4, 3, 3, 3, 9,\n",
            "        2, 7, 2, 4, 4, 6, 4, 8]), tensor([7, 8, 4, 1, 7, 1, 5, 2, 4, 8, 6, 4, 7, 5, 8, 7, 8, 9, 4, 1, 1, 0, 9, 9,\n",
            "        8, 4, 6, 2, 6, 3, 7, 6]), tensor([9, 0, 0, 8, 1, 2, 3, 6, 3, 5, 2, 4, 6, 0, 6, 4, 7, 4, 3, 8, 8, 5, 3, 3,\n",
            "        0, 7, 3, 1, 6, 4, 6, 4]), tensor([0, 4, 9, 5, 8, 3, 5, 3, 8, 5, 0, 1, 3, 7, 6, 4, 8, 7, 1, 3, 9, 8, 2, 6,\n",
            "        2, 5, 5, 0, 7, 2, 8, 6]), tensor([9, 9, 7, 6, 0, 4, 5, 5, 9, 9, 5, 7, 3, 6, 2, 6, 7, 6, 2, 0, 8, 3, 8, 6,\n",
            "        1, 3, 3, 6, 5, 4, 0, 9]), tensor([9, 5, 7, 4, 2, 6, 6, 3, 4, 5, 0, 7, 7, 1, 2, 6, 0, 4, 3, 9, 2, 3, 4, 3,\n",
            "        1, 6, 5, 3, 4, 8, 7, 7]), tensor([6, 8, 3, 4, 1, 8, 2, 3, 5, 8, 0, 3, 8, 2, 4, 1, 5, 7, 3, 0, 1, 1, 5, 1,\n",
            "        1, 2, 6, 8, 6, 8, 6, 9]), tensor([4, 0, 1, 5, 2, 9, 1, 7, 8, 5, 1, 5, 9, 2, 3, 7, 2, 0, 9, 5, 9, 3, 9, 7,\n",
            "        8, 6, 2, 7, 3, 7, 5, 6]), tensor([3, 7, 9, 2, 8, 9, 2, 5, 6, 6, 2, 9, 5, 0, 4, 3, 4, 4, 4, 1, 8, 7, 2, 6,\n",
            "        4, 6, 2, 3, 9, 4, 0, 2]), tensor([9, 6, 5, 0, 2, 7, 3, 0, 9, 1, 5, 1, 3, 5, 3, 0, 6, 0, 4, 2, 1, 7, 2, 8,\n",
            "        0, 3, 7, 9, 9, 2, 7, 9]), tensor([7, 8, 2, 2, 0, 0, 6, 3, 1, 6, 7, 1, 4, 7, 9, 1, 5, 3, 4, 4, 3, 7, 2, 3,\n",
            "        0, 6, 4, 5, 1, 7, 7, 8]), tensor([0, 7, 1, 7, 7, 6, 7, 9, 3, 9, 8, 8, 1, 9, 7, 7, 4, 3, 1, 4, 2, 7, 4, 5,\n",
            "        8, 0, 5, 6, 9, 6, 7, 6]), tensor([3, 0, 3, 1, 7, 3, 4, 1, 4, 6, 8, 9, 8, 5, 8, 4, 1, 7, 3, 7, 7, 9, 6, 4,\n",
            "        8, 9, 4, 6, 2, 0, 0, 4]), tensor([8, 7, 4, 7, 3, 4, 5, 5, 7, 5, 3, 7, 9, 3, 2, 6, 7, 2, 8, 1, 9, 1, 2, 3,\n",
            "        4, 8, 6, 8, 5, 5, 0, 8]), tensor([3, 8, 8, 6, 6, 2, 7, 7, 3, 9, 8, 0, 3, 4, 6, 8, 4, 9, 6, 3, 9, 7, 4, 6,\n",
            "        8, 4, 3, 5, 0, 1, 1, 7]), tensor([1, 5, 8, 4, 7, 9, 7, 2, 7, 7, 0, 7, 1, 7, 5, 6, 4, 1, 0, 5, 4, 4, 5, 0,\n",
            "        2, 8, 9, 9, 3, 6, 7, 0]), tensor([7, 7, 9, 6, 6, 7, 3, 7, 3, 2, 0, 8, 7, 3, 1, 3, 6, 4, 6, 9, 6, 2, 6, 4,\n",
            "        7, 4, 5, 7, 6, 8, 2, 8]), tensor([7, 6, 5, 7, 8, 2, 5, 4, 4, 8, 1, 7, 6, 2, 3, 1, 8, 8, 9, 6, 0, 8, 3, 8,\n",
            "        2, 1, 7, 3, 9, 8, 0, 5]), tensor([5, 3, 4, 3, 5, 1, 7, 6, 9, 4, 8, 7, 0, 9, 9, 4, 9, 5, 9, 3, 9, 0, 9, 6,\n",
            "        8, 2, 8, 7, 7, 3, 8, 5]), tensor([2, 6, 0, 9, 1, 6, 4, 8, 7, 8, 1, 4, 5, 8, 4, 1, 7, 9, 2, 2, 0, 4, 8, 6,\n",
            "        1, 0, 9, 4, 3, 6, 4, 4]), tensor([4, 1, 3, 4, 1, 2, 4, 4, 1, 9, 3, 6, 1, 8, 9, 9, 0, 3, 2, 3, 4, 9, 0, 7,\n",
            "        7, 7, 5, 7, 9, 0, 7, 1]), tensor([3, 9, 2, 3, 0, 5, 8, 0, 8, 0, 5, 3, 1, 8, 9, 2, 6, 1, 4, 5, 7, 8, 2, 1,\n",
            "        8, 3, 3, 4, 1, 6, 4, 3]), tensor([5, 0, 8, 8, 2, 9, 4, 1, 0, 0, 3, 1, 7, 4, 0, 8, 6, 9, 0, 0, 5, 9, 5, 5,\n",
            "        5, 0, 7, 4, 6, 3, 4, 2]), tensor([8, 8, 3, 8, 0, 9, 4, 7, 3, 5, 5, 1, 9, 9, 5, 2, 4, 6, 5, 4, 6, 2, 8, 6,\n",
            "        1, 0, 1, 2, 1, 3, 7, 7]), tensor([8, 6, 3, 6, 7, 7, 5, 1, 8, 4, 4, 7, 7, 6, 2, 0, 4, 8, 7, 1, 9, 4, 6, 9,\n",
            "        2, 5, 2, 3, 3, 8, 0, 2]), tensor([3, 7, 9, 5, 4, 7, 9, 6, 5, 3, 9, 8, 1, 4, 1, 6, 0, 1, 2, 5, 9, 0, 6, 2,\n",
            "        7, 5, 2, 6, 4, 2, 0, 7]), tensor([2, 3, 4, 9, 8, 9, 0, 7, 4, 2, 3, 4, 1, 2, 5, 7, 8, 8, 1, 5, 1, 3, 2, 6,\n",
            "        5, 3, 7, 1, 8, 4, 0, 1]), tensor([3, 8, 3, 9, 7, 3, 7, 6, 3, 0, 6, 8, 6, 6, 2, 0, 1, 9, 4, 4, 4, 9, 2, 5,\n",
            "        9, 4, 7, 3, 3, 7, 4, 6]), tensor([9, 3, 1, 2, 2, 2, 6, 2, 3, 0, 1, 6, 8, 5, 4, 4, 3, 1, 5, 9, 3, 9, 7, 0,\n",
            "        3, 8, 7, 8, 3, 1, 2, 9]), tensor([2, 3, 7, 0, 8, 9, 8, 4, 3, 7, 3, 5, 1, 1, 7, 3, 2, 1, 2, 1, 9, 7, 5, 9,\n",
            "        1, 6, 4, 4, 0, 9, 2, 9]), tensor([8, 5, 7, 7, 4, 8, 3, 3, 2, 8, 6, 1, 5, 3, 8, 4, 0, 1, 4, 2, 3, 9, 4, 4,\n",
            "        5, 8, 9, 0, 7, 6, 7, 6]), tensor([2, 9, 9, 6, 5, 1, 7, 6, 0, 2, 3, 5, 8, 0, 5, 0, 7, 3, 1, 6, 7, 4, 3, 0,\n",
            "        3, 0, 6, 7, 7, 4, 3, 4]), tensor([7, 8, 5, 0, 7, 6, 9, 6, 7, 5, 5, 2, 3, 0, 3, 7, 1, 8, 2, 6, 9, 6, 2, 1,\n",
            "        3, 5, 4, 1, 8, 5, 9, 7]), tensor([9, 0, 7, 4, 5, 6, 5, 3, 8, 4, 1, 5, 7, 7, 5, 7, 6, 8, 8, 7, 0, 2, 4, 1,\n",
            "        8, 1, 1, 4, 3, 2, 8, 1]), tensor([9, 2, 4, 8, 0, 3, 9, 2, 9, 4, 1, 6, 5, 3, 3, 8, 3, 0, 9, 3, 4, 5, 6, 2,\n",
            "        4, 6, 4, 2, 7, 6, 0, 7]), tensor([6, 8, 1, 7, 4, 5, 4, 6, 1, 0, 9, 8, 4, 7, 3, 3, 2, 4, 1, 0, 5, 2, 6, 6,\n",
            "        8, 9, 5, 2, 2, 3, 9, 1]), tensor([9, 4, 7, 2, 9, 5, 9, 7, 9, 8, 7, 3, 7, 2, 3, 6, 6, 5, 6, 4, 2, 1, 7, 9,\n",
            "        2, 3, 6, 3, 6, 6, 4, 0]), tensor([4, 3, 3, 1, 5, 9, 2, 9, 6, 7, 6, 2, 5, 8, 7, 8, 8, 4, 0, 3, 7, 3, 4, 2,\n",
            "        6, 4, 8, 9, 7, 0, 1, 7]), tensor([6, 0, 7, 9, 2, 2, 2, 6, 1, 1, 5, 4, 4, 4, 8, 3, 4, 7, 3, 4, 2, 6, 6, 6,\n",
            "        0, 4, 4, 6, 0, 1, 0, 2]), tensor([3, 9, 7, 7, 5, 4, 8, 8, 0, 3, 6, 1, 6, 8, 7, 6, 4, 3, 2, 1, 0, 2, 7, 7,\n",
            "        4, 1, 4, 3, 0, 0, 5, 2]), tensor([7, 0, 6, 7, 3, 3, 0, 4, 0, 1, 2, 9, 4, 7, 7, 5, 9, 1, 7, 1, 9, 3, 5, 7,\n",
            "        1, 0, 2, 8, 9, 9, 5, 6]), tensor([8, 0, 6, 8, 9, 1, 3, 7, 1, 4, 0, 6, 1, 8, 9, 4, 7, 8, 3, 2, 5, 7, 3, 3,\n",
            "        5, 8, 9, 8, 1, 5, 6, 2]), tensor([7, 8, 8, 3, 0, 9, 0, 1, 2, 3, 1, 6, 3, 9, 3, 8, 6, 2, 6, 4, 7, 2, 2, 8,\n",
            "        4, 8, 0, 1, 4, 1, 5, 6]), tensor([3, 3, 6, 0, 1, 8, 9, 2, 4, 4, 2, 3, 7, 3, 7, 3, 5, 3, 5, 0, 0, 2, 2, 9,\n",
            "        8, 0, 3, 1, 8, 1, 4, 2]), tensor([9, 4, 5, 3, 6, 2, 9, 7, 0, 6, 3, 0, 9, 5, 6, 1, 4, 6, 6, 7, 4, 3, 7, 7,\n",
            "        7, 6, 4, 8, 3, 1, 2, 8]), tensor([7, 3, 2, 6, 3, 3, 7, 3, 3, 4, 0, 7, 5, 9, 5, 6, 8, 7, 0, 1, 6, 2, 1, 6,\n",
            "        9, 5, 7, 5, 2, 0, 4, 8]), tensor([5, 5, 3, 1, 7, 4, 5, 0, 2, 4, 5, 3, 2, 4, 5, 0, 0, 3, 1, 9, 8, 1, 9, 6,\n",
            "        7, 0, 7, 2, 8, 7, 1, 5]), tensor([9, 5, 9, 2, 9, 9, 4, 0, 1, 9, 5, 7, 6, 6, 7, 4, 5, 4, 7, 4, 8, 8, 4, 2,\n",
            "        3, 4, 3, 5, 5, 4, 7, 0]), tensor([5, 7, 0, 6, 8, 3, 3, 9, 3, 3, 5, 5, 7, 3, 2, 1, 7, 8, 2, 1, 4, 4, 1, 2,\n",
            "        4, 2, 2, 5, 4, 8, 7, 2]), tensor([9, 2, 5, 0, 2, 0, 5, 1, 2, 2, 9, 8, 4, 3, 6, 2, 8, 5, 4, 7, 5, 0, 1, 4,\n",
            "        3, 1, 2, 9, 1, 9, 1, 3]), tensor([8, 6, 9, 7, 1, 1, 2, 6, 8, 9, 1, 0, 3, 6, 5, 3, 8, 5, 7, 4, 4, 2, 4, 6,\n",
            "        1, 1, 4, 5, 0, 4, 7, 4]), tensor([4, 2, 9, 5, 7, 2, 6, 8, 3, 5, 0, 7, 8, 1, 0, 6, 6, 1, 0, 3, 0, 3, 3, 6,\n",
            "        6, 3, 9, 2, 3, 4, 0, 5]), tensor([3, 8, 5, 9, 9, 0, 8, 7, 6, 8, 2, 2, 4, 4, 5, 6, 4, 6, 6, 4, 5, 3, 1, 6,\n",
            "        6, 8, 2, 6, 0, 7, 3, 4]), tensor([6, 2, 5, 4, 5, 0, 4, 7, 9, 9, 1, 3, 5, 0, 6, 4, 4, 7, 4, 6, 4, 3, 7, 1,\n",
            "        6, 0, 2, 1, 8, 0, 1, 1]), tensor([2, 4, 6, 3, 8, 7, 8, 8, 1, 6, 3, 2, 7, 2, 3, 0, 7, 7, 6, 3, 6, 4, 5, 7,\n",
            "        5, 5, 9, 3, 3, 9, 9, 0]), tensor([4, 3, 6, 0, 5, 1, 7, 7, 1, 1, 6, 2, 7, 0, 8, 6, 5, 3, 1, 8, 7, 4, 8, 4,\n",
            "        6, 1, 0, 1, 2, 9, 6, 2]), tensor([1, 2, 9, 6, 3, 3, 7, 7, 6, 5, 4, 8, 3, 0, 6, 2, 5, 9, 3, 8, 8, 4, 2, 7,\n",
            "        2, 8, 6, 4, 4, 7, 2, 7]), tensor([4, 9, 5, 7, 8, 0, 3, 3, 6, 1, 4, 4, 5, 2, 7, 8])]\n"
          ]
        },
        {
          "output_type": "execute_result",
          "data": {
            "text/plain": [
              "tensor([3, 4, 1, 6, 7, 3, 0, 1, 2, 9])"
            ]
          },
          "metadata": {},
          "execution_count": 48
        }
      ]
    },
    {
      "cell_type": "code",
      "source": [
        "!pip install -q torchmetrics -U mlxtend"
      ],
      "metadata": {
        "colab": {
          "base_uri": "https://localhost:8080/"
        },
        "id": "yKuqWtTl6G6y",
        "outputId": "147afb5e-a430-4fb3-a3a6-98b4f2d6a933"
      },
      "execution_count": null,
      "outputs": [
        {
          "output_type": "stream",
          "name": "stdout",
          "text": [
            "\u001b[?25l   \u001b[90m━━━━━━━━━━━━━━━━━━━━━━━━━━━━━━━━━━━━━━━━\u001b[0m \u001b[32m0.0/866.2 kB\u001b[0m \u001b[31m?\u001b[0m eta \u001b[36m-:--:--\u001b[0m\r\u001b[2K   \u001b[91m━━━━━━━━━━━━━━━━━━━━━━━━━━━━━━━━━━━━━━━\u001b[0m\u001b[91m╸\u001b[0m \u001b[32m860.2/866.2 kB\u001b[0m \u001b[31m35.5 MB/s\u001b[0m eta \u001b[36m0:00:01\u001b[0m\r\u001b[2K   \u001b[90m━━━━━━━━━━━━━━━━━━━━━━━━━━━━━━━━━━━━━━━━\u001b[0m \u001b[32m866.2/866.2 kB\u001b[0m \u001b[31m22.2 MB/s\u001b[0m eta \u001b[36m0:00:00\u001b[0m\n",
            "\u001b[?25h"
          ]
        }
      ]
    },
    {
      "cell_type": "code",
      "source": [
        "import mlxtend"
      ],
      "metadata": {
        "id": "I6ZIkCp554SH"
      },
      "execution_count": null,
      "outputs": []
    },
    {
      "cell_type": "code",
      "source": [
        "from torchmetrics import ConfusionMatrix\n",
        "from mlxtend.plotting import plot_confusion_matrix\n",
        "\n",
        "# Specify the task as \"multiclass\" since you are dealing with multiple classes\n",
        "confmat = ConfusionMatrix(task=\"multiclass\", num_classes=len(class_name))\n",
        "\n",
        "confmat_tensor = confmat(preds=y_pred_tensor, target=test_data.targets)\n",
        "confmat_tensor"
      ],
      "metadata": {
        "colab": {
          "base_uri": "https://localhost:8080/"
        },
        "id": "xg_K7N9I92Cs",
        "outputId": "30b7d5f3-db94-4cbb-8799-f743b40ae7b6"
      },
      "execution_count": null,
      "outputs": [
        {
          "output_type": "execute_result",
          "data": {
            "text/plain": [
              "tensor([[ 71, 116,  83, 120, 121,  83, 124,  97,  85, 100],\n",
              "        [ 84,  98,  88, 111, 117,  91, 110, 113,  86, 102],\n",
              "        [ 80,  84,  88, 119, 106,  99, 130, 103, 102,  89],\n",
              "        [ 83,  76,  95, 119, 104,  77, 147, 110,  91,  98],\n",
              "        [ 97,  81, 107, 113, 114,  74, 123, 116,  85,  90],\n",
              "        [ 75,  85,  99, 125,  98,  86, 108, 122, 100, 102],\n",
              "        [ 81,  83, 107, 107, 115,  67, 115, 118, 117,  90],\n",
              "        [ 82,  96,  79, 123, 103,  86, 116, 125,  87, 103],\n",
              "        [ 84,  86,  98, 123,  85,  93, 114, 120,  93, 104],\n",
              "        [ 86,  81,  94, 105, 102,  93, 121, 123, 104,  91]])"
            ]
          },
          "metadata": {},
          "execution_count": 57
        }
      ]
    },
    {
      "cell_type": "code",
      "source": [
        "fig,ax=plot_confusion_matrix(\n",
        "    conf_mat=confmat_tensor.numpy(),\n",
        "    figsize=(10,7),\n",
        "    class_names=class_name,\n",
        "    show_normed=True\n",
        ")"
      ],
      "metadata": {
        "colab": {
          "base_uri": "https://localhost:8080/",
          "height": 667
        },
        "id": "XGxb_lpn-4Az",
        "outputId": "59c320af-3c16-47eb-b0ee-34e9506c7064"
      },
      "execution_count": null,
      "outputs": [
        {
          "output_type": "display_data",
          "data": {
            "text/plain": [
              "<Figure size 1000x700 with 1 Axes>"
            ],
            "image/png": "[encoded data removed]"
          },
          "metadata": {}
        }
      ]
    },
    {
      "cell_type": "code",
      "source": [
        "from pathlib import Path\n",
        "MODEL_PATH=Path(\"Models\")\n",
        "MODEL_PATH.mkdir(parents=True,exist_ok=True)\n",
        "MODEL_NAME=\"fashion_mnist_model_2.pth\"\n",
        "MODEL_SAVE_PATH=MODEL_PATH/MODEL_NAME\n",
        "torch.save(obj=model_2.state_dict(),f=MODEL_SAVE_PATH)\n"
      ],
      "metadata": {
        "id": "rMeakYei_kaZ"
      },
      "execution_count": null,
      "outputs": []
    },
    {
      "cell_type": "code",
      "source": [
        "image_shape=[1,28,28]"
      ],
      "metadata": {
        "id": "wUgJVxipBaJm"
      },
      "execution_count": null,
      "outputs": []
    },
    {
      "cell_type": "code",
      "source": [
        "torch.manual_seed(42)\n",
        "loaded_model_2=FashionMNISTModelV2(input_shape=1,hidden_units=10,output_shape=len(class_name))\n",
        "loaded_model_2.load_state_dict(torch.load(f=MODEL_SAVE_PATH))"
      ],
      "metadata": {
        "colab": {
          "base_uri": "https://localhost:8080/"
        },
        "id": "bl8OdOfTA-DD",
        "outputId": "2ca8d357-8c2f-4feb-ddd9-b023b8f11296"
      },
      "execution_count": null,
      "outputs": [
        {
          "output_type": "execute_result",
          "data": {
            "text/plain": [
              "<All keys matched successfully>"
            ]
          },
          "metadata": {},
          "execution_count": 65
        }
      ]
    },
    {
      "cell_type": "code",
      "source": [
        "model_2_results"
      ],
      "metadata": {
        "colab": {
          "base_uri": "https://localhost:8080/",
          "height": 120
        },
        "id": "I06kJCA6BXUB",
        "outputId": "4c4a1dfe-2df1-4748-9782-07fa2de2d8dd"
      },
      "execution_count": null,
      "outputs": [
        {
          "output_type": "execute_result",
          "data": {
            "text/plain": [
              "<function __main__.eval_model(model: torch.nn.modules.module.Module, data_loader: torch.utils.data.dataloader.DataLoader, loss_fn: torch.nn.modules.module.Module, accuracy_fn)>"
            ],
            "text/html": [
              "<div style=\"max-width:800px; border: 1px solid var(--colab-border-color);\"><style>\n",
              "      pre.function-repr-contents {\n",
              "        overflow-x: auto;\n",
              "        padding: 8px 12px;\n",
              "        max-height: 500px;\n",
              "      }\n",
              "\n",
              "      pre.function-repr-contents.function-repr-contents-collapsed {\n",
              "        cursor: pointer;\n",
              "        max-height: 100px;\n",
              "      }\n",
              "    </style>\n",
              "    <pre style=\"white-space: initial; background:\n",
              "         var(--colab-secondary-surface-color); padding: 8px 12px;\n",
              "         border-bottom: 1px solid var(--colab-border-color);\"><b>eval_model</b><br/>def eval_model(model: torch.nn.Module, data_loader: torch.utils.data.DataLoader, loss_fn: torch.nn.Module, accuracy_fn)</pre><pre class=\"function-repr-contents function-repr-contents-collapsed\" style=\"\"><a class=\"filepath\" style=\"display:none\" href=\"#\">/content/&lt;ipython-input-24-5f6f83477b10&gt;</a>&lt;no docstring&gt;</pre></div>"
            ]
          },
          "metadata": {},
          "execution_count": 67
        }
      ]
    },
    {
      "cell_type": "code",
      "source": [
        "torch.manual_seed(42)\n",
        "loaded_model_2_results=eval_model(\n",
        "    model=loaded_model_2,\n",
        "    data_loader=test_dataloader,\n",
        "    loss_fn=loss_fn,\n",
        "    accuracy_fn=accuracy_fn\n",
        ")\n",
        "loaded_model_2_results"
      ],
      "metadata": {
        "colab": {
          "base_uri": "https://localhost:8080/",
          "height": 101,
          "referenced_widgets": [
            "449ae100d2844ddc98028c38f6057e67",
            "140571976b5d4ac18726afd2c4eca0d1",
            "9fd5a1d663004102864c503e3c95eadb",
            "0bd67a67b1a2478689bf54642d937eae",
            "f5ae5b870aa8433ea5c18887014530b3",
            "da99a996980447338e4244919c6b7800",
            "e67f57e9bcff43b9bb29c0b2d4dd124f",
            "437cd5ff33a44a37a72f24d6d9a47f7d",
            "0a38c36fcd084c5faf313e5c994b1ede",
            "3d749d556189469d85295a82285367b8",
            "218b6a13503e4320a1485f0269e46318"
          ]
        },
        "id": "1P9YmAWiB-DX",
        "outputId": "91207aa6-463f-4937-ef1a-bcf00a8d9dfe"
      },
      "execution_count": null,
      "outputs": [
        {
          "output_type": "display_data",
          "data": {
            "text/plain": [
              "  0%|          | 0/313 [00:00<?, ?it/s]"
            ],
            "application/vnd.jupyter.widget-view+json": {
              "version_major": 2,
              "version_minor": 0,
              "model_id": "449ae100d2844ddc98028c38f6057e67"
            }
          },
          "metadata": {}
        },
        {
          "output_type": "execute_result",
          "data": {
            "text/plain": [
              "{'model_name': 'FashionMNISTModelV2',\n",
              " 'model_loss': 0.3324296474456787,\n",
              " 'model_acc': 88.16892971246007}"
            ]
          },
          "metadata": {},
          "execution_count": 69
        }
      ]
    },
    {
      "cell_type": "code",
      "source": [],
      "metadata": {
        "id": "PifeDqmJEPpc"
      },
      "execution_count": null,
      "outputs": []
    }
  ]
}